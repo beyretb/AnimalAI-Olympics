{
 "cells": [
  {
   "cell_type": "code",
   "execution_count": 5,
   "metadata": {},
   "outputs": [
    {
     "name": "stdout",
     "output_type": "stream",
     "text": [
      "AnimalAI:\n",
      "    trainer: ppo\n",
      "    epsilon: 0.2\n",
      "    lambd: 0.95\n",
      "    learning_rate: 3.0e-4\n",
      "    learning_rate_schedule: linear\n",
      "    memory_size: 128\n",
      "    normalize: false\n",
      "    sequence_length: 64\n",
      "    summary_freq: 10000\n",
      "    use_recurrent: false\n",
      "    # vis_encode_type: simple\n",
      "    time_horizon: 128\n",
      "    batch_size: 64\n",
      "    buffer_size: 2024\n",
      "    hidden_units: 100\n",
      "    num_layers: 1\n",
      "    beta: 1.0e-2\n",
      "    max_steps: 1.0e7\n",
      "    num_epoch: 3\n",
      "    reward_signals:\n",
      "        extrinsic:\n",
      "            strength: 1.0\n",
      "            gamma: 0.99\n",
      "        curiosity:\n",
      "            strength: 0.01\n",
      "            gamma: 0.99\n",
      "            encoding_size: 128\n"
     ]
    }
   ],
   "source": [
    "\n",
    "import os\n",
    "\n",
    "import sys\n",
    "# if \"/Users/ludo/Desktop/animalai/animalai/animalai_train\" not in sys.path:\n",
    "#     sys.path.insert(0, \"/Users/ludo/Desktop/animalai/animalai/animalai_train\")\n",
    "# if  \"/Users/ludo/Desktop/animalai/animalai/animalai\" not in sys.path:\n",
    "#     sys.path.insert(1, \"/Users/ludo/Desktop/animalai/animalai/animalai\")\n",
    "\n",
    "from animalai.envs.environment import AnimalAIEnvironment\n",
    "\n",
    "import warnings\n",
    "warnings.filterwarnings('ignore')\n",
    "import tensorflow as tf\n",
    "tf.compat.v1.logging.set_verbosity(tf.compat.v1.logging.ERROR)\n",
    "\n",
    "from mlagents.trainers.trainer_util import load_config;\n",
    "from animalai_train.run_options_aai import RunOptionsAAI;\n",
    "from animalai_train.run_training_aai import run_training_aai;\n",
    "\n",
    "trainer_config_path = \"configurations/training_configurations/no_vis_config.yaml\"\n",
    "\n",
    "with open(trainer_config_path) as f:\n",
    "    print(f.read())\n",
    "\n"
   ]
  },
  {
   "cell_type": "code",
   "execution_count": 2,
   "metadata": {},
   "outputs": [],
   "source": [
    "environment_path = \"../env/env8\"\n",
    "curriculum_path = \"configurations/curriculum1\"\n",
    "run_id = \"blindgotox1\"\n",
    "base_port = 5005\n",
    "number_of_environments = 1\n",
    "number_of_arenas_per_environment = 1\n",
    "\n",
    "args = RunOptionsAAI(\n",
    "    trainer_config=load_config(trainer_config_path),\n",
    "    env_path=environment_path,\n",
    "    run_id=run_id,\n",
    "    base_port=base_port,\n",
    "    num_envs=number_of_environments,\n",
    "    curriculum_config=curriculum_path,\n",
    "    n_arenas_per_env=number_of_arenas_per_environment,\n",
    ")"
   ]
  },
  {
   "cell_type": "code",
   "execution_count": null,
   "metadata": {},
   "outputs": [],
   "source": [
    "#TRAIN\n",
    "\n",
    "# logging.getLogger('tensorflow').disabled = True\n",
    "\n",
    "logs_dir = \"summaries/\"\n",
    "os.makedirs(logs_dir, exist_ok=True)\n",
    "%load_ext tensorboard\n",
    "%tensorboard --logdir {logs_dir}\n",
    "\n",
    "run_training_aai(0, args)"
   ]
  },
  {
   "cell_type": "code",
   "execution_count": 7,
   "metadata": {},
   "outputs": [
    {
     "ename": "InvalidArgumentError",
     "evalue": "Restoring from checkpoint failed. This is most likely due to a mismatch between the current graph and the graph from the checkpoint. Please ensure that you have not altered the graph expected based on the checkpoint. Original error:\n\nAssign requires shapes of both tensors to match. lhs shape= [9,100] rhs shape= [10,100]\n\t [[node save_1/Assign_23 (defined at /Users/ludo/Desktop/animalai/lib/python3.6/site-packages/tensorflow_core/python/framework/ops.py:1748) ]]\n\nOriginal stack trace for 'save_1/Assign_23':\n  File \"/Library/Frameworks/Python.framework/Versions/3.6/lib/python3.6/runpy.py\", line 193, in _run_module_as_main\n    \"__main__\", mod_spec)\n  File \"/Library/Frameworks/Python.framework/Versions/3.6/lib/python3.6/runpy.py\", line 85, in _run_code\n    exec(code, run_globals)\n  File \"/Users/ludo/Desktop/animalai/lib/python3.6/site-packages/ipykernel_launcher.py\", line 16, in <module>\n    app.launch_new_instance()\n  File \"/Users/ludo/Desktop/animalai/lib/python3.6/site-packages/traitlets/config/application.py\", line 664, in launch_instance\n    app.start()\n  File \"/Users/ludo/Desktop/animalai/lib/python3.6/site-packages/ipykernel/kernelapp.py\", line 597, in start\n    self.io_loop.start()\n  File \"/Users/ludo/Desktop/animalai/lib/python3.6/site-packages/tornado/platform/asyncio.py\", line 149, in start\n    self.asyncio_loop.run_forever()\n  File \"/Library/Frameworks/Python.framework/Versions/3.6/lib/python3.6/asyncio/base_events.py\", line 421, in run_forever\n    self._run_once()\n  File \"/Library/Frameworks/Python.framework/Versions/3.6/lib/python3.6/asyncio/base_events.py\", line 1426, in _run_once\n    handle._run()\n  File \"/Library/Frameworks/Python.framework/Versions/3.6/lib/python3.6/asyncio/events.py\", line 127, in _run\n    self._callback(*self._args)\n  File \"/Users/ludo/Desktop/animalai/lib/python3.6/site-packages/tornado/ioloop.py\", line 690, in <lambda>\n    lambda f: self._run_callback(functools.partial(callback, future))\n  File \"/Users/ludo/Desktop/animalai/lib/python3.6/site-packages/tornado/ioloop.py\", line 743, in _run_callback\n    ret = callback()\n  File \"/Users/ludo/Desktop/animalai/lib/python3.6/site-packages/tornado/gen.py\", line 787, in inner\n    self.run()\n  File \"/Users/ludo/Desktop/animalai/lib/python3.6/site-packages/tornado/gen.py\", line 748, in run\n    yielded = self.gen.send(value)\n  File \"/Users/ludo/Desktop/animalai/lib/python3.6/site-packages/ipykernel/kernelbase.py\", line 365, in process_one\n    yield gen.maybe_future(dispatch(*args))\n  File \"/Users/ludo/Desktop/animalai/lib/python3.6/site-packages/tornado/gen.py\", line 209, in wrapper\n    yielded = next(result)\n  File \"/Users/ludo/Desktop/animalai/lib/python3.6/site-packages/ipykernel/kernelbase.py\", line 268, in dispatch_shell\n    yield gen.maybe_future(handler(stream, idents, msg))\n  File \"/Users/ludo/Desktop/animalai/lib/python3.6/site-packages/tornado/gen.py\", line 209, in wrapper\n    yielded = next(result)\n  File \"/Users/ludo/Desktop/animalai/lib/python3.6/site-packages/ipykernel/kernelbase.py\", line 545, in execute_request\n    user_expressions, allow_stdin,\n  File \"/Users/ludo/Desktop/animalai/lib/python3.6/site-packages/tornado/gen.py\", line 209, in wrapper\n    yielded = next(result)\n  File \"/Users/ludo/Desktop/animalai/lib/python3.6/site-packages/ipykernel/ipkernel.py\", line 300, in do_execute\n    res = shell.run_cell(code, store_history=store_history, silent=silent)\n  File \"/Users/ludo/Desktop/animalai/lib/python3.6/site-packages/ipykernel/zmqshell.py\", line 536, in run_cell\n    return super(ZMQInteractiveShell, self).run_cell(*args, **kwargs)\n  File \"/Users/ludo/Desktop/animalai/lib/python3.6/site-packages/IPython/core/interactiveshell.py\", line 2858, in run_cell\n    raw_cell, store_history, silent, shell_futures)\n  File \"/Users/ludo/Desktop/animalai/lib/python3.6/site-packages/IPython/core/interactiveshell.py\", line 2886, in _run_cell\n    return runner(coro)\n  File \"/Users/ludo/Desktop/animalai/lib/python3.6/site-packages/IPython/core/async_helpers.py\", line 68, in _pseudo_sync_runner\n    coro.send(None)\n  File \"/Users/ludo/Desktop/animalai/lib/python3.6/site-packages/IPython/core/interactiveshell.py\", line 3063, in run_cell_async\n    interactivity=interactivity, compiler=compiler, result=result)\n  File \"/Users/ludo/Desktop/animalai/lib/python3.6/site-packages/IPython/core/interactiveshell.py\", line 3254, in run_ast_nodes\n    if (await self.run_code(code, result,  async_=asy)):\n  File \"/Users/ludo/Desktop/animalai/lib/python3.6/site-packages/IPython/core/interactiveshell.py\", line 3331, in run_code\n    exec(code_obj, self.user_global_ns, self.user_ns)\n  File \"<ipython-input-7-8d40ab13ce6a>\", line 16, in <module>\n    run_training_aai(0, args)\n  File \"/Users/ludo/Desktop/animalai/lib/python3.6/site-packages/animalai_train/run_training_aai.py\", line 113, in run_training_aai\n    tc.start_learning(env_manager)\n  File \"/Users/ludo/Desktop/animalai/lib/python3.6/site-packages/mlagents_envs/timers.py\", line 258, in wrapped\n    return func(*args, **kwargs)\n  File \"/Users/ludo/Desktop/animalai/lib/python3.6/site-packages/mlagents/trainers/trainer_controller.py\", line 205, in start_learning\n    self._create_trainers_and_managers(env_manager, new_behavior_ids)\n  File \"/Users/ludo/Desktop/animalai/lib/python3.6/site-packages/mlagents/trainers/trainer_controller.py\", line 191, in _create_trainers_and_managers\n    self._create_trainer_and_manager(env_manager, behavior_id)\n  File \"/Users/ludo/Desktop/animalai/lib/python3.6/site-packages/mlagents/trainers/trainer_controller.py\", line 172, in _create_trainer_and_manager\n    trainer.add_policy(name_behavior_id, policy)\n  File \"/Users/ludo/Desktop/animalai/lib/python3.6/site-packages/mlagents/trainers/ppo/trainer.py\", line 259, in add_policy\n    self.optimizer = PPOOptimizer(self.policy, self.trainer_parameters)\n  File \"/Users/ludo/Desktop/animalai/lib/python3.6/site-packages/mlagents/trainers/ppo/optimizer.py\", line 90, in __init__\n    self.policy.initialize_or_load()\n  File \"/Users/ludo/Desktop/animalai/lib/python3.6/site-packages/mlagents/trainers/policy/tf_policy.py\", line 127, in initialize_or_load\n    self._load_graph()\n  File \"/Users/ludo/Desktop/animalai/lib/python3.6/site-packages/mlagents/trainers/policy/tf_policy.py\", line 114, in _load_graph\n    self.saver = tf.train.Saver(max_to_keep=self.keep_checkpoints)\n  File \"/Users/ludo/Desktop/animalai/lib/python3.6/site-packages/tensorflow_core/python/training/saver.py\", line 828, in __init__\n    self.build()\n  File \"/Users/ludo/Desktop/animalai/lib/python3.6/site-packages/tensorflow_core/python/training/saver.py\", line 840, in build\n    self._build(self._filename, build_save=True, build_restore=True)\n  File \"/Users/ludo/Desktop/animalai/lib/python3.6/site-packages/tensorflow_core/python/training/saver.py\", line 878, in _build\n    build_restore=build_restore)\n  File \"/Users/ludo/Desktop/animalai/lib/python3.6/site-packages/tensorflow_core/python/training/saver.py\", line 508, in _build_internal\n    restore_sequentially, reshape)\n  File \"/Users/ludo/Desktop/animalai/lib/python3.6/site-packages/tensorflow_core/python/training/saver.py\", line 350, in _AddRestoreOps\n    assign_ops.append(saveable.restore(saveable_tensors, shapes))\n  File \"/Users/ludo/Desktop/animalai/lib/python3.6/site-packages/tensorflow_core/python/training/saving/saveable_object_util.py\", line 73, in restore\n    self.op.get_shape().is_fully_defined())\n  File \"/Users/ludo/Desktop/animalai/lib/python3.6/site-packages/tensorflow_core/python/ops/state_ops.py\", line 227, in assign\n    validate_shape=validate_shape)\n  File \"/Users/ludo/Desktop/animalai/lib/python3.6/site-packages/tensorflow_core/python/ops/gen_state_ops.py\", line 66, in assign\n    use_locking=use_locking, name=name)\n  File \"/Users/ludo/Desktop/animalai/lib/python3.6/site-packages/tensorflow_core/python/framework/op_def_library.py\", line 794, in _apply_op_helper\n    op_def=op_def)\n  File \"/Users/ludo/Desktop/animalai/lib/python3.6/site-packages/tensorflow_core/python/util/deprecation.py\", line 507, in new_func\n    return func(*args, **kwargs)\n  File \"/Users/ludo/Desktop/animalai/lib/python3.6/site-packages/tensorflow_core/python/framework/ops.py\", line 3357, in create_op\n    attrs, op_def, compute_device)\n  File \"/Users/ludo/Desktop/animalai/lib/python3.6/site-packages/tensorflow_core/python/framework/ops.py\", line 3426, in _create_op_internal\n    op_def=op_def)\n  File \"/Users/ludo/Desktop/animalai/lib/python3.6/site-packages/tensorflow_core/python/framework/ops.py\", line 1748, in __init__\n    self._traceback = tf_stack.extract_stack()\n",
     "output_type": "error",
     "traceback": [
      "\u001b[0;31m---------------------------------------------------------------------------\u001b[0m",
      "\u001b[0;31mInvalidArgumentError\u001b[0m                      Traceback (most recent call last)",
      "\u001b[0;32m~/Desktop/animalai/lib/python3.6/site-packages/tensorflow_core/python/client/session.py\u001b[0m in \u001b[0;36m_do_call\u001b[0;34m(self, fn, *args)\u001b[0m\n\u001b[1;32m   1364\u001b[0m     \u001b[0;32mtry\u001b[0m\u001b[0;34m:\u001b[0m\u001b[0;34m\u001b[0m\u001b[0m\n\u001b[0;32m-> 1365\u001b[0;31m       \u001b[0;32mreturn\u001b[0m \u001b[0mfn\u001b[0m\u001b[0;34m(\u001b[0m\u001b[0;34m*\u001b[0m\u001b[0margs\u001b[0m\u001b[0;34m)\u001b[0m\u001b[0;34m\u001b[0m\u001b[0m\n\u001b[0m\u001b[1;32m   1366\u001b[0m     \u001b[0;32mexcept\u001b[0m \u001b[0merrors\u001b[0m\u001b[0;34m.\u001b[0m\u001b[0mOpError\u001b[0m \u001b[0;32mas\u001b[0m \u001b[0me\u001b[0m\u001b[0;34m:\u001b[0m\u001b[0;34m\u001b[0m\u001b[0m\n",
      "\u001b[0;32m~/Desktop/animalai/lib/python3.6/site-packages/tensorflow_core/python/client/session.py\u001b[0m in \u001b[0;36m_run_fn\u001b[0;34m(feed_dict, fetch_list, target_list, options, run_metadata)\u001b[0m\n\u001b[1;32m   1349\u001b[0m       return self._call_tf_sessionrun(options, feed_dict, fetch_list,\n\u001b[0;32m-> 1350\u001b[0;31m                                       target_list, run_metadata)\n\u001b[0m\u001b[1;32m   1351\u001b[0m \u001b[0;34m\u001b[0m\u001b[0m\n",
      "\u001b[0;32m~/Desktop/animalai/lib/python3.6/site-packages/tensorflow_core/python/client/session.py\u001b[0m in \u001b[0;36m_call_tf_sessionrun\u001b[0;34m(self, options, feed_dict, fetch_list, target_list, run_metadata)\u001b[0m\n\u001b[1;32m   1442\u001b[0m                                             \u001b[0mfetch_list\u001b[0m\u001b[0;34m,\u001b[0m \u001b[0mtarget_list\u001b[0m\u001b[0;34m,\u001b[0m\u001b[0;34m\u001b[0m\u001b[0m\n\u001b[0;32m-> 1443\u001b[0;31m                                             run_metadata)\n\u001b[0m\u001b[1;32m   1444\u001b[0m \u001b[0;34m\u001b[0m\u001b[0m\n",
      "\u001b[0;31mInvalidArgumentError\u001b[0m: Assign requires shapes of both tensors to match. lhs shape= [9,100] rhs shape= [10,100]\n\t [[{{node save_1/Assign_23}}]]",
      "\nDuring handling of the above exception, another exception occurred:\n",
      "\u001b[0;31mInvalidArgumentError\u001b[0m                      Traceback (most recent call last)",
      "\u001b[0;32m~/Desktop/animalai/lib/python3.6/site-packages/tensorflow_core/python/training/saver.py\u001b[0m in \u001b[0;36mrestore\u001b[0;34m(self, sess, save_path)\u001b[0m\n\u001b[1;32m   1289\u001b[0m         sess.run(self.saver_def.restore_op_name,\n\u001b[0;32m-> 1290\u001b[0;31m                  {self.saver_def.filename_tensor_name: save_path})\n\u001b[0m\u001b[1;32m   1291\u001b[0m     \u001b[0;32mexcept\u001b[0m \u001b[0merrors\u001b[0m\u001b[0;34m.\u001b[0m\u001b[0mNotFoundError\u001b[0m \u001b[0;32mas\u001b[0m \u001b[0merr\u001b[0m\u001b[0;34m:\u001b[0m\u001b[0;34m\u001b[0m\u001b[0m\n",
      "\u001b[0;32m~/Desktop/animalai/lib/python3.6/site-packages/tensorflow_core/python/client/session.py\u001b[0m in \u001b[0;36mrun\u001b[0;34m(self, fetches, feed_dict, options, run_metadata)\u001b[0m\n\u001b[1;32m    955\u001b[0m       result = self._run(None, fetches, feed_dict, options_ptr,\n\u001b[0;32m--> 956\u001b[0;31m                          run_metadata_ptr)\n\u001b[0m\u001b[1;32m    957\u001b[0m       \u001b[0;32mif\u001b[0m \u001b[0mrun_metadata\u001b[0m\u001b[0;34m:\u001b[0m\u001b[0;34m\u001b[0m\u001b[0m\n",
      "\u001b[0;32m~/Desktop/animalai/lib/python3.6/site-packages/tensorflow_core/python/client/session.py\u001b[0m in \u001b[0;36m_run\u001b[0;34m(self, handle, fetches, feed_dict, options, run_metadata)\u001b[0m\n\u001b[1;32m   1179\u001b[0m       results = self._do_run(handle, final_targets, final_fetches,\n\u001b[0;32m-> 1180\u001b[0;31m                              feed_dict_tensor, options, run_metadata)\n\u001b[0m\u001b[1;32m   1181\u001b[0m     \u001b[0;32melse\u001b[0m\u001b[0;34m:\u001b[0m\u001b[0;34m\u001b[0m\u001b[0m\n",
      "\u001b[0;32m~/Desktop/animalai/lib/python3.6/site-packages/tensorflow_core/python/client/session.py\u001b[0m in \u001b[0;36m_do_run\u001b[0;34m(self, handle, target_list, fetch_list, feed_dict, options, run_metadata)\u001b[0m\n\u001b[1;32m   1358\u001b[0m       return self._do_call(_run_fn, feeds, fetches, targets, options,\n\u001b[0;32m-> 1359\u001b[0;31m                            run_metadata)\n\u001b[0m\u001b[1;32m   1360\u001b[0m     \u001b[0;32melse\u001b[0m\u001b[0;34m:\u001b[0m\u001b[0;34m\u001b[0m\u001b[0m\n",
      "\u001b[0;32m~/Desktop/animalai/lib/python3.6/site-packages/tensorflow_core/python/client/session.py\u001b[0m in \u001b[0;36m_do_call\u001b[0;34m(self, fn, *args)\u001b[0m\n\u001b[1;32m   1383\u001b[0m                     'disable_meta_optimizer = True')\n\u001b[0;32m-> 1384\u001b[0;31m       \u001b[0;32mraise\u001b[0m \u001b[0mtype\u001b[0m\u001b[0;34m(\u001b[0m\u001b[0me\u001b[0m\u001b[0;34m)\u001b[0m\u001b[0;34m(\u001b[0m\u001b[0mnode_def\u001b[0m\u001b[0;34m,\u001b[0m \u001b[0mop\u001b[0m\u001b[0;34m,\u001b[0m \u001b[0mmessage\u001b[0m\u001b[0;34m)\u001b[0m\u001b[0;34m\u001b[0m\u001b[0m\n\u001b[0m\u001b[1;32m   1385\u001b[0m \u001b[0;34m\u001b[0m\u001b[0m\n",
      "\u001b[0;31mInvalidArgumentError\u001b[0m: Assign requires shapes of both tensors to match. lhs shape= [9,100] rhs shape= [10,100]\n\t [[node save_1/Assign_23 (defined at /Users/ludo/Desktop/animalai/lib/python3.6/site-packages/tensorflow_core/python/framework/ops.py:1748) ]]\n\nOriginal stack trace for 'save_1/Assign_23':\n  File \"/Library/Frameworks/Python.framework/Versions/3.6/lib/python3.6/runpy.py\", line 193, in _run_module_as_main\n    \"__main__\", mod_spec)\n  File \"/Library/Frameworks/Python.framework/Versions/3.6/lib/python3.6/runpy.py\", line 85, in _run_code\n    exec(code, run_globals)\n  File \"/Users/ludo/Desktop/animalai/lib/python3.6/site-packages/ipykernel_launcher.py\", line 16, in <module>\n    app.launch_new_instance()\n  File \"/Users/ludo/Desktop/animalai/lib/python3.6/site-packages/traitlets/config/application.py\", line 664, in launch_instance\n    app.start()\n  File \"/Users/ludo/Desktop/animalai/lib/python3.6/site-packages/ipykernel/kernelapp.py\", line 597, in start\n    self.io_loop.start()\n  File \"/Users/ludo/Desktop/animalai/lib/python3.6/site-packages/tornado/platform/asyncio.py\", line 149, in start\n    self.asyncio_loop.run_forever()\n  File \"/Library/Frameworks/Python.framework/Versions/3.6/lib/python3.6/asyncio/base_events.py\", line 421, in run_forever\n    self._run_once()\n  File \"/Library/Frameworks/Python.framework/Versions/3.6/lib/python3.6/asyncio/base_events.py\", line 1426, in _run_once\n    handle._run()\n  File \"/Library/Frameworks/Python.framework/Versions/3.6/lib/python3.6/asyncio/events.py\", line 127, in _run\n    self._callback(*self._args)\n  File \"/Users/ludo/Desktop/animalai/lib/python3.6/site-packages/tornado/ioloop.py\", line 690, in <lambda>\n    lambda f: self._run_callback(functools.partial(callback, future))\n  File \"/Users/ludo/Desktop/animalai/lib/python3.6/site-packages/tornado/ioloop.py\", line 743, in _run_callback\n    ret = callback()\n  File \"/Users/ludo/Desktop/animalai/lib/python3.6/site-packages/tornado/gen.py\", line 787, in inner\n    self.run()\n  File \"/Users/ludo/Desktop/animalai/lib/python3.6/site-packages/tornado/gen.py\", line 748, in run\n    yielded = self.gen.send(value)\n  File \"/Users/ludo/Desktop/animalai/lib/python3.6/site-packages/ipykernel/kernelbase.py\", line 365, in process_one\n    yield gen.maybe_future(dispatch(*args))\n  File \"/Users/ludo/Desktop/animalai/lib/python3.6/site-packages/tornado/gen.py\", line 209, in wrapper\n    yielded = next(result)\n  File \"/Users/ludo/Desktop/animalai/lib/python3.6/site-packages/ipykernel/kernelbase.py\", line 268, in dispatch_shell\n    yield gen.maybe_future(handler(stream, idents, msg))\n  File \"/Users/ludo/Desktop/animalai/lib/python3.6/site-packages/tornado/gen.py\", line 209, in wrapper\n    yielded = next(result)\n  File \"/Users/ludo/Desktop/animalai/lib/python3.6/site-packages/ipykernel/kernelbase.py\", line 545, in execute_request\n    user_expressions, allow_stdin,\n  File \"/Users/ludo/Desktop/animalai/lib/python3.6/site-packages/tornado/gen.py\", line 209, in wrapper\n    yielded = next(result)\n  File \"/Users/ludo/Desktop/animalai/lib/python3.6/site-packages/ipykernel/ipkernel.py\", line 300, in do_execute\n    res = shell.run_cell(code, store_history=store_history, silent=silent)\n  File \"/Users/ludo/Desktop/animalai/lib/python3.6/site-packages/ipykernel/zmqshell.py\", line 536, in run_cell\n    return super(ZMQInteractiveShell, self).run_cell(*args, **kwargs)\n  File \"/Users/ludo/Desktop/animalai/lib/python3.6/site-packages/IPython/core/interactiveshell.py\", line 2858, in run_cell\n    raw_cell, store_history, silent, shell_futures)\n  File \"/Users/ludo/Desktop/animalai/lib/python3.6/site-packages/IPython/core/interactiveshell.py\", line 2886, in _run_cell\n    return runner(coro)\n  File \"/Users/ludo/Desktop/animalai/lib/python3.6/site-packages/IPython/core/async_helpers.py\", line 68, in _pseudo_sync_runner\n    coro.send(None)\n  File \"/Users/ludo/Desktop/animalai/lib/python3.6/site-packages/IPython/core/interactiveshell.py\", line 3063, in run_cell_async\n    interactivity=interactivity, compiler=compiler, result=result)\n  File \"/Users/ludo/Desktop/animalai/lib/python3.6/site-packages/IPython/core/interactiveshell.py\", line 3254, in run_ast_nodes\n    if (await self.run_code(code, result,  async_=asy)):\n  File \"/Users/ludo/Desktop/animalai/lib/python3.6/site-packages/IPython/core/interactiveshell.py\", line 3331, in run_code\n    exec(code_obj, self.user_global_ns, self.user_ns)\n  File \"<ipython-input-7-8d40ab13ce6a>\", line 16, in <module>\n    run_training_aai(0, args)\n  File \"/Users/ludo/Desktop/animalai/lib/python3.6/site-packages/animalai_train/run_training_aai.py\", line 113, in run_training_aai\n    tc.start_learning(env_manager)\n  File \"/Users/ludo/Desktop/animalai/lib/python3.6/site-packages/mlagents_envs/timers.py\", line 258, in wrapped\n    return func(*args, **kwargs)\n  File \"/Users/ludo/Desktop/animalai/lib/python3.6/site-packages/mlagents/trainers/trainer_controller.py\", line 205, in start_learning\n    self._create_trainers_and_managers(env_manager, new_behavior_ids)\n  File \"/Users/ludo/Desktop/animalai/lib/python3.6/site-packages/mlagents/trainers/trainer_controller.py\", line 191, in _create_trainers_and_managers\n    self._create_trainer_and_manager(env_manager, behavior_id)\n  File \"/Users/ludo/Desktop/animalai/lib/python3.6/site-packages/mlagents/trainers/trainer_controller.py\", line 172, in _create_trainer_and_manager\n    trainer.add_policy(name_behavior_id, policy)\n  File \"/Users/ludo/Desktop/animalai/lib/python3.6/site-packages/mlagents/trainers/ppo/trainer.py\", line 259, in add_policy\n    self.optimizer = PPOOptimizer(self.policy, self.trainer_parameters)\n  File \"/Users/ludo/Desktop/animalai/lib/python3.6/site-packages/mlagents/trainers/ppo/optimizer.py\", line 90, in __init__\n    self.policy.initialize_or_load()\n  File \"/Users/ludo/Desktop/animalai/lib/python3.6/site-packages/mlagents/trainers/policy/tf_policy.py\", line 127, in initialize_or_load\n    self._load_graph()\n  File \"/Users/ludo/Desktop/animalai/lib/python3.6/site-packages/mlagents/trainers/policy/tf_policy.py\", line 114, in _load_graph\n    self.saver = tf.train.Saver(max_to_keep=self.keep_checkpoints)\n  File \"/Users/ludo/Desktop/animalai/lib/python3.6/site-packages/tensorflow_core/python/training/saver.py\", line 828, in __init__\n    self.build()\n  File \"/Users/ludo/Desktop/animalai/lib/python3.6/site-packages/tensorflow_core/python/training/saver.py\", line 840, in build\n    self._build(self._filename, build_save=True, build_restore=True)\n  File \"/Users/ludo/Desktop/animalai/lib/python3.6/site-packages/tensorflow_core/python/training/saver.py\", line 878, in _build\n    build_restore=build_restore)\n  File \"/Users/ludo/Desktop/animalai/lib/python3.6/site-packages/tensorflow_core/python/training/saver.py\", line 508, in _build_internal\n    restore_sequentially, reshape)\n  File \"/Users/ludo/Desktop/animalai/lib/python3.6/site-packages/tensorflow_core/python/training/saver.py\", line 350, in _AddRestoreOps\n    assign_ops.append(saveable.restore(saveable_tensors, shapes))\n  File \"/Users/ludo/Desktop/animalai/lib/python3.6/site-packages/tensorflow_core/python/training/saving/saveable_object_util.py\", line 73, in restore\n    self.op.get_shape().is_fully_defined())\n  File \"/Users/ludo/Desktop/animalai/lib/python3.6/site-packages/tensorflow_core/python/ops/state_ops.py\", line 227, in assign\n    validate_shape=validate_shape)\n  File \"/Users/ludo/Desktop/animalai/lib/python3.6/site-packages/tensorflow_core/python/ops/gen_state_ops.py\", line 66, in assign\n    use_locking=use_locking, name=name)\n  File \"/Users/ludo/Desktop/animalai/lib/python3.6/site-packages/tensorflow_core/python/framework/op_def_library.py\", line 794, in _apply_op_helper\n    op_def=op_def)\n  File \"/Users/ludo/Desktop/animalai/lib/python3.6/site-packages/tensorflow_core/python/util/deprecation.py\", line 507, in new_func\n    return func(*args, **kwargs)\n  File \"/Users/ludo/Desktop/animalai/lib/python3.6/site-packages/tensorflow_core/python/framework/ops.py\", line 3357, in create_op\n    attrs, op_def, compute_device)\n  File \"/Users/ludo/Desktop/animalai/lib/python3.6/site-packages/tensorflow_core/python/framework/ops.py\", line 3426, in _create_op_internal\n    op_def=op_def)\n  File \"/Users/ludo/Desktop/animalai/lib/python3.6/site-packages/tensorflow_core/python/framework/ops.py\", line 1748, in __init__\n    self._traceback = tf_stack.extract_stack()\n",
      "\nDuring handling of the above exception, another exception occurred:\n",
      "\u001b[0;31mInvalidArgumentError\u001b[0m                      Traceback (most recent call last)",
      "\u001b[0;32m<ipython-input-7-8d40ab13ce6a>\u001b[0m in \u001b[0;36m<module>\u001b[0;34m\u001b[0m\n\u001b[1;32m     14\u001b[0m     \u001b[0marena_config\u001b[0m\u001b[0;34m=\u001b[0m\u001b[0mArenaConfig\u001b[0m\u001b[0;34m(\u001b[0m\u001b[0;34m\"configurations/arena_configurations/cylinder_task.yml\"\u001b[0m\u001b[0;34m)\u001b[0m\u001b[0;34m\u001b[0m\u001b[0m\n\u001b[1;32m     15\u001b[0m )\n\u001b[0;32m---> 16\u001b[0;31m \u001b[0mrun_training_aai\u001b[0m\u001b[0;34m(\u001b[0m\u001b[0;36m0\u001b[0m\u001b[0;34m,\u001b[0m \u001b[0margs\u001b[0m\u001b[0;34m)\u001b[0m\u001b[0;34m\u001b[0m\u001b[0m\n\u001b[0m",
      "\u001b[0;32m~/Desktop/animalai/lib/python3.6/site-packages/animalai_train/run_training_aai.py\u001b[0m in \u001b[0;36mrun_training_aai\u001b[0;34m(run_seed, options)\u001b[0m\n\u001b[1;32m    111\u001b[0m     \u001b[0;31m# Begin training\u001b[0m\u001b[0;34m\u001b[0m\u001b[0;34m\u001b[0m\u001b[0m\n\u001b[1;32m    112\u001b[0m     \u001b[0;32mtry\u001b[0m\u001b[0;34m:\u001b[0m\u001b[0;34m\u001b[0m\u001b[0m\n\u001b[0;32m--> 113\u001b[0;31m         \u001b[0mtc\u001b[0m\u001b[0;34m.\u001b[0m\u001b[0mstart_learning\u001b[0m\u001b[0;34m(\u001b[0m\u001b[0menv_manager\u001b[0m\u001b[0;34m)\u001b[0m\u001b[0;34m\u001b[0m\u001b[0m\n\u001b[0m\u001b[1;32m    114\u001b[0m     \u001b[0;32mfinally\u001b[0m\u001b[0;34m:\u001b[0m\u001b[0;34m\u001b[0m\u001b[0m\n\u001b[1;32m    115\u001b[0m         \u001b[0menv_manager\u001b[0m\u001b[0;34m.\u001b[0m\u001b[0mclose\u001b[0m\u001b[0;34m(\u001b[0m\u001b[0;34m)\u001b[0m\u001b[0;34m\u001b[0m\u001b[0m\n",
      "\u001b[0;32m~/Desktop/animalai/lib/python3.6/site-packages/mlagents_envs/timers.py\u001b[0m in \u001b[0;36mwrapped\u001b[0;34m(*args, **kwargs)\u001b[0m\n\u001b[1;32m    256\u001b[0m     \u001b[0;32mdef\u001b[0m \u001b[0mwrapped\u001b[0m\u001b[0;34m(\u001b[0m\u001b[0;34m*\u001b[0m\u001b[0margs\u001b[0m\u001b[0;34m,\u001b[0m \u001b[0;34m**\u001b[0m\u001b[0mkwargs\u001b[0m\u001b[0;34m)\u001b[0m\u001b[0;34m:\u001b[0m\u001b[0;34m\u001b[0m\u001b[0m\n\u001b[1;32m    257\u001b[0m         \u001b[0;32mwith\u001b[0m \u001b[0mhierarchical_timer\u001b[0m\u001b[0;34m(\u001b[0m\u001b[0mfunc\u001b[0m\u001b[0;34m.\u001b[0m\u001b[0m__qualname__\u001b[0m\u001b[0;34m)\u001b[0m\u001b[0;34m:\u001b[0m\u001b[0;34m\u001b[0m\u001b[0m\n\u001b[0;32m--> 258\u001b[0;31m             \u001b[0;32mreturn\u001b[0m \u001b[0mfunc\u001b[0m\u001b[0;34m(\u001b[0m\u001b[0;34m*\u001b[0m\u001b[0margs\u001b[0m\u001b[0;34m,\u001b[0m \u001b[0;34m**\u001b[0m\u001b[0mkwargs\u001b[0m\u001b[0;34m)\u001b[0m\u001b[0;34m\u001b[0m\u001b[0m\n\u001b[0m\u001b[1;32m    259\u001b[0m \u001b[0;34m\u001b[0m\u001b[0m\n\u001b[1;32m    260\u001b[0m     \u001b[0;32mreturn\u001b[0m \u001b[0mwrapped\u001b[0m  \u001b[0;31m# type: ignore\u001b[0m\u001b[0;34m\u001b[0m\u001b[0m\n",
      "\u001b[0;32m~/Desktop/animalai/lib/python3.6/site-packages/mlagents/trainers/trainer_controller.py\u001b[0m in \u001b[0;36mstart_learning\u001b[0;34m(self, env_manager)\u001b[0m\n\u001b[1;32m    203\u001b[0m                 \u001b[0mexternal_brain_behavior_ids\u001b[0m \u001b[0;34m=\u001b[0m \u001b[0mset\u001b[0m\u001b[0;34m(\u001b[0m\u001b[0menv_manager\u001b[0m\u001b[0;34m.\u001b[0m\u001b[0mexternal_brains\u001b[0m\u001b[0;34m.\u001b[0m\u001b[0mkeys\u001b[0m\u001b[0;34m(\u001b[0m\u001b[0;34m)\u001b[0m\u001b[0;34m)\u001b[0m\u001b[0;34m\u001b[0m\u001b[0m\n\u001b[1;32m    204\u001b[0m                 \u001b[0mnew_behavior_ids\u001b[0m \u001b[0;34m=\u001b[0m \u001b[0mexternal_brain_behavior_ids\u001b[0m \u001b[0;34m-\u001b[0m \u001b[0mlast_brain_behavior_ids\u001b[0m\u001b[0;34m\u001b[0m\u001b[0m\n\u001b[0;32m--> 205\u001b[0;31m                 \u001b[0mself\u001b[0m\u001b[0;34m.\u001b[0m\u001b[0m_create_trainers_and_managers\u001b[0m\u001b[0;34m(\u001b[0m\u001b[0menv_manager\u001b[0m\u001b[0;34m,\u001b[0m \u001b[0mnew_behavior_ids\u001b[0m\u001b[0;34m)\u001b[0m\u001b[0;34m\u001b[0m\u001b[0m\n\u001b[0m\u001b[1;32m    206\u001b[0m                 \u001b[0mlast_brain_behavior_ids\u001b[0m \u001b[0;34m=\u001b[0m \u001b[0mexternal_brain_behavior_ids\u001b[0m\u001b[0;34m\u001b[0m\u001b[0m\n\u001b[1;32m    207\u001b[0m                 \u001b[0mn_steps\u001b[0m \u001b[0;34m=\u001b[0m \u001b[0mself\u001b[0m\u001b[0;34m.\u001b[0m\u001b[0madvance\u001b[0m\u001b[0;34m(\u001b[0m\u001b[0menv_manager\u001b[0m\u001b[0;34m)\u001b[0m\u001b[0;34m\u001b[0m\u001b[0m\n",
      "\u001b[0;32m~/Desktop/animalai/lib/python3.6/site-packages/mlagents/trainers/trainer_controller.py\u001b[0m in \u001b[0;36m_create_trainers_and_managers\u001b[0;34m(self, env_manager, behavior_ids)\u001b[0m\n\u001b[1;32m    189\u001b[0m     ) -> None:\n\u001b[1;32m    190\u001b[0m         \u001b[0;32mfor\u001b[0m \u001b[0mbehavior_id\u001b[0m \u001b[0;32min\u001b[0m \u001b[0mbehavior_ids\u001b[0m\u001b[0;34m:\u001b[0m\u001b[0;34m\u001b[0m\u001b[0m\n\u001b[0;32m--> 191\u001b[0;31m             \u001b[0mself\u001b[0m\u001b[0;34m.\u001b[0m\u001b[0m_create_trainer_and_manager\u001b[0m\u001b[0;34m(\u001b[0m\u001b[0menv_manager\u001b[0m\u001b[0;34m,\u001b[0m \u001b[0mbehavior_id\u001b[0m\u001b[0;34m)\u001b[0m\u001b[0;34m\u001b[0m\u001b[0m\n\u001b[0m\u001b[1;32m    192\u001b[0m \u001b[0;34m\u001b[0m\u001b[0m\n\u001b[1;32m    193\u001b[0m     \u001b[0;34m@\u001b[0m\u001b[0mtimed\u001b[0m\u001b[0;34m\u001b[0m\u001b[0m\n",
      "\u001b[0;32m~/Desktop/animalai/lib/python3.6/site-packages/mlagents/trainers/trainer_controller.py\u001b[0m in \u001b[0;36m_create_trainer_and_manager\u001b[0;34m(self, env_manager, name_behavior_id)\u001b[0m\n\u001b[1;32m    170\u001b[0m \u001b[0;34m\u001b[0m\u001b[0m\n\u001b[1;32m    171\u001b[0m         \u001b[0mpolicy\u001b[0m \u001b[0;34m=\u001b[0m \u001b[0mtrainer\u001b[0m\u001b[0;34m.\u001b[0m\u001b[0mcreate_policy\u001b[0m\u001b[0;34m(\u001b[0m\u001b[0menv_manager\u001b[0m\u001b[0;34m.\u001b[0m\u001b[0mexternal_brains\u001b[0m\u001b[0;34m[\u001b[0m\u001b[0mname_behavior_id\u001b[0m\u001b[0;34m]\u001b[0m\u001b[0;34m)\u001b[0m\u001b[0;34m\u001b[0m\u001b[0m\n\u001b[0;32m--> 172\u001b[0;31m         \u001b[0mtrainer\u001b[0m\u001b[0;34m.\u001b[0m\u001b[0madd_policy\u001b[0m\u001b[0;34m(\u001b[0m\u001b[0mname_behavior_id\u001b[0m\u001b[0;34m,\u001b[0m \u001b[0mpolicy\u001b[0m\u001b[0;34m)\u001b[0m\u001b[0;34m\u001b[0m\u001b[0m\n\u001b[0m\u001b[1;32m    173\u001b[0m \u001b[0;34m\u001b[0m\u001b[0m\n\u001b[1;32m    174\u001b[0m         agent_manager = AgentManager(\n",
      "\u001b[0;32m~/Desktop/animalai/lib/python3.6/site-packages/mlagents/trainers/ppo/trainer.py\u001b[0m in \u001b[0;36madd_policy\u001b[0;34m(self, name_behavior_id, policy)\u001b[0m\n\u001b[1;32m    257\u001b[0m             \u001b[0;32mraise\u001b[0m \u001b[0mRuntimeError\u001b[0m\u001b[0;34m(\u001b[0m\u001b[0;34m\"Non-NNPolicy passed to PPOTrainer.add_policy()\"\u001b[0m\u001b[0;34m)\u001b[0m\u001b[0;34m\u001b[0m\u001b[0m\n\u001b[1;32m    258\u001b[0m         \u001b[0mself\u001b[0m\u001b[0;34m.\u001b[0m\u001b[0mpolicy\u001b[0m \u001b[0;34m=\u001b[0m \u001b[0mpolicy\u001b[0m\u001b[0;34m\u001b[0m\u001b[0m\n\u001b[0;32m--> 259\u001b[0;31m         \u001b[0mself\u001b[0m\u001b[0;34m.\u001b[0m\u001b[0moptimizer\u001b[0m \u001b[0;34m=\u001b[0m \u001b[0mPPOOptimizer\u001b[0m\u001b[0;34m(\u001b[0m\u001b[0mself\u001b[0m\u001b[0;34m.\u001b[0m\u001b[0mpolicy\u001b[0m\u001b[0;34m,\u001b[0m \u001b[0mself\u001b[0m\u001b[0;34m.\u001b[0m\u001b[0mtrainer_parameters\u001b[0m\u001b[0;34m)\u001b[0m\u001b[0;34m\u001b[0m\u001b[0m\n\u001b[0m\u001b[1;32m    260\u001b[0m         \u001b[0;32mfor\u001b[0m \u001b[0m_reward_signal\u001b[0m \u001b[0;32min\u001b[0m \u001b[0mself\u001b[0m\u001b[0;34m.\u001b[0m\u001b[0moptimizer\u001b[0m\u001b[0;34m.\u001b[0m\u001b[0mreward_signals\u001b[0m\u001b[0;34m.\u001b[0m\u001b[0mkeys\u001b[0m\u001b[0;34m(\u001b[0m\u001b[0;34m)\u001b[0m\u001b[0;34m:\u001b[0m\u001b[0;34m\u001b[0m\u001b[0m\n\u001b[1;32m    261\u001b[0m             \u001b[0mself\u001b[0m\u001b[0;34m.\u001b[0m\u001b[0mcollected_rewards\u001b[0m\u001b[0;34m[\u001b[0m\u001b[0m_reward_signal\u001b[0m\u001b[0;34m]\u001b[0m \u001b[0;34m=\u001b[0m \u001b[0mdefaultdict\u001b[0m\u001b[0;34m(\u001b[0m\u001b[0;32mlambda\u001b[0m\u001b[0;34m:\u001b[0m \u001b[0;36m0\u001b[0m\u001b[0;34m)\u001b[0m\u001b[0;34m\u001b[0m\u001b[0m\n",
      "\u001b[0;32m~/Desktop/animalai/lib/python3.6/site-packages/mlagents/trainers/ppo/optimizer.py\u001b[0m in \u001b[0;36m__init__\u001b[0;34m(self, policy, trainer_params)\u001b[0m\n\u001b[1;32m     88\u001b[0m             )\n\u001b[1;32m     89\u001b[0m \u001b[0;34m\u001b[0m\u001b[0m\n\u001b[0;32m---> 90\u001b[0;31m             \u001b[0mself\u001b[0m\u001b[0;34m.\u001b[0m\u001b[0mpolicy\u001b[0m\u001b[0;34m.\u001b[0m\u001b[0minitialize_or_load\u001b[0m\u001b[0;34m(\u001b[0m\u001b[0;34m)\u001b[0m\u001b[0;34m\u001b[0m\u001b[0m\n\u001b[0m\u001b[1;32m     91\u001b[0m \u001b[0;34m\u001b[0m\u001b[0m\n\u001b[1;32m     92\u001b[0m     def _create_cc_critic(\n",
      "\u001b[0;32m~/Desktop/animalai/lib/python3.6/site-packages/mlagents/trainers/policy/tf_policy.py\u001b[0m in \u001b[0;36minitialize_or_load\u001b[0;34m(self)\u001b[0m\n\u001b[1;32m    125\u001b[0m     \u001b[0;32mdef\u001b[0m \u001b[0minitialize_or_load\u001b[0m\u001b[0;34m(\u001b[0m\u001b[0mself\u001b[0m\u001b[0;34m)\u001b[0m\u001b[0;34m:\u001b[0m\u001b[0;34m\u001b[0m\u001b[0m\n\u001b[1;32m    126\u001b[0m         \u001b[0;32mif\u001b[0m \u001b[0mself\u001b[0m\u001b[0;34m.\u001b[0m\u001b[0mload\u001b[0m\u001b[0;34m:\u001b[0m\u001b[0;34m\u001b[0m\u001b[0m\n\u001b[0;32m--> 127\u001b[0;31m             \u001b[0mself\u001b[0m\u001b[0;34m.\u001b[0m\u001b[0m_load_graph\u001b[0m\u001b[0;34m(\u001b[0m\u001b[0;34m)\u001b[0m\u001b[0;34m\u001b[0m\u001b[0m\n\u001b[0m\u001b[1;32m    128\u001b[0m         \u001b[0;32melse\u001b[0m\u001b[0;34m:\u001b[0m\u001b[0;34m\u001b[0m\u001b[0m\n\u001b[1;32m    129\u001b[0m             \u001b[0mself\u001b[0m\u001b[0;34m.\u001b[0m\u001b[0m_initialize_graph\u001b[0m\u001b[0;34m(\u001b[0m\u001b[0;34m)\u001b[0m\u001b[0;34m\u001b[0m\u001b[0m\n",
      "\u001b[0;32m~/Desktop/animalai/lib/python3.6/site-packages/mlagents/trainers/policy/tf_policy.py\u001b[0m in \u001b[0;36m_load_graph\u001b[0;34m(self)\u001b[0m\n\u001b[1;32m    121\u001b[0m                     \u001b[0;34m\"--run-id\"\u001b[0m\u001b[0;34m.\u001b[0m\u001b[0mformat\u001b[0m\u001b[0;34m(\u001b[0m\u001b[0mself\u001b[0m\u001b[0;34m.\u001b[0m\u001b[0mmodel_path\u001b[0m\u001b[0;34m)\u001b[0m\u001b[0;34m\u001b[0m\u001b[0m\n\u001b[1;32m    122\u001b[0m                 )\n\u001b[0;32m--> 123\u001b[0;31m             \u001b[0mself\u001b[0m\u001b[0;34m.\u001b[0m\u001b[0msaver\u001b[0m\u001b[0;34m.\u001b[0m\u001b[0mrestore\u001b[0m\u001b[0;34m(\u001b[0m\u001b[0mself\u001b[0m\u001b[0;34m.\u001b[0m\u001b[0msess\u001b[0m\u001b[0;34m,\u001b[0m \u001b[0mckpt\u001b[0m\u001b[0;34m.\u001b[0m\u001b[0mmodel_checkpoint_path\u001b[0m\u001b[0;34m)\u001b[0m\u001b[0;34m\u001b[0m\u001b[0m\n\u001b[0m\u001b[1;32m    124\u001b[0m \u001b[0;34m\u001b[0m\u001b[0m\n\u001b[1;32m    125\u001b[0m     \u001b[0;32mdef\u001b[0m \u001b[0minitialize_or_load\u001b[0m\u001b[0;34m(\u001b[0m\u001b[0mself\u001b[0m\u001b[0;34m)\u001b[0m\u001b[0;34m:\u001b[0m\u001b[0;34m\u001b[0m\u001b[0m\n",
      "\u001b[0;32m~/Desktop/animalai/lib/python3.6/site-packages/tensorflow_core/python/training/saver.py\u001b[0m in \u001b[0;36mrestore\u001b[0;34m(self, sess, save_path)\u001b[0m\n\u001b[1;32m   1324\u001b[0m       \u001b[0;31m# We add a more reasonable error message here to help users (b/110263146)\u001b[0m\u001b[0;34m\u001b[0m\u001b[0;34m\u001b[0m\u001b[0m\n\u001b[1;32m   1325\u001b[0m       raise _wrap_restore_error_with_msg(\n\u001b[0;32m-> 1326\u001b[0;31m           err, \"a mismatch between the current graph and the graph\")\n\u001b[0m\u001b[1;32m   1327\u001b[0m \u001b[0;34m\u001b[0m\u001b[0m\n\u001b[1;32m   1328\u001b[0m   \u001b[0;34m@\u001b[0m\u001b[0mstaticmethod\u001b[0m\u001b[0;34m\u001b[0m\u001b[0m\n",
      "\u001b[0;31mInvalidArgumentError\u001b[0m: Restoring from checkpoint failed. This is most likely due to a mismatch between the current graph and the graph from the checkpoint. Please ensure that you have not altered the graph expected based on the checkpoint. Original error:\n\nAssign requires shapes of both tensors to match. lhs shape= [9,100] rhs shape= [10,100]\n\t [[node save_1/Assign_23 (defined at /Users/ludo/Desktop/animalai/lib/python3.6/site-packages/tensorflow_core/python/framework/ops.py:1748) ]]\n\nOriginal stack trace for 'save_1/Assign_23':\n  File \"/Library/Frameworks/Python.framework/Versions/3.6/lib/python3.6/runpy.py\", line 193, in _run_module_as_main\n    \"__main__\", mod_spec)\n  File \"/Library/Frameworks/Python.framework/Versions/3.6/lib/python3.6/runpy.py\", line 85, in _run_code\n    exec(code, run_globals)\n  File \"/Users/ludo/Desktop/animalai/lib/python3.6/site-packages/ipykernel_launcher.py\", line 16, in <module>\n    app.launch_new_instance()\n  File \"/Users/ludo/Desktop/animalai/lib/python3.6/site-packages/traitlets/config/application.py\", line 664, in launch_instance\n    app.start()\n  File \"/Users/ludo/Desktop/animalai/lib/python3.6/site-packages/ipykernel/kernelapp.py\", line 597, in start\n    self.io_loop.start()\n  File \"/Users/ludo/Desktop/animalai/lib/python3.6/site-packages/tornado/platform/asyncio.py\", line 149, in start\n    self.asyncio_loop.run_forever()\n  File \"/Library/Frameworks/Python.framework/Versions/3.6/lib/python3.6/asyncio/base_events.py\", line 421, in run_forever\n    self._run_once()\n  File \"/Library/Frameworks/Python.framework/Versions/3.6/lib/python3.6/asyncio/base_events.py\", line 1426, in _run_once\n    handle._run()\n  File \"/Library/Frameworks/Python.framework/Versions/3.6/lib/python3.6/asyncio/events.py\", line 127, in _run\n    self._callback(*self._args)\n  File \"/Users/ludo/Desktop/animalai/lib/python3.6/site-packages/tornado/ioloop.py\", line 690, in <lambda>\n    lambda f: self._run_callback(functools.partial(callback, future))\n  File \"/Users/ludo/Desktop/animalai/lib/python3.6/site-packages/tornado/ioloop.py\", line 743, in _run_callback\n    ret = callback()\n  File \"/Users/ludo/Desktop/animalai/lib/python3.6/site-packages/tornado/gen.py\", line 787, in inner\n    self.run()\n  File \"/Users/ludo/Desktop/animalai/lib/python3.6/site-packages/tornado/gen.py\", line 748, in run\n    yielded = self.gen.send(value)\n  File \"/Users/ludo/Desktop/animalai/lib/python3.6/site-packages/ipykernel/kernelbase.py\", line 365, in process_one\n    yield gen.maybe_future(dispatch(*args))\n  File \"/Users/ludo/Desktop/animalai/lib/python3.6/site-packages/tornado/gen.py\", line 209, in wrapper\n    yielded = next(result)\n  File \"/Users/ludo/Desktop/animalai/lib/python3.6/site-packages/ipykernel/kernelbase.py\", line 268, in dispatch_shell\n    yield gen.maybe_future(handler(stream, idents, msg))\n  File \"/Users/ludo/Desktop/animalai/lib/python3.6/site-packages/tornado/gen.py\", line 209, in wrapper\n    yielded = next(result)\n  File \"/Users/ludo/Desktop/animalai/lib/python3.6/site-packages/ipykernel/kernelbase.py\", line 545, in execute_request\n    user_expressions, allow_stdin,\n  File \"/Users/ludo/Desktop/animalai/lib/python3.6/site-packages/tornado/gen.py\", line 209, in wrapper\n    yielded = next(result)\n  File \"/Users/ludo/Desktop/animalai/lib/python3.6/site-packages/ipykernel/ipkernel.py\", line 300, in do_execute\n    res = shell.run_cell(code, store_history=store_history, silent=silent)\n  File \"/Users/ludo/Desktop/animalai/lib/python3.6/site-packages/ipykernel/zmqshell.py\", line 536, in run_cell\n    return super(ZMQInteractiveShell, self).run_cell(*args, **kwargs)\n  File \"/Users/ludo/Desktop/animalai/lib/python3.6/site-packages/IPython/core/interactiveshell.py\", line 2858, in run_cell\n    raw_cell, store_history, silent, shell_futures)\n  File \"/Users/ludo/Desktop/animalai/lib/python3.6/site-packages/IPython/core/interactiveshell.py\", line 2886, in _run_cell\n    return runner(coro)\n  File \"/Users/ludo/Desktop/animalai/lib/python3.6/site-packages/IPython/core/async_helpers.py\", line 68, in _pseudo_sync_runner\n    coro.send(None)\n  File \"/Users/ludo/Desktop/animalai/lib/python3.6/site-packages/IPython/core/interactiveshell.py\", line 3063, in run_cell_async\n    interactivity=interactivity, compiler=compiler, result=result)\n  File \"/Users/ludo/Desktop/animalai/lib/python3.6/site-packages/IPython/core/interactiveshell.py\", line 3254, in run_ast_nodes\n    if (await self.run_code(code, result,  async_=asy)):\n  File \"/Users/ludo/Desktop/animalai/lib/python3.6/site-packages/IPython/core/interactiveshell.py\", line 3331, in run_code\n    exec(code_obj, self.user_global_ns, self.user_ns)\n  File \"<ipython-input-7-8d40ab13ce6a>\", line 16, in <module>\n    run_training_aai(0, args)\n  File \"/Users/ludo/Desktop/animalai/lib/python3.6/site-packages/animalai_train/run_training_aai.py\", line 113, in run_training_aai\n    tc.start_learning(env_manager)\n  File \"/Users/ludo/Desktop/animalai/lib/python3.6/site-packages/mlagents_envs/timers.py\", line 258, in wrapped\n    return func(*args, **kwargs)\n  File \"/Users/ludo/Desktop/animalai/lib/python3.6/site-packages/mlagents/trainers/trainer_controller.py\", line 205, in start_learning\n    self._create_trainers_and_managers(env_manager, new_behavior_ids)\n  File \"/Users/ludo/Desktop/animalai/lib/python3.6/site-packages/mlagents/trainers/trainer_controller.py\", line 191, in _create_trainers_and_managers\n    self._create_trainer_and_manager(env_manager, behavior_id)\n  File \"/Users/ludo/Desktop/animalai/lib/python3.6/site-packages/mlagents/trainers/trainer_controller.py\", line 172, in _create_trainer_and_manager\n    trainer.add_policy(name_behavior_id, policy)\n  File \"/Users/ludo/Desktop/animalai/lib/python3.6/site-packages/mlagents/trainers/ppo/trainer.py\", line 259, in add_policy\n    self.optimizer = PPOOptimizer(self.policy, self.trainer_parameters)\n  File \"/Users/ludo/Desktop/animalai/lib/python3.6/site-packages/mlagents/trainers/ppo/optimizer.py\", line 90, in __init__\n    self.policy.initialize_or_load()\n  File \"/Users/ludo/Desktop/animalai/lib/python3.6/site-packages/mlagents/trainers/policy/tf_policy.py\", line 127, in initialize_or_load\n    self._load_graph()\n  File \"/Users/ludo/Desktop/animalai/lib/python3.6/site-packages/mlagents/trainers/policy/tf_policy.py\", line 114, in _load_graph\n    self.saver = tf.train.Saver(max_to_keep=self.keep_checkpoints)\n  File \"/Users/ludo/Desktop/animalai/lib/python3.6/site-packages/tensorflow_core/python/training/saver.py\", line 828, in __init__\n    self.build()\n  File \"/Users/ludo/Desktop/animalai/lib/python3.6/site-packages/tensorflow_core/python/training/saver.py\", line 840, in build\n    self._build(self._filename, build_save=True, build_restore=True)\n  File \"/Users/ludo/Desktop/animalai/lib/python3.6/site-packages/tensorflow_core/python/training/saver.py\", line 878, in _build\n    build_restore=build_restore)\n  File \"/Users/ludo/Desktop/animalai/lib/python3.6/site-packages/tensorflow_core/python/training/saver.py\", line 508, in _build_internal\n    restore_sequentially, reshape)\n  File \"/Users/ludo/Desktop/animalai/lib/python3.6/site-packages/tensorflow_core/python/training/saver.py\", line 350, in _AddRestoreOps\n    assign_ops.append(saveable.restore(saveable_tensors, shapes))\n  File \"/Users/ludo/Desktop/animalai/lib/python3.6/site-packages/tensorflow_core/python/training/saving/saveable_object_util.py\", line 73, in restore\n    self.op.get_shape().is_fully_defined())\n  File \"/Users/ludo/Desktop/animalai/lib/python3.6/site-packages/tensorflow_core/python/ops/state_ops.py\", line 227, in assign\n    validate_shape=validate_shape)\n  File \"/Users/ludo/Desktop/animalai/lib/python3.6/site-packages/tensorflow_core/python/ops/gen_state_ops.py\", line 66, in assign\n    use_locking=use_locking, name=name)\n  File \"/Users/ludo/Desktop/animalai/lib/python3.6/site-packages/tensorflow_core/python/framework/op_def_library.py\", line 794, in _apply_op_helper\n    op_def=op_def)\n  File \"/Users/ludo/Desktop/animalai/lib/python3.6/site-packages/tensorflow_core/python/util/deprecation.py\", line 507, in new_func\n    return func(*args, **kwargs)\n  File \"/Users/ludo/Desktop/animalai/lib/python3.6/site-packages/tensorflow_core/python/framework/ops.py\", line 3357, in create_op\n    attrs, op_def, compute_device)\n  File \"/Users/ludo/Desktop/animalai/lib/python3.6/site-packages/tensorflow_core/python/framework/ops.py\", line 3426, in _create_op_internal\n    op_def=op_def)\n  File \"/Users/ludo/Desktop/animalai/lib/python3.6/site-packages/tensorflow_core/python/framework/ops.py\", line 1748, in __init__\n    self._traceback = tf_stack.extract_stack()\n"
     ]
    }
   ],
   "source": [
    "# EVALUATE\n",
    "from animalai.envs.arena_config import ArenaConfig\n",
    "\n",
    "#Comment the row below to load your trained model\n",
    "run_id = \"blindgotox1\"\n",
    "\n",
    "args = RunOptionsAAI(\n",
    "    trainer_config=load_config(trainer_config_path),\n",
    "    env_path=environment_path,\n",
    "    run_id=run_id,\n",
    "    base_port=base_port+3,\n",
    "    load_model=True,\n",
    "    train_model=False,\n",
    "    arena_config=ArenaConfig(\"configurations/arena_configurations/cylinder_task.yml\")\n",
    ")\n",
    "run_training_aai(0, args)"
   ]
  },
  {
   "cell_type": "code",
   "execution_count": null,
   "metadata": {},
   "outputs": [],
   "source": [
    "import sys\n",
    "sys.path.insert(0, \"/Users/ludo/Desktop/animalai/animalai\")\n"
   ]
  },
  {
   "cell_type": "code",
   "execution_count": null,
   "metadata": {},
   "outputs": [],
   "source": [
    "sys.path = sys.path[:1]"
   ]
  },
  {
   "cell_type": "code",
   "execution_count": null,
   "metadata": {},
   "outputs": [],
   "source": [
    "import os\n",
    "os.listdir(\"/Users/ludo/Desktop/animalai/animalai\")"
   ]
  },
  {
   "cell_type": "code",
   "execution_count": null,
   "metadata": {},
   "outputs": [],
   "source": [
    "del person.things[:]\n",
    "person.things.extend([thing1, thing2, ..])"
   ]
  },
  {
   "cell_type": "code",
   "execution_count": null,
   "metadata": {},
   "outputs": [],
   "source": [
    "import tempfile\n",
    "tempfile.gettempdir()"
   ]
  },
  {
   "cell_type": "code",
   "execution_count": null,
   "metadata": {},
   "outputs": [],
   "source": []
  }
 ],
 "metadata": {
  "kernelspec": {
   "display_name": "animalaienv",
   "language": "python",
   "name": "animalaienv"
  },
  "language_info": {
   "codemirror_mode": {
    "name": "ipython",
    "version": 3
   },
   "file_extension": ".py",
   "mimetype": "text/x-python",
   "name": "python",
   "nbconvert_exporter": "python",
   "pygments_lexer": "ipython3",
   "version": "3.6.2"
  }
 },
 "nbformat": 4,
 "nbformat_minor": 4
}
