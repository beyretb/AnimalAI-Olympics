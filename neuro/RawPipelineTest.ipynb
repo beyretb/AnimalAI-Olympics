{
 "cells": [
  {
   "cell_type": "code",
   "execution_count": null,
   "metadata": {},
   "outputs": [],
   "source": [
    "from raw_pipeline import Pipeline\n",
    "from collections import namedtuple\n",
    "margs = namedtuple('args', 'env arena_config num_episodes')\n",
    "env_path = '../env/bb2'\n",
    "ac = \"configurations/curriculum4/25.yml\"\n",
    "args = margs(env=env_path, arena_config=ac, num_episodes=20)\n",
    "pipe = Pipeline(args)"
   ]
  },
  {
   "cell_type": "code",
   "execution_count": null,
   "metadata": {},
   "outputs": [],
   "source": [
    "x = pipe.run()"
   ]
  },
  {
   "cell_type": "code",
   "execution_count": null,
   "metadata": {},
   "outputs": [],
   "source": [
    "seed1, id0, alwaysleft = 17/20"
   ]
  },
  {
   "cell_type": "code",
   "execution_count": null,
   "metadata": {
    "collapsed": true
   },
   "outputs": [],
   "source": []
  }
 ],
 "metadata": {
  "kernelspec": {
   "display_name": "animalaienv",
   "language": "python",
   "name": "animalaienv"
  },
  "language_info": {
   "codemirror_mode": {
    "name": "ipython",
    "version": 3
   },
   "file_extension": ".py",
   "mimetype": "text/x-python",
   "name": "python",
   "nbconvert_exporter": "python",
   "pygments_lexer": "ipython3",
   "version": "3.6.2"
  }
 },
 "nbformat": 4,
 "nbformat_minor": 2
}
