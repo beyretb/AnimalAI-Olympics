{
 "cells": [
  {
   "cell_type": "code",
   "execution_count": null,
   "metadata": {
    "scrolled": false
   },
   "outputs": [],
   "source": [
    "import os\n",
    "import sys\n",
    "# os.chdir('/Users/ludo/Desktop/animalai/animalai')\n",
    "sys.path.insert(0, \"/Users/ludo/Desktop/animalai/animalai/animalai_train\")\n",
    "sys.path.insert(1, \"/Users/ludo/Desktop/animalai/animalai/animalai\")\n",
    "from animalai.envs.gym.environment import AnimalAIGym\n",
    "import random\n",
    "from animalai.envs.arena_config import ArenaConfig\n",
    "\n",
    "import yaml\n",
    "import copy\n",
    "import numpy as np\n",
    "import pandas as pd\n",
    "from matplotlib import pyplot as plt\n",
    "\n",
    "\n",
    "# CONFIG\n",
    "env_path = '../env/AnimalAI'\n",
    "worker_id = 0\n",
    "#random.randint(1, 100)\n",
    "# competition_envs = os.listdir('../competition_configurations/')\n",
    "\n",
    "seed = 1\n",
    "\n",
    "\n",
    "# yaml_path = 'examples/rand_env.yml'\n",
    "# ac = ArenaConfig(yaml_path)\n",
    "# arena_path = \"competition_configurations/5-10-3.yml\" #'configurations/curriculum/0.yaml'\n",
    "# ac = ArenaConfig(arena_path)\n",
    "# ac.arenas[1] = copy.deepcopy(ac.arenas[0])\n",
    "\n",
    "env = AnimalAIGym(environment_filename=env_path,\n",
    "              worker_id=worker_id,\n",
    "              n_arenas=1,\n",
    "              arenas_configurations=None,\n",
    "#                 use_visual=False,\n",
    "                seed=seed,\n",
    "                 grayscale=False)\n",
    "\n"
   ]
  },
  {
   "cell_type": "code",
   "execution_count": null,
   "metadata": {
    "scrolled": true
   },
   "outputs": [],
   "source": [
    "# env.reset()\n",
    "for i in range(1):\n",
    "    x = env.step([[1,0]])\n",
    "# plt.axis('off')\n",
    "# plt.imshow(env.render())\n",
    "# plt.savefig('rand_env.png',bbox_inches='tight',transparent=True, pad_inches=0)\n",
    "\n",
    "# env._env.arenas_obj_config_side_channel.arenas_config"
   ]
  },
  {
   "cell_type": "code",
   "execution_count": null,
   "metadata": {},
   "outputs": [],
   "source": [
    "np.append(x[3]['batched_step_result'].obs[1].reshape(-1,9), np.array([0,0,0])).shape\n"
   ]
  },
  {
   "cell_type": "code",
   "execution_count": null,
   "metadata": {},
   "outputs": [],
   "source": [
    "# env._env.DEFAULT_EDITOR_PORT\n",
    "x[3]['batched_step_result'].obs[1].reshape(-1,9)[[0,11,22]][:, 0:6].flatten()"
   ]
  },
  {
   "cell_type": "code",
   "execution_count": null,
   "metadata": {},
   "outputs": [],
   "source": [
    "x[0]"
   ]
  },
  {
   "cell_type": "code",
   "execution_count": null,
   "metadata": {
    "scrolled": false
   },
   "outputs": [],
   "source": [
    "obj_mapper = [\n",
    "             \"Cardbox1\",\n",
    "             \"Cardbox2\",\n",
    "             \"CylinderTunnelTransparent\",\n",
    "             \"CylinderTunnel\",\n",
    "             \"DeathZone\",\n",
    "             \"GoodGoalMulti\",\n",
    "             \"GoodGoal\",\n",
    "             \"LObject\",\n",
    "             \"LObject2\",\n",
    "             \"Ramp\",\n",
    "             \"UObject\",\n",
    "             \"WallTransparent\",\n",
    "             \"Wall\",\n",
    "              \"BadGoal\",\n",
    "              \"HotZone\"]\n",
    "res = x[3]['batched_step_result'].obs[1].reshape(-1,9)\n",
    "df = pd.DataFrame(res[1:, :])\n",
    "df.rename(inplace=True, columns={0: 'class', 1:'rotation', 2: 'occlusion%', 3:'pos_x', 4:'pos_y', 5:'pos_z', 6: 'size_x', 7: 'size_y', 8:'size_z'})\n",
    "df['class'] = df['class'].apply(lambda x: obj_mapper[int(x)] if x!=-1.0 else 'null')\n",
    "df_a = pd.DataFrame(res[0, :]).T\n",
    "df_a.rename(inplace=True, columns={0: 'vel_x', 1:'vel_y', 2: 'vel_z', 3:'pos_x', 4:'pos_y', 5:'pos_z', 6: 'rot_x', 7: 'rot_y', 8:'rot_z'})\n",
    "display(df)\n",
    "display(df_a)\n"
   ]
  },
  {
   "cell_type": "code",
   "execution_count": null,
   "metadata": {
    "scrolled": true
   },
   "outputs": [],
   "source": [
    "env.close()"
   ]
  },
  {
   "cell_type": "code",
   "execution_count": null,
   "metadata": {
    "scrolled": false
   },
   "outputs": [],
   "source": [
    "env.reset()\n",
    "for _ in range(1):\n",
    "    x = env.step([[0,0]])\n",
    "    res = x[3]['batched_step_result'].obs[1][0]\n",
    "    plt.axis('off')\n",
    "    plt.imshow(res)\n",
    "#     plt.savefig('rand_env.png',bbox_inches='tight',transparent=True, pad_inches=0)\n",
    "    plt.show()\n",
    "    res = x[3]['batched_step_result'].obs[1][1]\n",
    "    plt.axis('off')\n",
    "    plt.imshow(res)\n",
    "#     plt.savefig('rand_env.png',bbox_inches='tight',transparent=True, pad_inches=0)\n",
    "    plt.show()    "
   ]
  },
  {
   "cell_type": "code",
   "execution_count": null,
   "metadata": {},
   "outputs": [],
   "source": [
    "env.close()"
   ]
  },
  {
   "cell_type": "code",
   "execution_count": null,
   "metadata": {},
   "outputs": [],
   "source": [
    "env.visual_obs.shape"
   ]
  },
  {
   "cell_type": "code",
   "execution_count": null,
   "metadata": {},
   "outputs": [],
   "source": [
    "x[3]['batched_step_result'].obs[1]"
   ]
  },
  {
   "cell_type": "code",
   "execution_count": null,
   "metadata": {
    "scrolled": false
   },
   "outputs": [],
   "source": [
    "import sys\n",
    "sys.path.insert(0, \"/Users/ludo/Desktop/animalai/animalai/animalai_train\")\n",
    "sys.path.insert(1, \"/Users/ludo/Desktop/animalai/animalai/animalai\")\n",
    "from animalai.envs.gym.environment import AnimalAIGym\n",
    "import random\n",
    "from animalai.envs.arena_config import ArenaConfig\n",
    "\n",
    "import os\n",
    "import yaml\n",
    "import copy\n",
    "import numpy as np\n",
    "import pandas as pd\n",
    "from matplotlib import pyplot as plt\n",
    "\n",
    "from animalai.envs.environment import AnimalAIEnvironment\n",
    "\n",
    "# CONFIG\n",
    "# env_path = '../env/env8'\n",
    "env_path = '../env/AnimalAI'\n",
    "\n",
    "worker_id = 0\n",
    "seed = 1\n",
    "yaml_path = 'rand_env.yml'\n",
    "ac = ArenaConfig(yaml_path)\n",
    "\n",
    "env = AnimalAIEnvironment(\n",
    "                    file_name=None,\n",
    "                    arenas_configurations = ac,\n",
    "                    worker_id=worker_id,\n",
    "                    play=False, base_port=5004,\n",
    "                    )\n",
    "# env = AnimalAIGym(environment_filename=env_path,\n",
    "#               worker_id=worker_id,\n",
    "#               n_arenas=1,\n",
    "#               arenas_configurations=ac,\n",
    "\n",
    "#                 seed=seed,\n",
    "#                  grayscale=False)\n",
    "x = env.step()\n",
    "\n",
    "# plt.axis('off')\n",
    "# plt.imshow(env.visual_obs)\n",
    "# plt.savefig('rand_env.png',bbox_inches='tight',transparent=True, pad_inches=0)\n"
   ]
  },
  {
   "cell_type": "code",
   "execution_count": null,
   "metadata": {},
   "outputs": [],
   "source": [
    "x = env.step()\n"
   ]
  },
  {
   "cell_type": "code",
   "execution_count": null,
   "metadata": {},
   "outputs": [],
   "source": [
    "env.close()"
   ]
  },
  {
   "cell_type": "code",
   "execution_count": null,
   "metadata": {},
   "outputs": [],
   "source": [
    "x[1].rl_output.agentInfos['AnimalAI?team=0'].value[0].observations[0].float_data.data\n",
    "\n",
    "x[1].rl_output.agentInfos['AnimalAI?team=0'].value[0].observations[0].float_data\n",
    "# .Clear()"
   ]
  },
  {
   "cell_type": "code",
   "execution_count": null,
   "metadata": {},
   "outputs": [],
   "source": [
    "y = [0.0, -0.3539848327636719, 0.0, 16.634414672851562, 0.4917698800563812, 16.636703491210938, -0.0, 117.50151062011719, -0.0, 12.0, 84.5000228881836, 25.35931396484375, 26.27842903137207, 2.5103018283843994, 7.750280857086182, 12.421944618225098, 5.0373125076293945, 0.9563466310501099, -1.0, -1.0, -1.0, -1.0, -1.0, -1.0, -1.0, -1.0, -1.0, -1.0, -1.0, -1.0, -1.0, -1.0, -1.0, -1.0, -1.0, -1.0, -1.0, -1.0, -1.0, -1.0, -1.0, -1.0, -1.0, -1.0, -1.0, -1.0, -1.0, -1.0, -1.0, -1.0, -1.0, -1.0, -1.0, -1.0, -1.0, -1.0, -1.0, -1.0, -1.0, -1.0, -1.0, -1.0, -1.0, -1.0, -1.0, -1.0, -1.0, -1.0, -1.0, -1.0, -1.0, -1.0, -1.0, -1.0, -1.0, -1.0, -1.0, -1.0, -1.0, -1.0, -1.0, -1.0, -1.0, -1.0, -1.0, -1.0, -1.0, -1.0, -1.0, -1.0, 5, -1.0, -1.0, -1.0, -1.0, -1.0, -1.0, -1.0, -1.0]\n"
   ]
  },
  {
   "cell_type": "code",
   "execution_count": null,
   "metadata": {},
   "outputs": [],
   "source": [
    "from mlagents_envs.communicator_objects.observation_pb2 import ObservationProto\n"
   ]
  },
  {
   "cell_type": "code",
   "execution_count": null,
   "metadata": {},
   "outputs": [],
   "source": [
    "dir(x[1].rl_output.agentInfos['AnimalAI?team=0'].value[0].observations[0].float_data)"
   ]
  },
  {
   "cell_type": "code",
   "execution_count": null,
   "metadata": {},
   "outputs": [],
   "source": [
    "me = x[1].rl_output.agentInfos['AnimalAI?team=0'].value[0].observations[0].float_data\n"
   ]
  },
  {
   "cell_type": "code",
   "execution_count": null,
   "metadata": {},
   "outputs": [],
   "source": [
    "me.CopyFrom(x[1].rl_output.agentInfos['AnimalAI?team=0'].value[0].observations[0].float_data)"
   ]
  },
  {
   "cell_type": "code",
   "execution_count": null,
   "metadata": {},
   "outputs": [],
   "source": [
    "me"
   ]
  },
  {
   "cell_type": "code",
   "execution_count": null,
   "metadata": {},
   "outputs": [],
   "source": [
    "ObservationProto."
   ]
  },
  {
   "cell_type": "code",
   "execution_count": null,
   "metadata": {},
   "outputs": [],
   "source": [
    "y = ObservationProto.FloatData()"
   ]
  },
  {
   "cell_type": "code",
   "execution_count": null,
   "metadata": {},
   "outputs": [],
   "source": [
    "del person.things[:]\n",
    "y.data.extend([3,4,2])"
   ]
  },
  {
   "cell_type": "code",
   "execution_count": null,
   "metadata": {},
   "outputs": [],
   "source": [
    "y"
   ]
  },
  {
   "cell_type": "code",
   "execution_count": null,
   "metadata": {},
   "outputs": [],
   "source": [
    "x"
   ]
  },
  {
   "cell_type": "code",
   "execution_count": null,
   "metadata": {},
   "outputs": [],
   "source": []
  }
 ],
 "metadata": {
  "kernelspec": {
   "display_name": "animalaienv",
   "language": "python",
   "name": "animalaienv"
  },
  "language_info": {
   "codemirror_mode": {
    "name": "ipython",
    "version": 3
   },
   "file_extension": ".py",
   "mimetype": "text/x-python",
   "name": "python",
   "nbconvert_exporter": "python",
   "pygments_lexer": "ipython3",
   "version": "3.6.2"
  }
 },
 "nbformat": 4,
 "nbformat_minor": 2
}
