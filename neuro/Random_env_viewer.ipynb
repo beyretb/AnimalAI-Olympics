{
 "cells": [
  {
   "cell_type": "code",
   "execution_count": null,
   "metadata": {
    "scrolled": false
   },
   "outputs": [],
   "source": [
    "import os\n",
    "import sys\n",
    "# os.chdir('/Users/ludo/Desktop/animalai/animalai')\n",
    "sys.path.insert(0, \"/Users/ludo/Desktop/animalai/animalai/animalai_train\")\n",
    "sys.path.insert(1, \"/Users/ludo/Desktop/animalai/animalai/animalai\")\n",
    "from animalai.envs.gym.environment import AnimalAIGym\n",
    "import random\n",
    "from animalai.envs.arena_config import ArenaConfig\n",
    "\n",
    "import yaml\n",
    "import copy\n",
    "import numpy as np\n",
    "import pandas as pd\n",
    "from matplotlib import pyplot as plt\n",
    "\n",
    "\n",
    "# CONFIG\n",
    "env_path = '../env/macro2'\n",
    "worker_id = 1\n",
    "#random.randint(1, 100)\n",
    "# competition_envs = os.listdir('../competition_configurations/')\n",
    "\n",
    "seed = 1\n",
    "\n",
    "\n",
    "yaml_path = '../examples/rand_env.yml'\n",
    "ac = ArenaConfig(yaml_path)\n",
    "# arena_path = \"../competition_configurations/5-10-3.yml\" #'configurations/curriculum/0.yaml'\n",
    "# ac = ArenaConfig(arena_path)\n",
    "# ac.arenas[1] = copy.deepcopy(ac.arenas[0])\n",
    "\n",
    "env = AnimalAIGym(environment_filename=env_path,\n",
    "              worker_id=worker_id,\n",
    "              n_arenas=1,\n",
    "              arenas_configurations=ac,\n",
    "                use_visual=False,\n",
    "                seed=seed,\n",
    "                 grayscale=False)\n",
    "\n",
    "x = env.step([[0,0]])"
   ]
  },
  {
   "cell_type": "code",
   "execution_count": null,
   "metadata": {
    "scrolled": true
   },
   "outputs": [],
   "source": [
    "# env.reset()\n",
    "for i in range(10):\n",
    "    x = env.step([[0,1]])\n",
    "#     print(x[1], x[2], x[3]['batched_step_result'].done, x[3]['batched_step_result'].reward)\n",
    "\n",
    "plt.axis('off')\n",
    "plt.imshow(x[3]['batched_step_result'].obs[0][0])\n",
    "plt.savefig('rand_env.png',bbox_inches='tight',transparent=True, pad_inches=0)\n",
    "\n",
    "# env._env.arenas_obj_config_side_channel.arenas_config\n",
    "# x[3]['batched_step_result'].obs[0][0].shape"
   ]
  },
  {
   "cell_type": "code",
   "execution_count": null,
   "metadata": {},
   "outputs": [],
   "source": [
    "# np.append(x[3]['batched_step_result'].obs[1].reshape(-1,9), np.array([0,0,0])).shape\n",
    "x"
   ]
  },
  {
   "cell_type": "code",
   "execution_count": null,
   "metadata": {},
   "outputs": [],
   "source": [
    "# env._env.DEFAULT_EDITOR_PORT\n",
    "x[3]['batched_step_result'].obs[1].reshape(-1,9)[[0,11,22]][:, 0:6].flatten()"
   ]
  },
  {
   "cell_type": "code",
   "execution_count": null,
   "metadata": {},
   "outputs": [],
   "source": [
    "res = x[3]['batched_step_result'].obs[1].flatten()[6:146].reshape(-1,14)\n",
    "obj_mapper = [\n",
    "             \"Cardbox1\",\n",
    "             \"Cardbox2\",\n",
    "             \"CylinderTunnelTransparent\",\n",
    "             \"CylinderTunnel\",\n",
    "             \"DeathZone\",\n",
    "             \"GoodGoalMulti\",\n",
    "             \"GoodGoal\",\n",
    "             \"LObject\",\n",
    "             \"LObject2\",\n",
    "             \"Ramp\",\n",
    "             \"UObject\",\n",
    "             \"WallTransparent\",\n",
    "             \"Wall\",\n",
    "              \"BadGoal\",\n",
    "              \"HotZone\"]\n",
    "df = pd.DataFrame(res)\n",
    "df.rename(inplace=True, columns={0: 'id', 1:'class', 2: 'visible', 3:'abs_pos_x', 4:'abs_pos_y', 5:'abs_pos_z', 6: 'rel_pos_x', 7: 'rel_pos_y', 8:'rel_pos_z', 9:'abs_rot', 10:'rel_rot', 11:'size_x', 12:'size_y', 13:'size_z'})\n",
    "df['class'] = df['class'].apply(lambda x: obj_mapper[int(x)] if x!=-1.0 else 'null')\n",
    "df_a = pd.DataFrame( x[3]['batched_step_result'].obs[1].flatten()[0:6]).T\n",
    "df_a.rename(inplace=True, columns={0: 'vel_x', 1:'vel_z', 2:'rot_y', 3:'abs_pos_x', 4:'abs_pos_y', 5:'abs_pos_z'})\n",
    "display(df)\n",
    "display(df_a)\n",
    "res = x[3]['batched_step_result'].obs[0][0]\n",
    "plt.axis('off')\n",
    "plt.imshow(res)"
   ]
  },
  {
   "cell_type": "code",
   "execution_count": null,
   "metadata": {
    "collapsed": true,
    "scrolled": false
   },
   "outputs": [],
   "source": [
    "obj_mapper = [\n",
    "             \"Cardbox1\",\n",
    "             \"Cardbox2\",\n",
    "             \"CylinderTunnelTransparent\",\n",
    "             \"CylinderTunnel\",\n",
    "             \"DeathZone\",\n",
    "             \"GoodGoalMulti\",\n",
    "             \"GoodGoal\",\n",
    "             \"LObject\",\n",
    "             \"LObject2\",\n",
    "             \"Ramp\",\n",
    "             \"UObject\",\n",
    "             \"WallTransparent\",\n",
    "             \"Wall\",\n",
    "              \"BadGoal\",\n",
    "              \"HotZone\"]\n",
    "res = x[3]['batched_step_result'].obs[1].reshape(-1,9)\n",
    "df = pd.DataFrame(res[1:, :])\n",
    "df.rename(inplace=True, columns={0: 'class', 1:'rotation', 2: 'occlusion%', 3:'pos_x', 4:'pos_y', 5:'pos_z', 6: 'size_x', 7: 'size_y', 8:'size_z'})\n",
    "df['class'] = df['class'].apply(lambda x: obj_mapper[int(x)] if x!=-1.0 else 'null')\n",
    "df_a = pd.DataFrame(res[0, :]).T\n",
    "df_a.rename(inplace=True, columns={0: 'vel_x', 1:'vel_y', 2: 'vel_z', 3:'pos_x', 4:'pos_y', 5:'pos_z', 6: 'rot_x', 7: 'rot_y', 8:'rot_z'})\n",
    "display(df)\n",
    "display(df_a)\n"
   ]
  },
  {
   "cell_type": "code",
   "execution_count": null,
   "metadata": {
    "collapsed": true,
    "scrolled": true
   },
   "outputs": [],
   "source": [
    "env.close()"
   ]
  },
  {
   "cell_type": "code",
   "execution_count": null,
   "metadata": {
    "collapsed": true,
    "scrolled": false
   },
   "outputs": [],
   "source": [
    "env.reset()\n",
    "for _ in range(1):\n",
    "    x = env.step([[0,0]])\n",
    "    res = x[3]['batched_step_result'].obs[1][0]\n",
    "    plt.axis('off')\n",
    "    plt.imshow(res)\n",
    "#     plt.savefig('rand_env.png',bbox_inches='tight',transparent=True, pad_inches=0)\n",
    "    plt.show()\n",
    "    res = x[3]['batched_step_result'].obs[1][1]\n",
    "    plt.axis('off')\n",
    "    plt.imshow(res)\n",
    "#     plt.savefig('rand_env.png',bbox_inches='tight',transparent=True, pad_inches=0)\n",
    "    plt.show()    "
   ]
  },
  {
   "cell_type": "code",
   "execution_count": null,
   "metadata": {
    "collapsed": true
   },
   "outputs": [],
   "source": [
    "env.close()"
   ]
  },
  {
   "cell_type": "code",
   "execution_count": null,
   "metadata": {
    "collapsed": true
   },
   "outputs": [],
   "source": [
    "env.visual_obs.shape"
   ]
  },
  {
   "cell_type": "code",
   "execution_count": null,
   "metadata": {
    "collapsed": true
   },
   "outputs": [],
   "source": [
    "x[3]['batched_step_result'].obs[1]"
   ]
  },
  {
   "cell_type": "code",
   "execution_count": null,
   "metadata": {
    "scrolled": false
   },
   "outputs": [],
   "source": [
    "import sys\n",
    "sys.path.insert(0, \"/Users/ludo/Desktop/animalai/animalai/animalai_train\")\n",
    "sys.path.insert(1, \"/Users/ludo/Desktop/animalai/animalai/animalai\")\n",
    "from animalai.envs.gym.environment import AnimalAIGym\n",
    "import random\n",
    "from animalai.envs.arena_config import ArenaConfig\n",
    "\n",
    "import os\n",
    "import yaml\n",
    "import copy\n",
    "import numpy as np\n",
    "import pandas as pd\n",
    "from matplotlib import pyplot as plt\n",
    "\n",
    "from animalai.envs.environment import AnimalAIEnvironment\n",
    "\n",
    "# CONFIG\n",
    "env_path = '../env/env12'\n",
    "# env_path = '../env/AnimalAI'\n",
    "\n",
    "worker_id = 0\n",
    "seed = 1\n",
    "yaml_path = '../competition_configurations/5-7-1.yml'\n",
    "ac = ArenaConfig(yaml_path)\n",
    "\n",
    "env = AnimalAIEnvironment(\n",
    "                    file_name=env_path,\n",
    "                    arenas_configurations = ac,\n",
    "                    worker_id=worker_id,\n",
    "                    play=True, base_port=5004,\n",
    "                    )\n",
    "# env = AnimalAIGym(environment_filename=env_path,\n",
    "#               worker_id=worker_id,\n",
    "#               n_arenas=1,\n",
    "#               arenas_configurations=ac,\n",
    "\n",
    "#                 seed=seed,\n",
    "#                  grayscale=False)\n",
    "x = env.step()\n",
    "\n",
    "# plt.axis('off')\n",
    "# plt.imshow(env.visual_obs)\n",
    "# plt.savefig('rand_env.png',bbox_inches='tight',transparent=True, pad_inches=0)\n"
   ]
  },
  {
   "cell_type": "code",
   "execution_count": null,
   "metadata": {
    "collapsed": true
   },
   "outputs": [],
   "source": []
  },
  {
   "cell_type": "code",
   "execution_count": null,
   "metadata": {
    "collapsed": true
   },
   "outputs": [],
   "source": [
    "env.close()"
   ]
  },
  {
   "cell_type": "code",
   "execution_count": null,
   "metadata": {
    "collapsed": true
   },
   "outputs": [],
   "source": [
    "x[1].rl_output.agentInfos['AnimalAI?team=0'].value[0].observations[0].float_data.data\n",
    "\n",
    "x[1].rl_output.agentInfos['AnimalAI?team=0'].value[0].observations[0].float_data\n",
    "# .Clear()"
   ]
  },
  {
   "cell_type": "code",
   "execution_count": null,
   "metadata": {
    "collapsed": true
   },
   "outputs": [],
   "source": [
    "y = [0.0, -0.3539848327636719, 0.0, 16.634414672851562, 0.4917698800563812, 16.636703491210938, -0.0, 117.50151062011719, -0.0, 12.0, 84.5000228881836, 25.35931396484375, 26.27842903137207, 2.5103018283843994, 7.750280857086182, 12.421944618225098, 5.0373125076293945, 0.9563466310501099, -1.0, -1.0, -1.0, -1.0, -1.0, -1.0, -1.0, -1.0, -1.0, -1.0, -1.0, -1.0, -1.0, -1.0, -1.0, -1.0, -1.0, -1.0, -1.0, -1.0, -1.0, -1.0, -1.0, -1.0, -1.0, -1.0, -1.0, -1.0, -1.0, -1.0, -1.0, -1.0, -1.0, -1.0, -1.0, -1.0, -1.0, -1.0, -1.0, -1.0, -1.0, -1.0, -1.0, -1.0, -1.0, -1.0, -1.0, -1.0, -1.0, -1.0, -1.0, -1.0, -1.0, -1.0, -1.0, -1.0, -1.0, -1.0, -1.0, -1.0, -1.0, -1.0, -1.0, -1.0, -1.0, -1.0, -1.0, -1.0, -1.0, -1.0, -1.0, -1.0, 5, -1.0, -1.0, -1.0, -1.0, -1.0, -1.0, -1.0, -1.0]\n"
   ]
  },
  {
   "cell_type": "code",
   "execution_count": null,
   "metadata": {
    "collapsed": true
   },
   "outputs": [],
   "source": [
    "from mlagents_envs.communicator_objects.observation_pb2 import ObservationProto\n"
   ]
  },
  {
   "cell_type": "code",
   "execution_count": null,
   "metadata": {
    "collapsed": true
   },
   "outputs": [],
   "source": [
    "dir(x[1].rl_output.agentInfos['AnimalAI?team=0'].value[0].observations[0].float_data)"
   ]
  },
  {
   "cell_type": "code",
   "execution_count": null,
   "metadata": {
    "collapsed": true
   },
   "outputs": [],
   "source": [
    "me = x[1].rl_output.agentInfos['AnimalAI?team=0'].value[0].observations[0].float_data\n"
   ]
  },
  {
   "cell_type": "code",
   "execution_count": null,
   "metadata": {
    "collapsed": true
   },
   "outputs": [],
   "source": [
    "me.CopyFrom(x[1].rl_output.agentInfos['AnimalAI?team=0'].value[0].observations[0].float_data)"
   ]
  },
  {
   "cell_type": "code",
   "execution_count": null,
   "metadata": {
    "collapsed": true
   },
   "outputs": [],
   "source": [
    "me"
   ]
  },
  {
   "cell_type": "code",
   "execution_count": null,
   "metadata": {
    "collapsed": true
   },
   "outputs": [],
   "source": [
    "ObservationProto."
   ]
  },
  {
   "cell_type": "code",
   "execution_count": null,
   "metadata": {
    "collapsed": true
   },
   "outputs": [],
   "source": [
    "y = ObservationProto.FloatData()"
   ]
  },
  {
   "cell_type": "code",
   "execution_count": null,
   "metadata": {
    "collapsed": true
   },
   "outputs": [],
   "source": [
    "del person.things[:]\n",
    "y.data.extend([3,4,2])"
   ]
  },
  {
   "cell_type": "code",
   "execution_count": null,
   "metadata": {
    "collapsed": true
   },
   "outputs": [],
   "source": [
    "y"
   ]
  },
  {
   "cell_type": "code",
   "execution_count": null,
   "metadata": {
    "collapsed": true
   },
   "outputs": [],
   "source": [
    "x[3]['batched_step_result'].obs[1].shape"
   ]
  },
  {
   "cell_type": "code",
   "execution_count": null,
   "metadata": {
    "collapsed": true
   },
   "outputs": [],
   "source": []
  },
  {
   "cell_type": "code",
   "execution_count": null,
   "metadata": {
    "collapsed": true
   },
   "outputs": [],
   "source": [
    "print(visible)"
   ]
  },
  {
   "cell_type": "code",
   "execution_count": null,
   "metadata": {},
   "outputs": [],
   "source": [
    "x"
   ]
  },
  {
   "cell_type": "code",
   "execution_count": null,
   "metadata": {},
   "outputs": [],
   "source": [
    "x[3]['batched_step_result'].obs[1].flatten().shape"
   ]
  },
  {
   "cell_type": "code",
   "execution_count": null,
   "metadata": {},
   "outputs": [],
   "source": [
    "df[df['id']!=-1].set_index('id')"
   ]
  },
  {
   "cell_type": "code",
   "execution_count": null,
   "metadata": {},
   "outputs": [],
   "source": [
    "obj_mapper = [\n",
    "             \"Cardbox1\",\n",
    "             \"Cardbox2\",\n",
    "             \"CylinderTunnelTransparent\",\n",
    "             \"CylinderTunnel\",\n",
    "             \"DeathZone\",\n",
    "             \"GoodGoalMulti\",\n",
    "             \"GoodGoal\",\n",
    "             \"LObject\",\n",
    "             \"LObject2\",\n",
    "             \"Ramp\",\n",
    "             \"UObject\",\n",
    "             \"WallTransparent\",\n",
    "             \"Wall\",\n",
    "              \"BadGoal\",\n",
    "              \"HotZone\"]\n",
    "def obs2state(vector_obs):\n",
    "    obj_df = pd.DataFrame(vector_obs[6:146].reshape(-1,14))\n",
    "    obj_df.rename(inplace=True, columns={0: 'id', 1:'class', 2: 'visible', 3:'abs_pos_x', 4:'abs_pos_y', 5:'abs_pos_z', 6: 'rel_pos_x', 7: 'rel_pos_y', 8:'rel_pos_z', 9:'abs_rot', 10:'rel_rot', 11:'size_x', 12:'size_y', 13:'size_z'})\n",
    "    obj_df['class'] = obj_df['class'].apply(lambda x: obj_mapper[int(x)] if x!=-1.0 else 'null')\n",
    "    obj_df = obj_df[obj_df['id']!=-1]\n",
    "    obj_df['id'] = (obj_df['id']*-1).astype(int)\n",
    "    obj_df = obj_df.set_index('id')\n",
    "\n",
    "    # df_a = pd.DataFrame(vector_obs[0:6]).T\n",
    "    # df_a.rename(inplace=True, columns={0: 'vel_x', 1:'vel_z', 2:'rot_y', 3:'abs_pos_x', 4:'abs_pos_y', 5:'abs_pos_z'})\n",
    "\n",
    "    rays = vector_obs[146:151].flatten()\n",
    "    wtlm = np.matrix(vector_obs[151:167].flatten()).reshape(4,4)\n",
    "\n",
    "    res = {\n",
    "        \"agent\": vector_obs[0:6], #df\n",
    "        \"objects\": obj_df, #df\n",
    "        \"rays\": rays, # np\n",
    "        \"transform\": wtlm, # np\n",
    "    }\n",
    "    return res\n",
    "def preprocess(step_results):\n",
    "    vector_obs = step_results[3]['batched_step_result'].obs[1].flatten()\n",
    "    tmin1 = obs2state(vector_obs[:167])\n",
    "    t = obs2state(vector_obs[167:])\n",
    "\n",
    "    res = {\n",
    "        \"t-1\": tmin1, #df\n",
    "        \"t\": t, #df\n",
    "        \"reward\": step_results[1], #float\n",
    "        \"done\": step_results[2], # bool\n",
    "        \"step\": step_results[-1] \n",
    "    }\n",
    "    return res"
   ]
  },
  {
   "cell_type": "code",
   "execution_count": null,
   "metadata": {},
   "outputs": [],
   "source": [
    "y = preprocess(x)\n",
    "y['t']['objects']"
   ]
  },
  {
   "cell_type": "code",
   "execution_count": null,
   "metadata": {},
   "outputs": [],
   "source": [
    "import math\n",
    "def transform(matrix, obj):\n",
    "    \"\"\"Transform world position of vector to local position relative to agent\"\"\"\n",
    "    # obj = np.matrix(obj/40 - agent)\n",
    "    obj.resize(4, refcheck=False) # adds \n",
    "    res  = matrix * obj.reshape(4,1)\n",
    "    return res\n",
    "def go_behind(step_results, x):\n",
    "    \"\"\"Go behind object x. x is an id. x comes in as \"x,y\"\"\"\n",
    "    x = int(x.split(',')[0])\n",
    "    res = np.zeros(20)\n",
    "    mstate = preprocess(step_results)\n",
    "    for c, timestep in enumerate(['t-1', 't']):\n",
    "        state = mstate[timestep]\n",
    "        ooi_pos = np.array(state['objects'].loc[x, ['abs_pos_x', 'abs_pos_y', 'abs_pos_z']])\n",
    "        agent_pos = state['agent'][3:6]\n",
    "        rel_pos = ooi_pos-agent_pos\n",
    "        magn = np.linalg.norm(rel_pos)\n",
    "        behind_pos = rel_pos*(magn+0.125)/magn # 0.125 => 5units in world\n",
    "        local_behind_pos = transform(state['transform'], behind_pos)\n",
    "#         rel_rot = math.atan2(local_behind_pos[0], local_behind_pos[1])\n",
    "#         print(rel_rot)\n",
    "        res[0+(10*c):2+(10*c)] = state['agent'][:2]\n",
    "        res[2+(10*c)] = state['objects'].loc[x,'rel_rot']\n",
    "        res[3+(10*c):5+(10*c)] = [local_behind_pos[0], local_behind_pos[2]] #only want x,z\n",
    "        res[5+(10*c):10+(10*c)] = state['rays']\n",
    "    return res\n",
    "\n",
    "res = go_behind(x, '468,454')"
   ]
  },
  {
   "cell_type": "code",
   "execution_count": null,
   "metadata": {},
   "outputs": [],
   "source": []
  },
  {
   "cell_type": "code",
   "execution_count": null,
   "metadata": {},
   "outputs": [],
   "source": [
    "orig = [ 0.32875911, -0.4170535 ]\n",
    "plt.xlim(-1,1)\n",
    "plt.ylim(-1,1)\n",
    "plt.scatter([res[13], orig[0]], [res[14], orig[1]])"
   ]
  },
  {
   "cell_type": "code",
   "execution_count": null,
   "metadata": {
    "collapsed": true
   },
   "outputs": [],
   "source": []
  }
 ],
 "metadata": {
  "kernelspec": {
   "display_name": "animalaienv",
   "language": "python",
   "name": "animalaienv"
  },
  "language_info": {
   "codemirror_mode": {
    "name": "ipython",
    "version": 3
   },
   "file_extension": ".py",
   "mimetype": "text/x-python",
   "name": "python",
   "nbconvert_exporter": "python",
   "pygments_lexer": "ipython3",
   "version": "3.6.2"
  }
 },
 "nbformat": 4,
 "nbformat_minor": 2
}
