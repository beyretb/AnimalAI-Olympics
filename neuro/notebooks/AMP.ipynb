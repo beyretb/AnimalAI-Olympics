{
 "cells": [
  {
   "cell_type": "code",
   "execution_count": 1,
   "metadata": {},
   "outputs": [
    {
     "name": "stderr",
     "output_type": "stream",
     "text": [
      "WARNING:tensorflow:From /Users/ludo/Desktop/animalai/lib/python3.6/site-packages/mlagents/tf_utils/tf.py:33: The name tf.ConfigProto is deprecated. Please use tf.compat.v1.ConfigProto instead.\n",
      "\n"
     ]
    },
    {
     "name": "stdout",
     "output_type": "stream",
     "text": [
      "USING LOCAL LIBRARY\n"
     ]
    },
    {
     "name": "stderr",
     "output_type": "stream",
     "text": [
      "INFO:mlagents_envs:Connected to Unity environment with package version 0.15.0-preview and communication version 0.15.0\n",
      "INFO:mlagents_envs:Connected new brain:\n",
      "AnimalAI?team=0\n",
      "INFO:gym_unity:1 agents within environment.\n"
     ]
    }
   ],
   "source": [
    "import os\n",
    "os.chdir('..')\n",
    "import sys\n",
    "sys.path.insert(0, \"/Users/ludo/Desktop/animalai/animalai/animalai_train\")\n",
    "sys.path.insert(1, \"/Users/ludo/Desktop/animalai/animalai/animalai\")\n",
    "\n",
    "from raw_learned import Pipeline\n",
    "from collections import namedtuple\n",
    "from animalai.envs.arena_config import ArenaConfig\n",
    "import os\n",
    "margs = namedtuple('args', 'env seed arena_config num_episodes inference')\n",
    "env_path = '../env/bb2'\n",
    "ac = \"configurations/curriculum4/35.yml\"\n",
    "ac = [ArenaConfig(ac)]\n",
    "seed = 0\n",
    "# ac = [ArenaConfig(f\"../competition_configurations/{i}.yml\") for i in x]\n",
    "# print(f\"Total number of arenas:{len(ac)}\")\n",
    "# args = margs(env=env_path, arena_config=ac, num_episodes=len(ac), inference=True)\n",
    "args = margs(env=env_path, seed=seed, arena_config=ac, num_episodes=120, inference=False)\n",
    "pipe = Pipeline(args)"
   ]
  },
  {
   "cell_type": "code",
   "execution_count": 2,
   "metadata": {
    "scrolled": true
   },
   "outputs": [
    {
     "name": "stdout",
     "output_type": "stream",
     "text": [
      "NEW RULES LEARNED: initiate(interact(V0),V3) :- goal(V0), visible(V1, V2, V3).\n",
      "\n",
      "NO RULES LEARNED\n",
      "NO RULES LEARNED\n",
      "Final results: 78/120 episodes were completed successfully\n",
      "Total time taken: 376.9109308719635\n"
     ]
    }
   ],
   "source": [
    "import time\n",
    "start = time.time()\n",
    "x = pipe.learn_run()\n",
    "end = time.time()\n",
    "print(f\"Total time taken: {end-start}\")\n"
   ]
  },
  {
   "cell_type": "code",
   "execution_count": 3,
   "metadata": {},
   "outputs": [
    {
     "name": "stdout",
     "output_type": "stream",
     "text": [
      "None\n"
     ]
    },
    {
     "ename": "TypeError",
     "evalue": "'NoneType' object is not subscriptable",
     "output_type": "error",
     "traceback": [
      "\u001b[0;31m---------------------------------------------------------------------------\u001b[0m",
      "\u001b[0;31mTypeError\u001b[0m                                 Traceback (most recent call last)",
      "\u001b[0;32m<ipython-input-3-4cbe7c24e237>\u001b[0m in \u001b[0;36m<module>\u001b[0;34m\u001b[0m\n\u001b[1;32m      1\u001b[0m \u001b[0mprint\u001b[0m\u001b[0;34m(\u001b[0m\u001b[0mx\u001b[0m\u001b[0;34m)\u001b[0m\u001b[0;34m\u001b[0m\u001b[0m\n\u001b[0;32m----> 2\u001b[0;31m \u001b[0msum\u001b[0m\u001b[0;34m(\u001b[0m\u001b[0mx\u001b[0m\u001b[0;34m[\u001b[0m\u001b[0;34m:\u001b[0m\u001b[0;36m30\u001b[0m\u001b[0;34m]\u001b[0m\u001b[0;34m)\u001b[0m\u001b[0;34m\u001b[0m\u001b[0m\n\u001b[0m",
      "\u001b[0;31mTypeError\u001b[0m: 'NoneType' object is not subscriptable"
     ]
    }
   ],
   "source": [
    "print(x)\n",
    "sum(x[:30])"
   ]
  },
  {
   "cell_type": "code",
   "execution_count": 4,
   "metadata": {},
   "outputs": [
    {
     "name": "stderr",
     "output_type": "stream",
     "text": [
      "INFO:mlagents_envs:Environment shut down with return code 0.\n"
     ]
    }
   ],
   "source": [
    "pipe.env.close()"
   ]
  },
  {
   "cell_type": "code",
   "execution_count": null,
   "metadata": {
    "collapsed": true
   },
   "outputs": [],
   "source": [
    "seed0 = \n",
    "seed1 = \n",
    "seed2 = \n",
    "seed3 = "
   ]
  }
 ],
 "metadata": {
  "kernelspec": {
   "display_name": "animalaienv",
   "language": "python",
   "name": "animalaienv"
  },
  "language_info": {
   "codemirror_mode": {
    "name": "ipython",
    "version": 3
   },
   "file_extension": ".py",
   "mimetype": "text/x-python",
   "name": "python",
   "nbconvert_exporter": "python",
   "pygments_lexer": "ipython3",
   "version": "3.6.2"
  }
 },
 "nbformat": 4,
 "nbformat_minor": 2
}
