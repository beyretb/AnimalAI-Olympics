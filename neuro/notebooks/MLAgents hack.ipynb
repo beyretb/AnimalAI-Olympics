{
 "cells": [
  {
   "cell_type": "code",
   "execution_count": null,
   "metadata": {},
   "outputs": [],
   "source": [
    "import sys\n",
    "sys.path.insert(0, \"/Users/ludo/Desktop/animalai/animalai/animalai\")\n",
    "from animalai.envs.arena_config import ArenaConfig\n",
    "\n",
    "# sys.path.insert(0, \"/Users/ludo/Desktop/animalai/animalai/animalai_train\")\n",
    "from animalai.envs.environment import AnimalAIEnvironment\n",
    "yaml_path = 'configurations/curriculum4/19.yml'\n",
    "ac = ArenaConfig(yaml_path)\n",
    "env = AnimalAIEnvironment('../env/bb2', n_arenas=1, alter_obs=True, arenas_configurations = ac)\n"
   ]
  },
  {
   "cell_type": "code",
   "execution_count": null,
   "metadata": {
    "collapsed": true
   },
   "outputs": [],
   "source": [
    "# for i in range(100):\n",
    "env.step()"
   ]
  },
  {
   "cell_type": "code",
   "execution_count": null,
   "metadata": {
    "collapsed": true
   },
   "outputs": [],
   "source": [
    "# del env._env_specs['AnimalAI?team=0'].observation_shapes[0]\n",
    "env._env_specs['AnimalAI?team=0'].observation_shapes"
   ]
  },
  {
   "cell_type": "code",
   "execution_count": null,
   "metadata": {
    "collapsed": true
   },
   "outputs": [],
   "source": [
    "import matplotlib.pyplot as plt\n",
    "import cv2\n",
    "import numpy as np\n",
    "from animalai.envs.cvis import ExtractFeatures\n",
    "ef = ExtractFeatures()\n",
    "img = env.outputs.rl_output.agentInfos[\n",
    "    'AnimalAI?team=0'].value[0].observations[0].compressed_data\n",
    "ef.run(img)\n",
    "# decoded = cv2.imdecode(np.frombuffer(img, np.uint8), -1)\n",
    "# plt.imshow(decoded[:,:,::-1])"
   ]
  },
  {
   "cell_type": "code",
   "execution_count": null,
   "metadata": {
    "collapsed": true
   },
   "outputs": [],
   "source": [
    "cv2.cvtColor(decoded, cv2.COLOR_BGR2HSV)"
   ]
  },
  {
   "cell_type": "code",
   "execution_count": null,
   "metadata": {
    "collapsed": true
   },
   "outputs": [],
   "source": [
    "img = env.outputs.rl_output.agentInfos[\n",
    "    'AnimalAI?team=0'].value[0].observations[1]\n",
    "img.float_data.data.extend([5,3,2])\n",
    "img.float_data.data"
   ]
  },
  {
   "cell_type": "code",
   "execution_count": null,
   "metadata": {
    "collapsed": true
   },
   "outputs": [],
   "source": [
    "env.outputs.rl_output.agentInfos"
   ]
  },
  {
   "cell_type": "code",
   "execution_count": null,
   "metadata": {
    "collapsed": true
   },
   "outputs": [],
   "source": [
    "env._env_specs"
   ]
  },
  {
   "cell_type": "code",
   "execution_count": null,
   "metadata": {
    "collapsed": true
   },
   "outputs": [],
   "source": [
    "env.get_step_result('AnimalAI?team=0').obs"
   ]
  },
  {
   "cell_type": "code",
   "execution_count": null,
   "metadata": {
    "collapsed": true
   },
   "outputs": [],
   "source": [
    "env._env_state['AnimalAI?team=0'].obs"
   ]
  },
  {
   "cell_type": "code",
   "execution_count": null,
   "metadata": {},
   "outputs": [],
   "source": [
    "from animalai.envs.cvis import ExtractFeatures\n",
    "ef = ExtractFeatures(display=True)\n",
    "# data = env.rl_output.agentInfos['AnimalAI?team=0'].value[0].observations[0].compressed_data\n",
    "data = env.img\n",
    "ef.run(data)"
   ]
  },
  {
   "cell_type": "code",
   "execution_count": null,
   "metadata": {},
   "outputs": [],
   "source": [
    "import matplotlib.pyplot as plt\n",
    "\n",
    "plt.imshow(ef.img[:,:,::-1])\n",
    "# plt.savefig('/Users/ludo/Desktop/far.jpg', bbox_inches='tight',transparent=True, pad_inches=0)"
   ]
  },
  {
   "cell_type": "code",
   "execution_count": null,
   "metadata": {
    "collapsed": true
   },
   "outputs": [],
   "source": [
    "import cv2\n",
    "cv2.imwrite('/Users/ludo/Desktop/far.png', ef.img)"
   ]
  },
  {
   "cell_type": "code",
   "execution_count": null,
   "metadata": {
    "collapsed": true
   },
   "outputs": [],
   "source": [
    "env._env_specs"
   ]
  },
  {
   "cell_type": "code",
   "execution_count": null,
   "metadata": {
    "collapsed": true
   },
   "outputs": [],
   "source": [
    "env."
   ]
  }
 ],
 "metadata": {
  "kernelspec": {
   "display_name": "animalaienv",
   "language": "python",
   "name": "animalaienv"
  },
  "language_info": {
   "codemirror_mode": {
    "name": "ipython",
    "version": 3
   },
   "file_extension": ".py",
   "mimetype": "text/x-python",
   "name": "python",
   "nbconvert_exporter": "python",
   "pygments_lexer": "ipython3",
   "version": "3.6.2"
  }
 },
 "nbformat": 4,
 "nbformat_minor": 2
}
