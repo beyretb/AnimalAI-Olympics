{
 "cells": [
  {
   "cell_type": "code",
   "execution_count": 1,
   "metadata": {},
   "outputs": [
    {
     "name": "stderr",
     "output_type": "stream",
     "text": [
      "WARNING:tensorflow:From /Users/ludo/Desktop/animalai/lib/python3.6/site-packages/mlagents/tf_utils/tf.py:33: The name tf.ConfigProto is deprecated. Please use tf.compat.v1.ConfigProto instead.\n",
      "\n"
     ]
    }
   ],
   "source": [
    "import os\n",
    "os.chdir('..')\n",
    "import sys\n",
    "sys.path.insert(0, \"/Users/ludo/Desktop/animalai/animalai/animalai_train\")\n",
    "sys.path.insert(1, \"/Users/ludo/Desktop/animalai/animalai/animalai\")\n",
    "\n",
    "from raw_learned import Pipeline\n",
    "from collections import namedtuple\n",
    "from animalai.envs.arena_config import ArenaConfig\n",
    "import os\n",
    "env_path = '../env/bb2'\n",
    "ac = \"configurations/curriculum4/35.yml\"\n",
    "ac = [ArenaConfig(ac)]\n",
    "# ac = [ArenaConfig(f\"../competition_configurations/{i}.yml\") for i in x]\n",
    "# print(f\"Total number of arenas:{len(ac)}\")\n",
    "# args = margs(env=env_path, arena_config=ac, num_episodes=len(ac), inference=True)\n"
   ]
  },
  {
   "cell_type": "code",
   "execution_count": 2,
   "metadata": {
    "scrolled": true
   },
   "outputs": [
    {
     "name": "stdout",
     "output_type": "stream",
     "text": [
      "USING LOCAL LIBRARY\n"
     ]
    },
    {
     "name": "stderr",
     "output_type": "stream",
     "text": [
      "INFO:mlagents_envs:Connected to Unity environment with package version 0.15.0-preview and communication version 0.15.0\n",
      "INFO:mlagents_envs:Connected new brain:\n",
      "AnimalAI?team=0\n",
      "INFO:gym_unity:1 agents within environment.\n"
     ]
    },
    {
     "name": "stdout",
     "output_type": "stream",
     "text": [
      "NEW RULES LEARNED: initiate(interact(V0),V2) :- goal(V0), visible(V0, V1, V2).\n",
      "\n",
      "NEW RULES LEARNED: initiate(explore(V0,V3,V1),V2) :- visible(V0, V1, V2), occludes(V0,V3, V2).\n",
      "\n",
      "NO RULES LEARNED\n",
      "Final results: 104/120 episodes were completed successfully\n"
     ]
    },
    {
     "name": "stderr",
     "output_type": "stream",
     "text": [
      "INFO:mlagents_envs:Environment shut down with return code 0.\n"
     ]
    },
    {
     "name": "stdout",
     "output_type": "stream",
     "text": [
      "USING LOCAL LIBRARY\n"
     ]
    },
    {
     "name": "stderr",
     "output_type": "stream",
     "text": [
      "INFO:mlagents_envs:Connected to Unity environment with package version 0.15.0-preview and communication version 0.15.0\n",
      "INFO:mlagents_envs:Connected new brain:\n",
      "AnimalAI?team=0\n",
      "INFO:gym_unity:1 agents within environment.\n"
     ]
    },
    {
     "name": "stdout",
     "output_type": "stream",
     "text": [
      "NEW RULES LEARNED: initiate(interact(V0),V2) :- goal(V0), visible(V0, V1, V2).\n",
      "\n",
      "NEW RULES LEARNED: initiate(explore(V0,V3,V1),V2) :- visible(V0, V1, V2), occludes(V0,V3, V2).\n",
      "\n",
      "NO RULES LEARNED\n",
      "Final results: 100/120 episodes were completed successfully\n"
     ]
    },
    {
     "name": "stderr",
     "output_type": "stream",
     "text": [
      "INFO:mlagents_envs:Environment shut down with return code 0.\n"
     ]
    },
    {
     "name": "stdout",
     "output_type": "stream",
     "text": [
      "USING LOCAL LIBRARY\n"
     ]
    },
    {
     "name": "stderr",
     "output_type": "stream",
     "text": [
      "INFO:mlagents_envs:Connected to Unity environment with package version 0.15.0-preview and communication version 0.15.0\n",
      "INFO:mlagents_envs:Connected new brain:\n",
      "AnimalAI?team=0\n",
      "INFO:gym_unity:1 agents within environment.\n"
     ]
    },
    {
     "name": "stdout",
     "output_type": "stream",
     "text": [
      "NEW RULES LEARNED: initiate(interact(V0),V2) :- goal(V0), visible(V0, V1, V2).\n",
      "\n",
      "NEW RULES LEARNED: initiate(explore(V0,V3,V1),V2) :- visible(V0, V1, V2), occludes(V0,V3, V2).\n",
      "\n",
      "NO RULES LEARNED\n",
      "Final results: 102/120 episodes were completed successfully\n"
     ]
    },
    {
     "name": "stderr",
     "output_type": "stream",
     "text": [
      "INFO:mlagents_envs:Environment shut down with return code 0.\n"
     ]
    },
    {
     "name": "stdout",
     "output_type": "stream",
     "text": [
      "USING LOCAL LIBRARY\n"
     ]
    },
    {
     "name": "stderr",
     "output_type": "stream",
     "text": [
      "INFO:mlagents_envs:Connected to Unity environment with package version 0.15.0-preview and communication version 0.15.0\n",
      "INFO:mlagents_envs:Connected new brain:\n",
      "AnimalAI?team=0\n",
      "INFO:gym_unity:1 agents within environment.\n"
     ]
    },
    {
     "name": "stdout",
     "output_type": "stream",
     "text": [
      "NEW RULES LEARNED: initiate(interact(V0),V2) :- goal(V0), visible(V0, V1, V2).\n",
      "\n",
      "NEW RULES LEARNED: initiate(explore(V0,V3,V1),V2) :- visible(V0, V1, V2), occludes(V0,V3, V2).\n",
      "\n",
      "NO RULES LEARNED\n",
      "Final results: 98/120 episodes were completed successfully\n"
     ]
    },
    {
     "name": "stderr",
     "output_type": "stream",
     "text": [
      "INFO:mlagents_envs:Environment shut down with return code 0.\n"
     ]
    },
    {
     "name": "stdout",
     "output_type": "stream",
     "text": [
      "USING LOCAL LIBRARY\n"
     ]
    },
    {
     "name": "stderr",
     "output_type": "stream",
     "text": [
      "INFO:mlagents_envs:Connected to Unity environment with package version 0.15.0-preview and communication version 0.15.0\n",
      "INFO:mlagents_envs:Connected new brain:\n",
      "AnimalAI?team=0\n",
      "INFO:gym_unity:1 agents within environment.\n"
     ]
    },
    {
     "name": "stdout",
     "output_type": "stream",
     "text": [
      "NEW RULES LEARNED: initiate(interact(V0),V2) :- goal(V0), visible(V0, V1, V2).\n",
      "\n",
      "NEW RULES LEARNED: initiate(explore(V0,V3,V1),V2) :- visible(V0, V1, V2), occludes(V0,V3, V2).\n",
      "\n",
      "NO RULES LEARNED\n",
      "Final results: 101/120 episodes were completed successfully\n"
     ]
    },
    {
     "name": "stderr",
     "output_type": "stream",
     "text": [
      "INFO:mlagents_envs:Environment shut down with return code 0.\n"
     ]
    },
    {
     "name": "stdout",
     "output_type": "stream",
     "text": [
      "USING LOCAL LIBRARY\n"
     ]
    },
    {
     "name": "stderr",
     "output_type": "stream",
     "text": [
      "INFO:mlagents_envs:Connected to Unity environment with package version 0.15.0-preview and communication version 0.15.0\n",
      "INFO:mlagents_envs:Connected new brain:\n",
      "AnimalAI?team=0\n",
      "INFO:gym_unity:1 agents within environment.\n"
     ]
    },
    {
     "name": "stdout",
     "output_type": "stream",
     "text": [
      "NEW RULES LEARNED: initiate(interact(V0),V3) :- goal(V0), visible(V1, V2, V3).\n",
      "\n",
      "NO RULES LEARNED\n",
      "NO RULES LEARNED\n",
      "Final results: 86/120 episodes were completed successfully\n"
     ]
    },
    {
     "name": "stderr",
     "output_type": "stream",
     "text": [
      "INFO:mlagents_envs:Environment shut down with return code 0.\n"
     ]
    },
    {
     "name": "stdout",
     "output_type": "stream",
     "text": [
      "USING LOCAL LIBRARY\n"
     ]
    },
    {
     "name": "stderr",
     "output_type": "stream",
     "text": [
      "INFO:mlagents_envs:Connected to Unity environment with package version 0.15.0-preview and communication version 0.15.0\n",
      "INFO:mlagents_envs:Connected new brain:\n",
      "AnimalAI?team=0\n",
      "INFO:gym_unity:1 agents within environment.\n"
     ]
    },
    {
     "name": "stdout",
     "output_type": "stream",
     "text": [
      "NEW RULES LEARNED: initiate(interact(V0),V2) :- goal(V0), visible(V0, V1, V2).\n",
      "\n",
      "NEW RULES LEARNED: initiate(explore(V0,V3,V1),V2) :- visible(V0, V1, V2), occludes(V0,V3, V2).\n",
      "\n",
      "NO RULES LEARNED\n",
      "Final results: 103/120 episodes were completed successfully\n"
     ]
    },
    {
     "name": "stderr",
     "output_type": "stream",
     "text": [
      "INFO:mlagents_envs:Environment shut down with return code 0.\n"
     ]
    },
    {
     "name": "stdout",
     "output_type": "stream",
     "text": [
      "USING LOCAL LIBRARY\n"
     ]
    },
    {
     "name": "stderr",
     "output_type": "stream",
     "text": [
      "INFO:mlagents_envs:Connected to Unity environment with package version 0.15.0-preview and communication version 0.15.0\n",
      "INFO:mlagents_envs:Connected new brain:\n",
      "AnimalAI?team=0\n",
      "INFO:gym_unity:1 agents within environment.\n"
     ]
    },
    {
     "name": "stdout",
     "output_type": "stream",
     "text": [
      "NEW RULES LEARNED: initiate(interact(V0),V2) :- goal(V0), visible(V0, V1, V2).\n",
      "\n",
      "NEW RULES LEARNED: initiate(explore(V0,V3,V1),V2) :- visible(V0, V1, V2), occludes(V0,V3, V2).\n",
      "\n",
      "NO RULES LEARNED\n",
      "Final results: 102/120 episodes were completed successfully\n"
     ]
    },
    {
     "name": "stderr",
     "output_type": "stream",
     "text": [
      "INFO:mlagents_envs:Environment shut down with return code 0.\n"
     ]
    },
    {
     "name": "stdout",
     "output_type": "stream",
     "text": [
      "USING LOCAL LIBRARY\n"
     ]
    },
    {
     "name": "stderr",
     "output_type": "stream",
     "text": [
      "INFO:mlagents_envs:Connected to Unity environment with package version 0.15.0-preview and communication version 0.15.0\n",
      "INFO:mlagents_envs:Connected new brain:\n",
      "AnimalAI?team=0\n",
      "INFO:gym_unity:1 agents within environment.\n"
     ]
    },
    {
     "name": "stdout",
     "output_type": "stream",
     "text": [
      "NEW RULES LEARNED: initiate(interact(V0),V2) :- goal(V0), visible(V0, V1, V2).\n",
      "\n",
      "NEW RULES LEARNED: initiate(explore(V0,V3,V1),V2) :- visible(V0, V1, V2), occludes(V0,V3, V2).\n",
      "\n",
      "NO RULES LEARNED\n",
      "Final results: 106/120 episodes were completed successfully\n"
     ]
    },
    {
     "name": "stderr",
     "output_type": "stream",
     "text": [
      "INFO:mlagents_envs:Environment shut down with return code 0.\n"
     ]
    },
    {
     "name": "stdout",
     "output_type": "stream",
     "text": [
      "USING LOCAL LIBRARY\n"
     ]
    },
    {
     "name": "stderr",
     "output_type": "stream",
     "text": [
      "INFO:mlagents_envs:Connected to Unity environment with package version 0.15.0-preview and communication version 0.15.0\n",
      "INFO:mlagents_envs:Connected new brain:\n",
      "AnimalAI?team=0\n",
      "INFO:gym_unity:1 agents within environment.\n"
     ]
    },
    {
     "name": "stdout",
     "output_type": "stream",
     "text": [
      "NEW RULES LEARNED: initiate(interact(V0),V2) :- goal(V0), visible(V0, V1, V2).\n",
      "\n",
      "NEW RULES LEARNED: initiate(explore(V0,V3,V1),V2) :- visible(V0, V1, V2), occludes(V0,V3, V2).\n",
      "\n",
      "NO RULES LEARNED\n",
      "Final results: 104/120 episodes were completed successfully\n"
     ]
    },
    {
     "name": "stderr",
     "output_type": "stream",
     "text": [
      "INFO:mlagents_envs:Environment shut down with return code 0.\n"
     ]
    }
   ],
   "source": [
    "import time\n",
    "results = {}\n",
    "for i in range(10):\n",
    "    start = time.time()\n",
    "    margs = namedtuple('args', 'seed env arena_config num_episodes inference')\n",
    "    args = margs(env=env_path, seed =i, arena_config=ac, num_episodes=120, inference=False)\n",
    "    pipe = Pipeline(args)\n",
    "    results[i] = pipe.learn_run()\n",
    "    end = time.time()\n",
    "#     print(f\"Total time taken: {end-start}\")\n",
    "# x = pipe.learn_run()"
   ]
  },
  {
   "cell_type": "code",
   "execution_count": 179,
   "metadata": {
    "scrolled": true
   },
   "outputs": [
    {
     "name": "stdout",
     "output_type": "stream",
     "text": [
      "Int64Index([0, 1, 2, 3, 4, 5, 6, 7, 8, 9], dtype='int64')\n"
     ]
    }
   ],
   "source": [
    "# {cogn: results['success_rate'] for cogn, results in x.items()}\n",
    "\n",
    "# for cogn, results in x.items():\n",
    "# #     if cogn!='su'\n",
    "# #     print(results)\n",
    "# #     print(results['success_rate'])\n",
    "# #     break\n",
    "#     res[cogn] = sum(i['success'] for i in results.values())/len(results)\n",
    "# results[0]\n",
    "import pandas as pd\n",
    "episode_lengths = {k:[] for k in range(10)}\n",
    "success_rates = {k:[] for k in range(10)}\n",
    "\n",
    "for i in results:\n",
    "    for j in results[i][0]:\n",
    "        success_rates[i].append(j)\n",
    "    for j in results[i][1]:\n",
    "        episode_lengths[i].append(len(j))\n",
    "df = pd.DataFrame(success_rates).applymap(int)#.drop(5,axis=1)\n",
    "df1 = pd.DataFrame(episode_lengths)#.drop(5, axis=1)\n",
    "# sr = [df.iloc[:30], df.iloc[30:60], df.iloc[60:90], df.iloc[90:120] ]\n",
    "# el = [df1.iloc[:30], df1.iloc[30:60], df1.iloc[60:90], df1.iloc[90:120] ]\n",
    "# sr = [i.sum().mean()/30*100 for i in sr]\n",
    "# el = [i.mean().mean()/18*100 for i in el]\n",
    "# res = pd.DataFrame({'sucess':sr,\n",
    "#                     'episode_length': el})\n",
    "# pd.DataFrame({'0':df.iloc[:30], '1': df.iloc[30:60], '2':df.iloc[60:90], '3':df.iloc[90:120] }, index=list(range(31)))\n",
    "# list(df.columns)\n",
    "print(df1.columns)"
   ]
  },
  {
   "cell_type": "code",
   "execution_count": 193,
   "metadata": {},
   "outputs": [],
   "source": [
    "periods = []\n",
    "for i in range(120):\n",
    "    if i <30:\n",
    "        periods.append(0)\n",
    "    elif i <60:\n",
    "        periods.append(1)\n",
    "    elif i<90:\n",
    "        periods.append(2)\n",
    "    else:\n",
    "        periods.append(3)\n",
    "df['per'] = periods\n",
    "df1['per'] = periods\n",
    "sr = df.groupby('per').sum().T.describe()\n",
    "el = (df1.groupby('per').sum()/30).T.describe()"
   ]
  },
  {
   "cell_type": "code",
   "execution_count": 177,
   "metadata": {
    "scrolled": true
   },
   "outputs": [
    {
     "data": {
      "image/png": "[encoded data removed]",
      "text/plain": [
       "<Figure size 432x288 with 1 Axes>"
      ]
     },
     "metadata": {
      "needs_background": "light"
     },
     "output_type": "display_data"
    }
   ],
   "source": [
    "from matplotlib import pyplot as plt\n",
    "plt.bar([0,1,2,3],sr.loc['mean']/30*100, yerr=sr.loc['std'], capsize=5)\n",
    "plt.xticks([0,1,2,3])\n",
    "plt.ylim(40,100)\n",
    "plt.xlabel('Period')\n",
    "plt.ylabel(\"Sucess Rate (%)\")\n",
    "# plt.show()\n",
    "plt.savefig('/Users/ludo/Desktop/mpsr.png')"
   ]
  },
  {
   "cell_type": "code",
   "execution_count": 192,
   "metadata": {},
   "outputs": [
    {
     "data": {
      "text/html": [
       "<div>\n",
       "<style scoped>\n",
       "    .dataframe tbody tr th:only-of-type {\n",
       "        vertical-align: middle;\n",
       "    }\n",
       "\n",
       "    .dataframe tbody tr th {\n",
       "        vertical-align: top;\n",
       "    }\n",
       "\n",
       "    .dataframe thead th {\n",
       "        text-align: right;\n",
       "    }\n",
       "</style>\n",
       "<table border=\"1\" class=\"dataframe\">\n",
       "  <thead>\n",
       "    <tr style=\"text-align: right;\">\n",
       "      <th>per</th>\n",
       "      <th>0</th>\n",
       "      <th>1</th>\n",
       "      <th>2</th>\n",
       "      <th>3</th>\n",
       "    </tr>\n",
       "  </thead>\n",
       "  <tbody>\n",
       "    <tr>\n",
       "      <th>count</th>\n",
       "      <td>10.000000</td>\n",
       "      <td>10.000000</td>\n",
       "      <td>10.000000</td>\n",
       "      <td>10.000000</td>\n",
       "    </tr>\n",
       "    <tr>\n",
       "      <th>mean</th>\n",
       "      <td>0.162000</td>\n",
       "      <td>0.084333</td>\n",
       "      <td>0.075333</td>\n",
       "      <td>0.074667</td>\n",
       "    </tr>\n",
       "    <tr>\n",
       "      <th>std</th>\n",
       "      <td>0.020318</td>\n",
       "      <td>0.008404</td>\n",
       "      <td>0.005100</td>\n",
       "      <td>0.009935</td>\n",
       "    </tr>\n",
       "    <tr>\n",
       "      <th>min</th>\n",
       "      <td>0.134444</td>\n",
       "      <td>0.072222</td>\n",
       "      <td>0.067778</td>\n",
       "      <td>0.060000</td>\n",
       "    </tr>\n",
       "    <tr>\n",
       "      <th>25%</th>\n",
       "      <td>0.143611</td>\n",
       "      <td>0.078611</td>\n",
       "      <td>0.072500</td>\n",
       "      <td>0.069167</td>\n",
       "    </tr>\n",
       "    <tr>\n",
       "      <th>50%</th>\n",
       "      <td>0.166111</td>\n",
       "      <td>0.083333</td>\n",
       "      <td>0.074444</td>\n",
       "      <td>0.072778</td>\n",
       "    </tr>\n",
       "    <tr>\n",
       "      <th>75%</th>\n",
       "      <td>0.176389</td>\n",
       "      <td>0.091111</td>\n",
       "      <td>0.076389</td>\n",
       "      <td>0.077778</td>\n",
       "    </tr>\n",
       "    <tr>\n",
       "      <th>max</th>\n",
       "      <td>0.188889</td>\n",
       "      <td>0.097778</td>\n",
       "      <td>0.086667</td>\n",
       "      <td>0.096667</td>\n",
       "    </tr>\n",
       "  </tbody>\n",
       "</table>\n",
       "</div>"
      ],
      "text/plain": [
       "per            0          1          2          3\n",
       "count  10.000000  10.000000  10.000000  10.000000\n",
       "mean    0.162000   0.084333   0.075333   0.074667\n",
       "std     0.020318   0.008404   0.005100   0.009935\n",
       "min     0.134444   0.072222   0.067778   0.060000\n",
       "25%     0.143611   0.078611   0.072500   0.069167\n",
       "50%     0.166111   0.083333   0.074444   0.072778\n",
       "75%     0.176389   0.091111   0.076389   0.077778\n",
       "max     0.188889   0.097778   0.086667   0.096667"
      ]
     },
     "execution_count": 192,
     "metadata": {},
     "output_type": "execute_result"
    }
   ],
   "source": [
    "(df1.groupby('per').mean()/30).T.describe()"
   ]
  },
  {
   "cell_type": "code",
   "execution_count": 194,
   "metadata": {},
   "outputs": [
    {
     "data": {
      "image/png": "[encoded data removed]",
      "text/plain": [
       "<Figure size 432x288 with 1 Axes>"
      ]
     },
     "metadata": {
      "needs_background": "light"
     },
     "output_type": "display_data"
    }
   ],
   "source": [
    "plt.bar([0,1,2,3],el.loc['mean'], yerr=el.loc['std'], capsize=5)\n",
    "plt.xticks([0,1,2,3])\n",
    "# plt.ylim(0.5,1.7)\n",
    "plt.xlabel('Period')\n",
    "plt.ylabel(\"Average number of macro steps per episode\")\n",
    "# plt.show()\n",
    "plt.savefig('/Users/ludo/Desktop/mpel.png')"
   ]
  },
  {
   "cell_type": "code",
   "execution_count": 168,
   "metadata": {},
   "outputs": [
    {
     "data": {
      "text/plain": [
       "<matplotlib.axes._subplots.AxesSubplot at 0x16117d4a8>"
      ]
     },
     "execution_count": 168,
     "metadata": {},
     "output_type": "execute_result"
    },
    {
     "data": {
      "image/png": "[encoded data removed]",
      "text/plain": [
       "<Figure size 432x288 with 1 Axes>"
      ]
     },
     "metadata": {
      "needs_background": "light"
     },
     "output_type": "display_data"
    }
   ],
   "source": [
    "df.drop('per',axis=1).cumsum().plot()"
   ]
  },
  {
   "cell_type": "code",
   "execution_count": 174,
   "metadata": {},
   "outputs": [
    {
     "data": {
      "text/plain": [
       "<matplotlib.axes._subplots.AxesSubplot at 0x15fcb2518>"
      ]
     },
     "execution_count": 174,
     "metadata": {},
     "output_type": "execute_result"
    },
    {
     "data": {
      "image/png": "[encoded data removed]",
      "text/plain": [
       "<Figure size 432x288 with 1 Axes>"
      ]
     },
     "metadata": {
      "needs_background": "light"
     },
     "output_type": "display_data"
    }
   ],
   "source": [
    "df1.drop('per',axis=1).plot()"
   ]
  },
  {
   "cell_type": "code",
   "execution_count": null,
   "metadata": {
    "collapsed": true
   },
   "outputs": [],
   "source": []
  }
 ],
 "metadata": {
  "kernelspec": {
   "display_name": "animalaienv",
   "language": "python",
   "name": "animalaienv"
  },
  "language_info": {
   "codemirror_mode": {
    "name": "ipython",
    "version": 3
   },
   "file_extension": ".py",
   "mimetype": "text/x-python",
   "name": "python",
   "nbconvert_exporter": "python",
   "pygments_lexer": "ipython3",
   "version": "3.6.2"
  }
 },
 "nbformat": 4,
 "nbformat_minor": 2
}
