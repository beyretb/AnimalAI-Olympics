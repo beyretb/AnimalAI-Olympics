{
 "cells": [
  {
   "cell_type": "code",
   "execution_count": null,
   "metadata": {
    "collapsed": true
   },
   "outputs": [],
   "source": [
    "from collections import namedtuple\n",
    "from pipeline import Pipeline\n",
    "margs = namedtuple('args', 'env arena_config num_episodes')\n",
    "env_path = '../env/macro2'\n",
    "ac = \"configurations/curriculum4/25.yml\"\n",
    "# ac = '../competition_configurations/5-10-1.yml'\n",
    "args = margs(env=env_path, arena_config=ac, num_episodes=20)\n",
    "pip = Pipeline(args)"
   ]
  },
  {
   "cell_type": "code",
   "execution_count": null,
   "metadata": {
    "collapsed": true,
    "scrolled": false
   },
   "outputs": [],
   "source": [
    "x = pip.run()"
   ]
  },
  {
   "cell_type": "code",
   "execution_count": null,
   "metadata": {
    "collapsed": true
   },
   "outputs": [],
   "source": [
    "df = x['t']['objects']\n",
    "df1 = df[ 'visible']\n",
    "df1 = df1[df1!=-1].index.tolist()\n",
    "visible = \"\"\n",
    "for i in df1:\n",
    "    visible += f\"visible({round(i*-1)})\\n\"\n",
    "visible"
   ]
  },
  {
   "cell_type": "code",
   "execution_count": null,
   "metadata": {
    "collapsed": true
   },
   "outputs": [],
   "source": [
    "from clyngor import ASP\n",
    "\n",
    "lp = \"\"\"                \n",
    "present(1, 1).\n",
    "present(1, 2).\n",
    "present(2,1).\n",
    "timestep(1..2).\n",
    "present(X, T):- visible(X, T).\n",
    "initiate(interact(X), 5, 6):-present(X,T).\n",
    "explore(X,Y):-present(X,T),present(Y,T).\n",
    "rotate(T):-timestep(T).\n",
    "interact(X):-initiate(interact(X)).\n",
    "\"\"\"\n",
    "# lp = \"\"\"    present(1, 1).\n",
    "# present(1, 2).\n",
    "# present(2,1).\n",
    "#             present(X,T):- visible(X, _, T).\n",
    "#             object(X):-present(X,T).\n",
    "#             occlusion(O):-visible(_,O,_).\n",
    "#             explore(X,Y,O):-object(X), object(Y), occlusion(O).\n",
    "#             interact(X):-object(X).\n",
    "#             rotate.\"\"\"\n",
    "x1 = ASP(lp)\n",
    "print(list(x1.parse_args))\n",
    "x2 = ASP(lp)\n",
    "# answer_sets = list(list(answer_sets)[0])\n",
    "macro_actions = {\n",
    "    \"explore\":3,\n",
    "    \"interact\":1,\n",
    "    \"rotate\":0\n",
    "}\n",
    "# filter_as = lambda x: [i for i in x if i[0] in macro_actions]\n",
    "# filtered_as = filter_as(answer_sets)\n",
    "# import itertools\n",
    "from collections import deque, namedtuple\n",
    "\n",
    "# print(list(x1.atoms_as_string.sorted))\n",
    "# print(list(x2.parse_args.sorted))"
   ]
  },
  {
   "cell_type": "code",
   "execution_count": null,
   "metadata": {
    "collapsed": true
   },
   "outputs": [],
   "source": [
    "import subprocess\n",
    "\n",
    "bashCommand = \"ilasp --version=2i ../logic/logic4.lp -q\"\n",
    "process = subprocess.Popen(bashCommand, stdout=subprocess.PIPE, shell=True)\n",
    "# # output, error = process.communicate()\n",
    "# # output\n",
    "# process = subprocess.Popen([ bashCommand.split(), stdout=subprocess.PIPE], shell=True)\n",
    "output, error = process.communicate()\n",
    "# subprocess.check_call(bashCommand, shell=True)\n",
    "bool(output)"
   ]
  },
  {
   "cell_type": "code",
   "execution_count": 2,
   "metadata": {
    "collapsed": true
   },
   "outputs": [],
   "source": [
    "from collections import deque, namedtuple\n",
    "import numpy as np\n",
    "from clyngor import ASP\n",
    "import subprocess\n",
    "\n",
    "AnswerSet = namedtuple('AS', ['r', 'p', 'a']) # r for raw, p for parsed, a for arity\n",
    "\n",
    "\n",
    "class Logic:\n",
    "    def __init__(self, macro_step, global_step):\n",
    "        self.macro_step = macro_step\n",
    "        self.global_step = global_step\n",
    "        self.grounder = Grounder()\n",
    "        self.ilasp = Ilasp()\n",
    "        self.clingo = Clingo()\n",
    "        self.macro_actions = {\n",
    "            \"explore\":3,\n",
    "            \"interact\":1,\n",
    "            \"rotate\":0\n",
    "        }\n",
    "        self.observables = [\n",
    "            'present',\n",
    "            'visible',\n",
    "            'on',\n",
    "            'adjacent',\n",
    "            'goal',\n",
    "            'goal1',\n",
    "            'wall',\n",
    "            'platform'\n",
    "        ]\n",
    "        self.e = 1\n",
    "        self.e_discount = 1e-3\n",
    "\n",
    "    def macro_kb(self):\n",
    "        \"\"\"This is what we want to learn.\"\"\"\n",
    "        return \"\"\"\n",
    "            0{initiate(explore(X,Y,Z),T)}1:- visible(X,Z,T), occludes(X,Y,T).\n",
    "            initiate(interact(X),T):- visible(X, _,T), goal(X).\n",
    "            initiate(rotate,T):- not visible(T), timestep(T).\n",
    "        \"\"\"\n",
    "    def main_lp(self):\n",
    "        return \"\"\"\n",
    "            % Observables rules\n",
    "            present(X,T):- visible(X, _, T).\n",
    "            visible(T):- visible(X, _, T).\n",
    "            not_occluding(X, T):-on(agent, X, T).\n",
    "            separator(Y, T):-on(agent, X, T), adjacent(X, Y, T), platform(X).\n",
    "            occludes(X,Y,T) :- present(Y, T), visible(X, _, T), not visible(Y, _, T), not separator(X, T), not not_occluding(X, T).\n",
    "\n",
    "            % Observables - > actions: this is what we need to learn\n",
    "            :- initiate(explore(X1,Y,_), T), initiate(explore(X2,Y,_), T), X1 != X2.\n",
    "            :~initiate(explore(X,Y,Z),T).[Z@1,X,Z]\n",
    "            \n",
    "            % Completion checks checks\n",
    "            check(visible(Y),T):- initiate(explore(X,Y,Z),T).\n",
    "            check(time, T):- initiate(explore(X,Y,Z),T).\n",
    "            check(time, T):- initiate(interact(X),T).\n",
    "            check(time, T):- initiate(rotate,T).\n",
    "            \"\"\"\n",
    "    def e_greedy(self):\n",
    "        # Don't start egreedy until there's at least one positive example with inclusion\n",
    "        res = np.random.choice(['ilasp', 'random'], 1, p=[1-self.e, self.e])\n",
    "        self.e = max(0.05, self.e - self.e_discount)\n",
    "        return res\n",
    "\n",
    "    def run(self, macro_step, state):\n",
    "        # Need to have a list of all possible grounded macro actions\n",
    "        # e greedy choice between ilasp grounded AS or random section from macro action list\n",
    "        # If random choose random\n",
    "        # If ilasp learns rules, add to lp and run clyngor. If returns initiate, use that\n",
    "        # Otherwise use random\n",
    "        # Gamma discount examples to ilasp as weights\n",
    "        # Macro action list needs to be simple and translate easily to both modes and grounded mas\n",
    "        # Need to keep timestep too, to control extent of timestep\n",
    "        \n",
    "        # Ground state into high level observable predicates\n",
    "        observables = self.grounder.run(state)\n",
    "        # E greedy decide to do random or ilasp\n",
    "        choice = self.e_greedy()\n",
    "        if choice == 'ilasp':\n",
    "            lp = observables + main_lp\n",
    "            learned_lp = self.ilasp.run(lp)\n",
    "            if learned_lp:\n",
    "                action = self.clingo.run(learned_lp, random=False)\n",
    "            else:\n",
    "                action = self.clingo.run(observables, random=True)\n",
    "            # Need to update ilasp examples with outcome\n",
    "        elif choice == 'random':\n",
    "            action = self.clingo.run(observables, random=True)\n",
    "        else:\n",
    "            raise Exception(\"Modality not recognised\")\n",
    "        \n",
    "        if not action['initiate']:\n",
    "            action = self.clingo.run(observables, random=True)\n",
    "        return action\n",
    "\n",
    "class Grounder:\n",
    "    def __init__(self):\n",
    "        pass\n",
    "    @staticmethod\n",
    "    def adjacent(state):\n",
    "        adjacent = \"\"\n",
    "        for bbox, obj_type, _, _id in state['obj']:\n",
    "            for bbox1, obj_type1, _, _id1 in state['obj']:\n",
    "                dist = get_distance(bbox, bbox1)\n",
    "                if (_id1!=_id)&(dist<0.02):\n",
    "                    adjacent += f\"adjacent({_id},{_id1}).\\n\"\n",
    "        return adjacent\n",
    "    @staticmethod\n",
    "    def on(state):\n",
    "        on = \"\"\n",
    "        bottom_rect = [0, 0.75, 1, 0.25]\n",
    "        for bbox, _, _, _id in state['obj']:\n",
    "            if get_overlap(bbox, bottom_rect)>0.5:\n",
    "                on += f\"on(agent,{_id}).\\n\"\n",
    "        return on\n",
    "\n",
    "    @staticmethod\n",
    "    def visible(state):\n",
    "        visible = \"\"\n",
    "        for _, obj_type, _occ_area, _id in state['obj']:\n",
    "            visible += f\"visible({_id},{_occ_area}).\\n{obj_type}({_id}).\\n\"\n",
    "\n",
    "        return visible\n",
    "    @staticmethod\n",
    "    def goal_visible(state):\n",
    "        try:\n",
    "            gg_id = next(i[3] for i in state['obj'] if i[1] in ['goal', 'goal1'])\n",
    "        except StopIteration:\n",
    "            gg_id = 42\n",
    "        return f\"goal({gg_id}).\\n\"\n",
    "    def run(self, state):\n",
    "        res = \"\"\n",
    "        for k,v in self.__dict__.items():\n",
    "            if isinstance(v, staticmethod):\n",
    "                res+= getattr(self, v)(state)\n",
    "        return res\n",
    "class Ilasp(Logic):\n",
    "    def __init__(self, macro_step, global_step):\n",
    "        super().__init__(macro_step, global_step)\n",
    "        # Examples are [int:weight, string:example]\n",
    "        self.memory_len = 100\n",
    "        self.examples = deque(maxlen=self.memory_len)\n",
    "    def create_modeh(self):\n",
    "        res = \"\"\n",
    "        for name, num_preds in self.macro_actions.items():\n",
    "            if num_preds:\n",
    "                variables = \"(\"\n",
    "                for i in range(num_preds):\n",
    "                    variables+=f\"var(V{i}),\"\n",
    "                variables = variables[:-1]\n",
    "            else:\n",
    "                variables = \"\"\n",
    "            res += f\"#modeh(1, initiate({name}{variables},var(T))).\\n\"\n",
    "        return res\n",
    "    \n",
    "    def update_examples(self, answer_set, valence):\n",
    "        observables = '.'.join([i for i in answer_set.r if any(j in i for j in self.observables)])\n",
    "        actions = ','.join([i for i in answer_set.r if any(j in i for j in self.macro_actons)])\n",
    "        if valence=='success':\n",
    "            example = f\"#pos(a{self.memory_len}@{self.memory_len},{{actions}}, {{}}, {{observables}})\"\n",
    "        else:\n",
    "            example = f\"#pos(a{self.memory_len}@{self.memory_len},{{}}, {{actions}}, {{observables}})\"\n",
    "        self.examples.append([self.memory_len, example])\n",
    "        for c, eg in enumerate(self.examples):\n",
    "            at_index = eg[1].index[','] # first comma\n",
    "            updated_eg = eg[1][:6] + f\"{c}@{c}\" + eg[1][at_index+1:]\n",
    "            self.examples = [c, updated_eg]\n",
    "\n",
    "    def run(self, lp):        \n",
    "        # Create text file with lp\n",
    "        with open(\"tmp.lp\", \"w\") as text_file:\n",
    "            text_file.write(lp+self.create_modeh())\n",
    "        # Start bash process that runs ilasp learning\n",
    "        bashCommand = \"ilasp --version=2i tmp.lp -q\"\n",
    "        process = subprocess.Popen(bashCommand, stdout=subprocess.PIPE, shell=True)\n",
    "        output, error = process.communicate()\n",
    "        \n",
    "        # Return new lp with learned rules\n",
    "        if bool(output): #learned rules\n",
    "            output = output.decode(\"utf-8\")\n",
    "            lp+= '\\n' + output\n",
    "            return lp\n",
    "        return False # No learned rules, will choose random macro\n",
    "        \n",
    "        \n",
    "class Clingo(Logic):\n",
    "    def __init__(self, macro_step, global_step):\n",
    "        super().__init__(macro_step, global_step)\n",
    "\n",
    "    @staticmethod\n",
    "    def random_action_grounder(ground_observables):\n",
    "        lp = f\"\"\"\n",
    "            {ground_observables}\n",
    "            present(X,T):- visible(X, _, T).\n",
    "            object(X):-present(X,T).\n",
    "            occlusion(O):-visible(_,O,_).\n",
    "            explore(X,Y,O):-object(X), object(Y), occlusion(O).\n",
    "            interact(X):-object(X).\n",
    "            rotate.\"\"\"\n",
    "        res = self.asp(lp)\n",
    "        return random.choice([i for i in res if i in self.macro_actions])\n",
    "\n",
    "    @staticmethod\n",
    "    def asp(lp):\n",
    "        as1 = list(ASP(lp).atoms_as_string.sorted)\n",
    "        as2 = list(ASP(lp).parse_args.sorted)\n",
    "\n",
    "        return AnswerSet(r=as1, p=as2, a=len(as1))\n",
    "\n",
    "\n",
    "    def macro_processing(self, answer_set):\n",
    "        # Look for initiate\n",
    "        res = {\n",
    "            'initiate':[],\n",
    "            'check':[],\n",
    "            'raw':[]\n",
    "        }\n",
    "        for c1, ans_set in enumerate(answer_set.p):\n",
    "            for c2, literal in enumerate(ans_set):\n",
    "                if 'initiate' in literal[0]:\n",
    "                    res['initiate'].append(literal[1])\n",
    "                    res['raw'].append(answer_set.r[c1][c2])\n",
    "                if 'check' in literal[0]:\n",
    "                    res['check'].append(literal[1])\n",
    "        return res\n",
    "\n",
    "    def run(lp, random=False):\n",
    "        # Just ground macro actions based on observables\n",
    "        if random:\n",
    "            res = self.random_action_grounder(lp)\n",
    "        else: # Run full lp\n",
    "            res = self.asp(lp)\n",
    "                \n",
    "        return self.macro_processing(lp)\n",
    "\n"
   ]
  },
  {
   "cell_type": "code",
   "execution_count": 3,
   "metadata": {
    "collapsed": true
   },
   "outputs": [],
   "source": [
    "from collections import deque\n",
    "x = deque(maxlen=3)\n",
    "x.append(4)"
   ]
  },
  {
   "cell_type": "code",
   "execution_count": 4,
   "metadata": {
    "collapsed": true
   },
   "outputs": [],
   "source": [
    "x.append(5)"
   ]
  },
  {
   "cell_type": "code",
   "execution_count": 5,
   "metadata": {},
   "outputs": [
    {
     "data": {
      "text/plain": [
       "\"{'sha'}\""
      ]
     },
     "execution_count": 5,
     "metadata": {},
     "output_type": "execute_result"
    }
   ],
   "source": [
    "wa = {'sha'}\n",
    "f\"{wa}\""
   ]
  },
  {
   "cell_type": "code",
   "execution_count": 6,
   "metadata": {},
   "outputs": [
    {
     "data": {
      "text/plain": [
       "'bala'"
      ]
     },
     "execution_count": 6,
     "metadata": {},
     "output_type": "execute_result"
    }
   ],
   "source": [
    "''.join(['ba', 'la'])"
   ]
  },
  {
   "cell_type": "code",
   "execution_count": 7,
   "metadata": {},
   "outputs": [
    {
     "data": {
      "text/plain": [
       "'{}'"
      ]
     },
     "execution_count": 7,
     "metadata": {},
     "output_type": "execute_result"
    }
   ],
   "source": [
    "f\"{{}}\""
   ]
  },
  {
   "cell_type": "code",
   "execution_count": 8,
   "metadata": {},
   "outputs": [
    {
     "data": {
      "text/plain": [
       "',ba,'"
      ]
     },
     "execution_count": 8,
     "metadata": {},
     "output_type": "execute_result"
    }
   ],
   "source": [
    "\"#pos(a{self.memory_len}@{self.memory_len},ba,\"[41:]"
   ]
  },
  {
   "cell_type": "code",
   "execution_count": 9,
   "metadata": {},
   "outputs": [
    {
     "data": {
      "text/plain": [
       "'ilasp'"
      ]
     },
     "execution_count": 9,
     "metadata": {},
     "output_type": "execute_result"
    }
   ],
   "source": [
    "e = 0.9\n",
    "res = np.random.choice(['ilasp', 'random'], p=[e, 1-e])\n",
    "res"
   ]
  },
  {
   "cell_type": "code",
   "execution_count": 10,
   "metadata": {
    "collapsed": true
   },
   "outputs": [],
   "source": [
    "class Grounder:\n",
    "    def __init__(self):\n",
    "        print(vars(Grounder))\n",
    "    @staticmethod\n",
    "    def adjacent(macro_step,state):\n",
    "        adjacent = \"\"\n",
    "        for bbox, _, _, _id in state['obj']:\n",
    "            for bbox1, _, _, _id1 in state['obj']:\n",
    "                dist = get_distance(bbox, bbox1)\n",
    "                if (_id1!=_id)&(dist<0.02):\n",
    "                    adjacent += f\"adjacent({_id},{_id1}, {macro_step}).\\n\"\n",
    "        return adjacent\n",
    "    @staticmethod\n",
    "    def on(macro_step,state):\n",
    "        on = \"\"\n",
    "        bottom_rect = [0, 0.75, 1, 0.25]\n",
    "        for bbox, _, _, _id in state['obj']:\n",
    "            if get_overlap(bbox, bottom_rect)>0.5:\n",
    "                on += f\"on(agent,{_id},{macro_step}).\\n\"\n",
    "        return on\n",
    "\n",
    "    @staticmethod\n",
    "    def visible(macro_step,state):\n",
    "        visible = \"\"\n",
    "        print(\"NOW HERE\")\n",
    "        for _, obj_type, _occ_area, _id in state['obj']:\n",
    "            print(obj_type)\n",
    "            visible += f\"visible({_id},{_occ_area},{macro_step}).\\n{obj_type}({_id}).\\n\"\n",
    "        print(visible)\n",
    "        return visible\n",
    "    @staticmethod\n",
    "    def goal_visible(_,state):\n",
    "        try:\n",
    "            gg_id = next(i[3] for i in state['obj'] if i[1] in ['goal', 'goal1'])\n",
    "        except StopIteration:\n",
    "            gg_id = 42\n",
    "        return f\"goal({gg_id}).\\n\"\n",
    "    def run(self, macro_step, state):\n",
    "        print(\"HERE\")\n",
    "        res = \"\"\n",
    "        print(state)\n",
    "        print(self.__dict__)\n",
    "        for _,v in self.__dict__.items():\n",
    "            print(v)\n",
    "\n",
    "            if isinstance(v, staticmethod):\n",
    "                res+= getattr(self, v)(macro_step,state)\n",
    "                print(res)\n",
    "        return res"
   ]
  },
  {
   "cell_type": "code",
   "execution_count": 11,
   "metadata": {},
   "outputs": [
    {
     "name": "stdout",
     "output_type": "stream",
     "text": [
      "{'__module__': '__main__', '__init__': <function Grounder.__init__ at 0x112cec488>, 'adjacent': <staticmethod object at 0x11371ce80>, 'on': <staticmethod object at 0x11371cfd0>, 'visible': <staticmethod object at 0x1141172b0>, 'goal_visible': <staticmethod object at 0x114117320>, 'run': <function Grounder.run at 0x112cec730>, '__dict__': <attribute '__dict__' of 'Grounder' objects>, '__weakref__': <attribute '__weakref__' of 'Grounder' objects>, '__doc__': None}\n"
     ]
    },
    {
     "data": {
      "text/plain": [
       "{}"
      ]
     },
     "execution_count": 11,
     "metadata": {},
     "output_type": "execute_result"
    }
   ],
   "source": [
    "x = Grounder()\n",
    "vars(x)"
   ]
  },
  {
   "cell_type": "code",
   "execution_count": 15,
   "metadata": {},
   "outputs": [
    {
     "data": {
      "text/plain": [
       "[frozenset({('initiate', (('interact', (0,)), 0))})]"
      ]
     },
     "execution_count": 15,
     "metadata": {},
     "output_type": "execute_result"
    }
   ],
   "source": [
    "list(ASP('initiate(interact(0),0).').parse_args)"
   ]
  },
  {
   "cell_type": "code",
   "execution_count": null,
   "metadata": {
    "collapsed": true
   },
   "outputs": [],
   "source": []
  }
 ],
 "metadata": {
  "kernelspec": {
   "display_name": "animalaienv",
   "language": "python",
   "name": "animalaienv"
  },
  "language_info": {
   "codemirror_mode": {
    "name": "ipython",
    "version": 3
   },
   "file_extension": ".py",
   "mimetype": "text/x-python",
   "name": "python",
   "nbconvert_exporter": "python",
   "pygments_lexer": "ipython3",
   "version": "3.6.2"
  }
 },
 "nbformat": 4,
 "nbformat_minor": 2
}
