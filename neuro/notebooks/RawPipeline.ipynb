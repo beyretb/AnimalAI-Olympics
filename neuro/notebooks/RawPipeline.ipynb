{
 "cells": [
  {
   "cell_type": "code",
   "execution_count": null,
   "metadata": {
    "collapsed": true
   },
   "outputs": [],
   "source": [
    "import os\n",
    "import sys\n",
    "# os.chdir('/Users/ludo/Desktop/animalai/animalai')\n",
    "os.chdir('/Users/ludo/Desktop/animalai/animalai/neuro')"
   ]
  },
  {
   "cell_type": "code",
   "execution_count": null,
   "metadata": {
    "scrolled": true
   },
   "outputs": [],
   "source": [
    "\n",
    "\n",
    "sys.path.insert(0, \"/Users/ludo/Desktop/animalai/animalai/animalai_train\")\n",
    "sys.path.insert(1, \"/Users/ludo/Desktop/animalai/animalai/animalai\")\n",
    "from animalai.envs.gym.environment import AnimalAIGym\n",
    "import random\n",
    "from animalai.envs.arena_config import ArenaConfig\n",
    "from centroidtracker import CentroidTracker\n",
    "\n",
    "import yaml\n",
    "import copy\n",
    "import numpy as np\n",
    "import pandas as pd\n",
    "from matplotlib import pyplot as plt\n",
    "\n",
    "\n",
    "# CONFIG\n",
    "env_path = '../env/aaiagain'\n",
    "worker_id = 2\n",
    "#random.randint(1, 100)\n",
    "# competition_envs = os.listdir('../competition_configurations/')\n",
    "\n",
    "seed = 1\n",
    "\n",
    "\n",
    "# yaml_path = '../examples/rand_env.yml'\n",
    "# ac = ArenaConfig(yaml_path)\n",
    "yaml_path = \"../competition_configurations/5-11-3.yml\" #'configurations/curriculum/0.yaml'\n",
    "# ac = ArenaConfig(arena_path)\n",
    "# ac.arenas[1] = copy.deepcopy(ac.arenas[0])\n",
    "# yaml_path = 'configurations/curriculum4/19.yml'\n",
    "# x = ['1-11-1.yml']\n",
    "# yaml_path = \"../competition_configurations/1-11-1.yml\" #'configurations/curriculum/0.yaml'\n",
    "\n",
    "ac = ArenaConfig(yaml_path)\n",
    "env = AnimalAIGym(environment_filename=env_path,\n",
    "              worker_id=worker_id,\n",
    "              n_arenas=1,\n",
    "              arenas_configurations=ac,\n",
    "                use_visual=False,\n",
    "                seed=seed,\n",
    "                 grayscale=False,\n",
    "                 resolution=1024)\n",
    "\n",
    "x = env.step([[0,0]])"
   ]
  },
  {
   "cell_type": "code",
   "execution_count": null,
   "metadata": {
    "collapsed": true
   },
   "outputs": [],
   "source": [
    "from animalai.envs.cvis_img import ExtractFeatures\n",
    "%matplotlib inline\n",
    "import cv2\n",
    "import time\n",
    "from IPython import display\n",
    "for i in range(10):\n",
    "    x = env.step([[0,2]])\n",
    "plt.imshow(env.visual_obs)\n"
   ]
  },
  {
   "cell_type": "code",
   "execution_count": null,
   "metadata": {},
   "outputs": [],
   "source": [
    "from animalai.envs.cvis_test import ExtractFeatures\n",
    "\n",
    "ef = ExtractFeatures(display=True, training=False)\n",
    "# res = ef.run_dual(env.visual_obs)\n",
    "res = ef.run_test(env.visual_obs)\n",
    "# plt.imshow(res[0])\n",
    "# plt.imshow(env.visual_obs)\n",
    "# class HSV:\n",
    "# \t\"\"\"Color lower and upper bounds in HSV format\"\"\"\n",
    "\n",
    "# \t@classmethod\n",
    "# \tdef __getattribute__(cls,attr):\n",
    "# \t\treturn [np.array(i) for i in getattr(cls, attr)]\n",
    "\n",
    "# \tgreen = [[33,80,40], [102,255,255]]\n",
    "# \tred = [[0,162,142], [179,203,188]]\n",
    "# \tgrey = [[0,0,0], [0,0,224]]\n",
    "# \tbrown = [[7,53,40], [18,87,121]]\n",
    "# hsv_cls = HSV()\n",
    "\n",
    "# img = env.visual_obs\n",
    "# img = (img*255)[:,:,::-1].astype(np.uint8)\n",
    "# hsv = hsv_cls.red\n",
    "# hsv_img = cv2.cvtColor(img, cv2.COLOR_BGR2HSV)\n",
    "# mask = cv2.inRange(hsv_img, hsv[0], hsv[1])\n",
    "# res = cv2.bitwise_and(hsv_img, hsv_img, mask=mask)\n",
    "# plt.imshow(res[:,:,2])\n",
    "# plt.imshow(hsv_img)\n",
    "# im = np.ascontiguousarray(\n",
    "#     cv2.imdecode(np.frombuffer(\n",
    "#         res[0].tobytes(), np.float32), -1))\n",
    "# im\n",
    "# plt.imshow(res[0])"
   ]
  },
  {
   "cell_type": "code",
   "execution_count": null,
   "metadata": {
    "collapsed": true
   },
   "outputs": [],
   "source": [
    "im = res[0].reshape(84,84).astype(np.float32)\n",
    "bf = np.frombuffer(im.tobytes(order=\"C\"), np.float32).reshape(84,84)\n",
    "plt.imshow(bf)"
   ]
  },
  {
   "cell_type": "code",
   "execution_count": null,
   "metadata": {
    "collapsed": true
   },
   "outputs": [],
   "source": [
    "# res[res > 0] = 1\n",
    "# plt.imshow(res[:,:,2])\n",
    "# res[:,:,2][45]\n",
    "from PIL import Image\n",
    "import io\n",
    "# image_bytearray = bytearray(bf)\n",
    "# image = Image.open(io.BytesIO(image_bytearray))\n",
    "# image.load()\n",
    "byteImgIO = io.BytesIO()\n",
    "byteImg = Image.fromarray(im.astype(np.uint8))\n",
    "byteImg.save(byteImgIO, \"PNG\")\n",
    "byteImgIO.seek(0)\n",
    "byteImg = byteImgIO.read()\n",
    "image_bytearray = bytearray(byteImg)\n",
    "image = Image.open(io.BytesIO(image_bytearray))\n",
    "# Normally Image loads lazily, this forces it to do loading in the timer scope.\n",
    "image.load()\n",
    "s = np.array(image, dtype=np.float32).reshape(84,84, 1)\n",
    "s = np.mean(s, axis=2)\n",
    "s = np.reshape(s, [s.shape[0], s.shape[1]])\n",
    "plt.imshow(s)"
   ]
  },
  {
   "cell_type": "code",
   "execution_count": null,
   "metadata": {
    "collapsed": true
   },
   "outputs": [],
   "source": [
    "ct = CentroidTracker(75)\n",
    "_ = env.reset()"
   ]
  },
  {
   "cell_type": "code",
   "execution_count": null,
   "metadata": {
    "collapsed": true,
    "scrolled": true
   },
   "outputs": [],
   "source": [
    "%matplotlib inline\n",
    "from animalai.envs.cvis_test import ExtractFeatures\n",
    "import cv2\n",
    "import time\n",
    "from IPython import display\n",
    "\n",
    "ef = ExtractFeatures(display=True, training=False)\n",
    "env.step([[0,0]])\n",
    "res = ef.run(env.visual_obs)\n",
    "plt.imshow(ef.img[:,:,::-1])\n",
    "# for i in range(10):\n",
    "\n",
    "#     env.step([[1,0]])\n",
    "#     res = ef.run(env.visual_obs, i)['wall']\n",
    "# #     print(res)\n",
    "#     convert = lambda x: [x[0]*84, x[1]*84, (x[0]+x[2])*84, (x[1]+x[3])*84]\n",
    "#     res  = [(convert(i[0])) for i in res]\n",
    "#     ids = ct.update(res)\n",
    "#     img = ef.img.copy()\n",
    "#     if res:\n",
    "#         for c,i in ids.items():\n",
    "#             cv2.putText(img, str(c), (i[0], i[1]),\n",
    "#                         cv2.FONT_HERSHEY_SIMPLEX,\n",
    "#                         0.5,\n",
    "#                         (255,255,255),\n",
    "#                         1)\n",
    "#     plt.imshow(img[:,:,::-1])\n",
    "#     display.display(plt.gcf())\n",
    "\n",
    "#     display.clear_output(wait=True)\n",
    "#     time.sleep(0.15)\n"
   ]
  },
  {
   "cell_type": "code",
   "execution_count": null,
   "metadata": {
    "collapsed": true
   },
   "outputs": [],
   "source": [
    "saved_img = img[:,:,::-1]\n",
    "plt.imshow(saved_img)\n",
    "plt.savefig('/Users/ludo/Desktop/savedimg.png',bbox_inches='tight',transparent=True, pad_inches=0)"
   ]
  },
  {
   "cell_type": "code",
   "execution_count": null,
   "metadata": {
    "collapsed": true
   },
   "outputs": [],
   "source": [
    "import cv2\n",
    "img = (env.visual_obs*255)[:,:,::-1].astype(np.uint8)\n",
    "class HSV:\n",
    "\t\"\"\"Color lower and upper bounds in HSV format\"\"\"\n",
    "\t@classmethod\n",
    "\tdef __getattribute__(cls,attr):\n",
    "\t\treturn [np.array(i) for i in getattr(cls, attr)]\n",
    "\n",
    "\tgreen = [[33,80,40], [102,255,255]]\n",
    "\tred = [[125,16,88], [179,255,255]]\n",
    "\tgrey = [[0,0,0], [0,0,224]]\n",
    "\tbrown = [[7,53,40], [18,87,121]]\n",
    "\n",
    "hsv_cls = HSV()\n",
    "hsv = hsv_cls.grey\n",
    "hsv_img = cv2.cvtColor(img, cv2.COLOR_BGR2HSV)\n",
    "mask = cv2.inRange(hsv_img, hsv[0], hsv[1])\n",
    "res = cv2.bitwise_and(hsv_img, hsv_img, mask=mask)[:,:,2]\n",
    "ctr,hier = cv2.findContours(res,cv2.RETR_EXTERNAL,cv2.CHAIN_APPROX_NONE)\n",
    "for c in ctr:\n",
    "    x,y,w,h = cv2.boundingRect(c)\n",
    "    cv2.rectangle(img,(x,y),(x+w,y+h),(0,255,0),1)\n",
    "plt.imshow(img[:,:,::-1])\n"
   ]
  },
  {
   "cell_type": "code",
   "execution_count": null,
   "metadata": {
    "collapsed": true
   },
   "outputs": [],
   "source": [
    "from animalai.envs.cvis import ExtractFeatures\n",
    "ef = ExtractFeatures(display=True, training=False)\n",
    "ef.run(env.visual_obs)"
   ]
  },
  {
   "cell_type": "code",
   "execution_count": null,
   "metadata": {
    "collapsed": true
   },
   "outputs": [],
   "source": [
    "x[3][\"batched_step_result\"].obs[1]"
   ]
  },
  {
   "cell_type": "code",
   "execution_count": null,
   "metadata": {
    "collapsed": true
   },
   "outputs": [],
   "source": [
    "try:\n",
    "    next(i for i in [1,2,3] if i==4)\n",
    "except StopIteration:\n",
    "    print('ya')"
   ]
  },
  {
   "cell_type": "code",
   "execution_count": null,
   "metadata": {
    "collapsed": true
   },
   "outputs": [],
   "source": [
    "img = (env.visual_obs*255)[:,:,::-1].astype(np.uint8)\n",
    "\n",
    "plt.imshow(img[:,:,::-1])\n"
   ]
  },
  {
   "cell_type": "code",
   "execution_count": null,
   "metadata": {
    "collapsed": true
   },
   "outputs": [],
   "source": [
    "convert = lambda x: [x[0], x[1], x[0]+x[2], x[1]+x[3]]\n",
    "\n",
    "convert(ef.run(env.visual_obs)[0][0])\n"
   ]
  },
  {
   "cell_type": "code",
   "execution_count": null,
   "metadata": {
    "collapsed": true
   },
   "outputs": [],
   "source": [
    "ef.run(img)[0][0]"
   ]
  },
  {
   "cell_type": "code",
   "execution_count": null,
   "metadata": {
    "collapsed": true
   },
   "outputs": [],
   "source": [
    "plt.imshow(ef.img)"
   ]
  },
  {
   "cell_type": "code",
   "execution_count": null,
   "metadata": {
    "collapsed": true
   },
   "outputs": [],
   "source": [
    "class State:\n",
    "    obj = [[4,3,2], [3,4,1]]\n",
    "    velocity = [1,2,3]\n",
    "    reward = 0\n",
    "    done = False\n",
    "    def __repr__(self):\n",
    "        return f\"\"\"\n",
    "        Velocity: {self.velocity}\n",
    "        Reward: {self.reward}\n",
    "        Done: {self.done}\n",
    "        \"\"\"\n",
    "    def __getattribute__(self, item):\n",
    "        if item=='boxes':\n",
    "            return [\n",
    "                i[0] for i in super(\n",
    "                    State, self).__getattribute__('obj')]\n",
    "        elif item=='obj_types':\n",
    "            return set([\n",
    "                i[1] for i in super(\n",
    "                    State, self).__getattribute__('obj')])\n",
    "        elif item=='ids':\n",
    "            return [\n",
    "                i[2] for i in super(\n",
    "                    State, self).__getattribute__('obj')]\n",
    "          \n",
    "            \n",
    "        return super(State, self).__getattribute__(item)\n",
    "    def __setattr__(self, item, value):\n",
    "        return super(State, self).__setattr__('item', value)\n",
    "        print(\"YAS\")\n"
   ]
  },
  {
   "cell_type": "code",
   "execution_count": null,
   "metadata": {
    "collapsed": true
   },
   "outputs": [],
   "source": [
    "s = State()\n",
    "s.reward = 4"
   ]
  },
  {
   "cell_type": "code",
   "execution_count": null,
   "metadata": {
    "collapsed": true
   },
   "outputs": [],
   "source": [
    "s.boxes"
   ]
  },
  {
   "cell_type": "code",
   "execution_count": null,
   "metadata": {
    "collapsed": true
   },
   "outputs": [],
   "source": [
    "ids[0][1]"
   ]
  },
  {
   "cell_type": "code",
   "execution_count": null,
   "metadata": {
    "collapsed": true
   },
   "outputs": [],
   "source": [
    "import cv2\n",
    "img = (env.visual_obs*255)[:,:,::-1].astype(np.uint8)\n",
    "\n",
    "cv2.imwrite(\"/Users/ludo/Desktop/img3.png\",img)"
   ]
  },
  {
   "cell_type": "code",
   "execution_count": null,
   "metadata": {
    "collapsed": true
   },
   "outputs": [],
   "source": [
    "boxes = \"\"\"[[0.0, 0.5357142857142857, 0.19047619047619047, 0.023809523809523808], [0.6309523809523809, 0.4642857142857143, 0.14285714285714285, 0.07142857142857142], [0.2976190476190476, 0.0, 0.21428571428571427, 0.6071428571428571]]\n",
    "[[0.0, 0.5357142857142857, 0.08333333333333333, 0.011904761904761904], [0.5357142857142857, 0.47619047619047616, 0.14285714285714285, 0.047619047619047616], [0.21428571428571427, 0.0, 0.20238095238095238, 0.6071428571428571]]\n",
    "[[0.4523809523809524, 0.47619047619047616, 0.13095238095238096, 0.047619047619047616], [0.11904761904761904, 0.0, 0.21428571428571427, 0.6071428571428571]]\n",
    "[[0.35714285714285715, 0.47619047619047616, 0.13095238095238096, 0.047619047619047616], [0.011904761904761904, 0.0, 0.2261904761904762, 0.6071428571428571]]\n",
    "[[0.2619047619047619, 0.47619047619047616, 0.13095238095238096, 0.047619047619047616], [0.0, 0.0, 0.13095238095238096, 0.6071428571428571]]\n",
    "[[0.35714285714285715, 0.47619047619047616, 0.13095238095238096, 0.047619047619047616], [0.0, 0.0, 0.2261904761904762, 0.6190476190476191]]\n",
    "[[0.4523809523809524, 0.47619047619047616, 0.13095238095238096, 0.047619047619047616], [0.08333333333333333, 0.0, 0.2261904761904762, 0.6190476190476191]]\n",
    "[[0.0, 0.5357142857142857, 0.07142857142857142, 0.011904761904761904], [0.5357142857142857, 0.4642857142857143, 0.13095238095238096, 0.07142857142857142], [0.15476190476190477, 0.0, 0.2261904761904762, 0.6190476190476191]]\n",
    "[[0.44047619047619047, 0.4642857142857143, 0.14285714285714285, 0.07142857142857142], [0.0, 0.0, 0.27380952380952384, 0.6309523809523809]]\n",
    "[[0.0, 0.5357142857142857, 0.047619047619047616, 0.011904761904761904], [0.5357142857142857, 0.4642857142857143, 0.14285714285714285, 0.07142857142857142], [0.05952380952380952, 0.0, 0.2857142857142857, 0.6428571428571429]]\n",
    "[[0.44047619047619047, 0.4642857142857143, 0.14285714285714285, 0.07142857142857142], [0.0, 0.0, 0.21428571428571427, 0.6666666666666666]]\n",
    "[[0.5357142857142857, 0.4642857142857143, 0.14285714285714285, 0.07142857142857142], [0.0, 0.0, 0.30952380952380953, 0.6904761904761905]]\n",
    "[[0.6309523809523809, 0.4642857142857143, 0.14285714285714285, 0.07142857142857142], [0.0, 0.0, 0.40476190476190477, 0.7142857142857143]]\n",
    "[[0.7142857142857143, 0.4642857142857143, 0.16666666666666666, 0.07142857142857142], [0.0, 0.0, 0.4880952380952381, 0.7619047619047619]]\n",
    "[[0.8214285714285714, 0.4642857142857143, 0.17857142857142858, 0.07142857142857142], [0.0, 0.0, 0.5833333333333334, 0.8690476190476191]]\"\"\""
   ]
  },
  {
   "cell_type": "code",
   "execution_count": null,
   "metadata": {
    "collapsed": true
   },
   "outputs": [],
   "source": [
    "convert = lambda x: [x[0]*84, x[1]*84, (x[0]+x[2])*84, (x[1]+x[3])*84]\n",
    "lb = [[convert(j) for j in eval(i)] for i in boxes.split(\"\\n\")]\n",
    "ct = CentroidTracker(75)\n"
   ]
  },
  {
   "cell_type": "code",
   "execution_count": null,
   "metadata": {
    "collapsed": true
   },
   "outputs": [],
   "source": [
    "\n",
    "for i in lb:\n",
    "    print(ct.update(i))"
   ]
  },
  {
   "cell_type": "code",
   "execution_count": null,
   "metadata": {
    "collapsed": true
   },
   "outputs": [],
   "source": [
    "import os\n",
    "x= [i for i in os.listdir('../competition_configurations/') if i[0]=='5']\n",
    "x = sorted(x, key=lambda i: int(i.split('-')[1]))\n",
    "x = [ArenaConfig(f\"../competition_configurations/{i}\") for i in x]\n",
    "# ac = ArenaConfig(f\"../competition_configurations/{x[0]}\")\n",
    "# for c, i in enumerate(x[1:]):\n",
    "#     ac.arenas[c+1] = ArenaConfig(f\"../competition_configurations/{i}\").arenas[0]\n",
    "\n",
    "for i in x:\n",
    "    for _ in range(10):\n",
    "        env.step([[0,1]])\n",
    "    env.reset(i)"
   ]
  },
  {
   "cell_type": "code",
   "execution_count": null,
   "metadata": {
    "collapsed": true
   },
   "outputs": [],
   "source": []
  }
 ],
 "metadata": {
  "kernelspec": {
   "display_name": "animalaienv",
   "language": "python",
   "name": "animalaienv"
  },
  "language_info": {
   "codemirror_mode": {
    "name": "ipython",
    "version": 3
   },
   "file_extension": ".py",
   "mimetype": "text/x-python",
   "name": "python",
   "nbconvert_exporter": "python",
   "pygments_lexer": "ipython3",
   "version": "3.6.2"
  }
 },
 "nbformat": 4,
 "nbformat_minor": 2
}
