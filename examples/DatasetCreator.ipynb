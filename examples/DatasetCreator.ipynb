{
 "cells": [
  {
   "cell_type": "code",
   "execution_count": 1,
   "metadata": {},
   "outputs": [
    {
     "ename": "NameError",
     "evalue": "name 'arena_path' is not defined",
     "output_type": "error",
     "traceback": [
      "\u001b[0;31m---------------------------------------------------------------------------\u001b[0m",
      "\u001b[0;31mNameError\u001b[0m                                 Traceback (most recent call last)",
      "\u001b[0;32m<ipython-input-1-8bbd5871a8cc>\u001b[0m in \u001b[0;36m<module>\u001b[0;34m\u001b[0m\n\u001b[1;32m     12\u001b[0m \u001b[0menv_path\u001b[0m \u001b[0;34m=\u001b[0m \u001b[0;34m'../env/AnimalAI'\u001b[0m\u001b[0;34m\u001b[0m\u001b[0m\n\u001b[1;32m     13\u001b[0m \u001b[0mworker_id\u001b[0m \u001b[0;34m=\u001b[0m \u001b[0mrandom\u001b[0m\u001b[0;34m.\u001b[0m\u001b[0mrandint\u001b[0m\u001b[0;34m(\u001b[0m\u001b[0;36m1\u001b[0m\u001b[0;34m,\u001b[0m \u001b[0;36m100\u001b[0m\u001b[0;34m)\u001b[0m\u001b[0;34m\u001b[0m\u001b[0m\n\u001b[0;32m---> 14\u001b[0;31m \u001b[0marena_config\u001b[0m \u001b[0;34m=\u001b[0m \u001b[0mArenaConfig\u001b[0m\u001b[0;34m(\u001b[0m\u001b[0marena_path\u001b[0m\u001b[0;34m)\u001b[0m\u001b[0;34m\u001b[0m\u001b[0m\n\u001b[0m\u001b[1;32m     15\u001b[0m \u001b[0mseed\u001b[0m \u001b[0;34m=\u001b[0m \u001b[0;36m1\u001b[0m\u001b[0;34m\u001b[0m\u001b[0m\n\u001b[1;32m     16\u001b[0m \u001b[0;34m\u001b[0m\u001b[0m\n",
      "\u001b[0;31mNameError\u001b[0m: name 'arena_path' is not defined"
     ]
    }
   ],
   "source": [
    "from animalai.envs.gym.environment import AnimalAIGym\n",
    "import random\n",
    "from animalai.envs.arena_config import ArenaConfig\n",
    "\n",
    "import os\n",
    "import yaml\n",
    "import copy\n",
    "import numpy as np\n",
    "import pandas as pd\n",
    "\n",
    "# CONFIG\n",
    "env_path = '../env/AnimalAI'\n",
    "worker_id = random.randint(1, 100)\n",
    "arena_config = ArenaConfig(arena_path)\n",
    "seed = 1\n",
    "\n"
   ]
  },
  {
   "cell_type": "code",
   "execution_count": null,
   "metadata": {
    "collapsed": true
   },
   "outputs": [],
   "source": [
    "def get_clock_positions():\n",
    "    \"\"\"x,y,z,rot. y is elevation. Start from bottom left and go counter clockwise. rotation is aligned with z axis.\"\"\"\n",
    "    return [\n",
    "        [1, 0, 1, 45],\n",
    "        [20, 0, 1, 0],\n",
    "        [39, 0, 1, 315], # can't do -45 for some reason\n",
    "        [39, 0, 20, 270],\n",
    "        [39, 0, 39, 225],\n",
    "        [20, 0, 39, 180],\n",
    "        [1, 0, 39, 135],\n",
    "        [1, 0, 20, 90],\n",
    "    ]\n",
    "def rotate_agent(ac):\n",
    "    \"\"\"ac: ArenaConfig\n",
    "        arena0 = original agent position\n",
    "        arena1-8 full clock rotation of agent\"\"\"\n",
    "    # Get agent clock positions\n",
    "    clock_positions = get_clock_positions()\n",
    "\n",
    "    for i in range(1,9):\n",
    "        ac.arenas[i] = copy.deepcopy(ac.arenas[0])\n",
    "    # Get agent object index\n",
    "    item_list = [i.to_proto().name for i in arena_config.arenas[0].items]\n",
    "    if 'Agent' in item_list:\n",
    "        agent_idx = item_list.index('Agent')\n",
    "    else:\n",
    "        return None\n",
    "    # Instantiate each ac with the right agent pos/rotation\n",
    "    for arena in range(1,9):\n",
    "        ac.arenas[arena].items[agent_idx].positions[0].x = clock_positions[arena-1][0]\n",
    "        ac.arenas[arena].items[agent_idx].positions[0].y = clock_positions[arena-1][1]\n",
    "        ac.arenas[arena].items[agent_idx].positions[0].z = clock_positions[arena-1][2]\n",
    "\n",
    "        if ac.arenas[arena].items[agent_idx].rotations:\n",
    "            ac.arenas[arena].items[agent_idx].rotations[0] = clock_positions[arena-1][3]\n",
    "        else:\n",
    "            ac.arenas[arena].items[agent_idx].rotations = [clock_positions[arena-1][3]]\n",
    "\n",
    "    return ac"
   ]
  }
 ],
 "metadata": {
  "kernelspec": {
   "display_name": "animalaienv",
   "language": "python",
   "name": "animalaienv"
  },
  "language_info": {
   "codemirror_mode": {
    "name": "ipython",
    "version": 3
   },
   "file_extension": ".py",
   "mimetype": "text/x-python",
   "name": "python",
   "nbconvert_exporter": "python",
   "pygments_lexer": "ipython3",
   "version": "3.6.2"
  }
 },
 "nbformat": 4,
 "nbformat_minor": 2
}
