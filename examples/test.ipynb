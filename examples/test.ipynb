{
 "cells": [
  {
   "cell_type": "code",
   "execution_count": 15,
   "metadata": {
    "collapsed": true
   },
   "outputs": [],
   "source": [
    "from animalai.envs.gym.environment import AnimalAIGym\n",
    "import random\n",
    "from animalai.envs.arena_config import ArenaConfig\n",
    "\n",
    "import os\n",
    "import yaml\n",
    "import copy\n",
    "import numpy as np\n",
    "import pandas as pd\n",
    "import warnings\n",
    "\n",
    "warnings.filterwarnings('ignore')\n",
    "\n",
    "# CONFIG\n",
    "env_path = '../env/AnimalAI'\n",
    "worker_id = random.randint(1, 100)\n",
    "competition_envs = os.listdir('../competition_configurations/')\n",
    "tool_use = [i for i in competition_envs if i[:2]=='10']\n",
    "spatial_elim = [i for i in competition_envs if i[0]=='5']\n",
    "arena_path = \"../competition_configurations/10-14-1.yml\" #'configurations/curriculum/0.yaml'\n",
    "arena_config = ArenaConfig(arena_path)\n",
    "seed = 1\n",
    "\n",
    "def get_clock_positions():\n",
    "    \"\"\"x,y,z,rot. y is elevation. Start from bottom left and go counter clockwise. rotation is aligned with z axis.\"\"\"\n",
    "    return [\n",
    "        [1, 0, 1, 45],\n",
    "        [20, 0, 1, 0],\n",
    "        [39, 0, 1, 315], # can't do -45 for some reason\n",
    "        [39, 0, 20, 270],\n",
    "        [39, 0, 39, 225],\n",
    "        [20, 0, 39, 180],\n",
    "        [1, 0, 39, 135],\n",
    "        [1, 0, 20, 90],\n",
    "    ]\n",
    "def rotate_agent(ac):\n",
    "    \"\"\"ac: ArenaConfig\n",
    "        arena0 = original agent position\n",
    "        arena1-8 full clock rotation of agent\"\"\"\n",
    "    # Get agent clock positions\n",
    "    clock_positions = get_clock_positions()\n",
    "\n",
    "    for i in range(1,9):\n",
    "        ac.arenas[i] = copy.deepcopy(ac.arenas[0])\n",
    "    # Get agent object index\n",
    "    item_list = [i.to_proto().name for i in arena_config.arenas[0].items]\n",
    "    if 'Agent' in item_list:\n",
    "        agent_idx = item_list.index('Agent')\n",
    "    else:\n",
    "        return None\n",
    "    # Instantiate each ac with the right agent pos/rotation\n",
    "    for arena in range(1,9):\n",
    "        ac.arenas[arena].items[agent_idx].positions[0].x = clock_positions[arena-1][0]\n",
    "        ac.arenas[arena].items[agent_idx].positions[0].y = clock_positions[arena-1][1]\n",
    "        ac.arenas[arena].items[agent_idx].positions[0].z = clock_positions[arena-1][2]\n",
    "\n",
    "        if ac.arenas[arena].items[agent_idx].rotations:\n",
    "            ac.arenas[arena].items[agent_idx].rotations[0] = clock_positions[arena-1][3]\n",
    "        else:\n",
    "            ac.arenas[arena].items[agent_idx].rotations = [clock_positions[arena-1][3]]\n",
    "\n",
    "    return ac\n",
    "def compile_arena_configs(arena_paths, task_type='tool_use'):\n",
    "    res = []\n",
    "    for arena_path in arena_paths:\n",
    "        yaml_path = f'../competition_configurations/{arena_path}'\n",
    "        ac = ArenaConfig(yaml_path)\n",
    "        arena = ac.to_proto().arenas[0]\n",
    "        for c1, item in enumerate(arena.items):\n",
    "            name = item.name\n",
    "            for c2, sub_item in enumerate(item.positions):\n",
    "                sub_res = [task_type, arena_path,\n",
    "                          f'{c1}.{c2}',\n",
    "                           name,\n",
    "                            sub_item.x, sub_item.y, sub_item.z]\n",
    "                if item.colors:\n",
    "                    sub_res += [\n",
    "                        item.colors[c2].x,\n",
    "                        item.colors[c2].y,\n",
    "                        item.colors[c2].z]\n",
    "                else:\n",
    "                    sub_res += [np.nan, np.nan, np.nan]\n",
    "                if item.rotations:\n",
    "                    sub_res += [item.rotations[c2]]\n",
    "                else:\n",
    "                    sub_res += [np.nan]\n",
    "                if item.sizes:\n",
    "                    sub_res += [item.sizes[c2].x, item.sizes[c2].y, item.sizes[c2].z]\n",
    "                else:\n",
    "                    sub_res += [np.nan]\n",
    "\n",
    "                res.append(sub_res)\n",
    "    cols = [\n",
    "        'task', 'arena_id', 'item_id', 'item_type',\n",
    "        'pos_x', 'pos_y', 'pos_z',\n",
    "        'r', 'g', 'b',\n",
    "        'rotation',\n",
    "        'size_x', 'size_y', 'size_z']\n",
    "    df = pd.DataFrame(res, columns=cols)\n",
    "    return df\n",
    "\n",
    "df = compile_arena_configs(tool_use, 'tool_use')\n",
    "df = df.append(compile_arena_configs(spatial_elim, 'spatial_elim'))\n",
    "all_ids = sorted(df.arena_id.unique())"
   ]
  },
  {
   "cell_type": "code",
   "execution_count": 2,
   "metadata": {
    "scrolled": true
   },
   "outputs": [
    {
     "name": "stderr",
     "output_type": "stream",
     "text": [
      "2020-04-27 19:55:54 INFO [environment.py:160] Connected to Unity environment with package version 0.15.0-preview and communication version 0.15.0\n",
      "2020-04-27 19:55:55 INFO [environment.py:305] Connected new brain:\n",
      "AnimalAI?team=0\n",
      "2020-04-27 19:55:55 INFO [__init__.py:357] 9 agents within environment.\n",
      "2020-04-27 19:55:56 INFO [environment.py:455] Environment shut down with return code 0.\n"
     ]
    },
    {
     "name": "stdout",
     "output_type": "stream",
     "text": [
      "==== Batch 0/35 done ==== \n"
     ]
    },
    {
     "name": "stderr",
     "output_type": "stream",
     "text": [
      "2020-04-27 19:56:09 INFO [environment.py:160] Connected to Unity environment with package version 0.15.0-preview and communication version 0.15.0\n",
      "2020-04-27 19:56:09 INFO [environment.py:305] Connected new brain:\n",
      "AnimalAI?team=0\n",
      "2020-04-27 19:56:09 INFO [__init__.py:357] 9 agents within environment.\n",
      "2020-04-27 19:56:11 INFO [environment.py:455] Environment shut down with return code 0.\n",
      "2020-04-27 19:56:14 INFO [environment.py:160] Connected to Unity environment with package version 0.15.0-preview and communication version 0.15.0\n",
      "2020-04-27 19:56:14 INFO [environment.py:305] Connected new brain:\n",
      "AnimalAI?team=0\n",
      "2020-04-27 19:56:15 INFO [__init__.py:357] 9 agents within environment.\n",
      "2020-04-27 19:56:17 INFO [environment.py:455] Environment shut down with return code 0.\n",
      "2020-04-27 19:56:20 INFO [environment.py:160] Connected to Unity environment with package version 0.15.0-preview and communication version 0.15.0\n",
      "2020-04-27 19:56:20 INFO [environment.py:305] Connected new brain:\n",
      "AnimalAI?team=0\n",
      "2020-04-27 19:56:20 INFO [__init__.py:357] 9 agents within environment.\n",
      "2020-04-27 19:56:23 INFO [environment.py:455] Environment shut down with return code 0.\n",
      "2020-04-27 19:56:26 INFO [environment.py:160] Connected to Unity environment with package version 0.15.0-preview and communication version 0.15.0\n",
      "2020-04-27 19:56:26 INFO [environment.py:305] Connected new brain:\n",
      "AnimalAI?team=0\n",
      "2020-04-27 19:56:27 INFO [__init__.py:357] 9 agents within environment.\n",
      "2020-04-27 19:56:30 INFO [environment.py:455] Environment shut down with return code 0.\n",
      "2020-04-27 19:56:33 INFO [environment.py:160] Connected to Unity environment with package version 0.15.0-preview and communication version 0.15.0\n",
      "2020-04-27 19:56:33 INFO [environment.py:305] Connected new brain:\n",
      "AnimalAI?team=0\n",
      "2020-04-27 19:56:33 INFO [__init__.py:357] 9 agents within environment.\n",
      "2020-04-27 19:56:37 INFO [environment.py:455] Environment shut down with return code 0.\n"
     ]
    },
    {
     "name": "stdout",
     "output_type": "stream",
     "text": [
      "==== Batch 5/35 done ==== \n"
     ]
    },
    {
     "name": "stderr",
     "output_type": "stream",
     "text": [
      "2020-04-27 19:56:40 INFO [environment.py:160] Connected to Unity environment with package version 0.15.0-preview and communication version 0.15.0\n",
      "2020-04-27 19:56:40 INFO [environment.py:305] Connected new brain:\n",
      "AnimalAI?team=0\n",
      "2020-04-27 19:56:40 INFO [__init__.py:357] 9 agents within environment.\n",
      "2020-04-27 19:56:45 INFO [environment.py:455] Environment shut down with return code 0.\n",
      "2020-04-27 19:56:48 INFO [environment.py:160] Connected to Unity environment with package version 0.15.0-preview and communication version 0.15.0\n",
      "2020-04-27 19:56:48 INFO [environment.py:305] Connected new brain:\n",
      "AnimalAI?team=0\n",
      "2020-04-27 19:56:48 INFO [__init__.py:357] 9 agents within environment.\n",
      "2020-04-27 19:56:53 INFO [environment.py:455] Environment shut down with return code 0.\n",
      "2020-04-27 19:56:56 INFO [environment.py:160] Connected to Unity environment with package version 0.15.0-preview and communication version 0.15.0\n",
      "2020-04-27 19:56:56 INFO [environment.py:305] Connected new brain:\n",
      "AnimalAI?team=0\n",
      "2020-04-27 19:56:56 INFO [__init__.py:357] 9 agents within environment.\n",
      "2020-04-27 19:57:02 INFO [environment.py:455] Environment shut down with return code 0.\n",
      "2020-04-27 19:57:05 INFO [environment.py:160] Connected to Unity environment with package version 0.15.0-preview and communication version 0.15.0\n",
      "2020-04-27 19:57:05 INFO [environment.py:305] Connected new brain:\n",
      "AnimalAI?team=0\n",
      "2020-04-27 19:57:05 INFO [__init__.py:357] 9 agents within environment.\n",
      "2020-04-27 19:57:12 INFO [environment.py:455] Environment shut down with return code 0.\n",
      "2020-04-27 19:57:14 INFO [environment.py:160] Connected to Unity environment with package version 0.15.0-preview and communication version 0.15.0\n",
      "2020-04-27 19:57:15 INFO [environment.py:305] Connected new brain:\n",
      "AnimalAI?team=0\n",
      "2020-04-27 19:57:15 INFO [__init__.py:357] 9 agents within environment.\n",
      "2020-04-27 19:57:21 INFO [environment.py:455] Environment shut down with return code 0.\n"
     ]
    },
    {
     "name": "stdout",
     "output_type": "stream",
     "text": [
      "==== Batch 10/35 done ==== \n"
     ]
    },
    {
     "name": "stderr",
     "output_type": "stream",
     "text": [
      "2020-04-27 19:57:24 INFO [environment.py:160] Connected to Unity environment with package version 0.15.0-preview and communication version 0.15.0\n",
      "2020-04-27 19:57:24 INFO [environment.py:305] Connected new brain:\n",
      "AnimalAI?team=0\n",
      "2020-04-27 19:57:24 INFO [__init__.py:357] 9 agents within environment.\n",
      "2020-04-27 19:57:32 INFO [environment.py:455] Environment shut down with return code 0.\n",
      "2020-04-27 19:57:34 INFO [environment.py:160] Connected to Unity environment with package version 0.15.0-preview and communication version 0.15.0\n",
      "2020-04-27 19:57:35 INFO [environment.py:305] Connected new brain:\n",
      "AnimalAI?team=0\n",
      "2020-04-27 19:57:35 INFO [__init__.py:357] 9 agents within environment.\n",
      "2020-04-27 19:57:42 INFO [environment.py:455] Environment shut down with return code 0.\n",
      "2020-04-27 19:57:45 INFO [environment.py:160] Connected to Unity environment with package version 0.15.0-preview and communication version 0.15.0\n",
      "2020-04-27 19:57:45 INFO [environment.py:305] Connected new brain:\n",
      "AnimalAI?team=0\n",
      "2020-04-27 19:57:45 INFO [__init__.py:357] 9 agents within environment.\n",
      "2020-04-27 19:57:54 INFO [environment.py:455] Environment shut down with return code 0.\n",
      "2020-04-27 19:57:56 INFO [environment.py:160] Connected to Unity environment with package version 0.15.0-preview and communication version 0.15.0\n",
      "2020-04-27 19:57:57 INFO [environment.py:305] Connected new brain:\n",
      "AnimalAI?team=0\n",
      "2020-04-27 19:57:57 INFO [__init__.py:357] 9 agents within environment.\n",
      "2020-04-27 19:58:06 INFO [environment.py:455] Environment shut down with return code 0.\n",
      "2020-04-27 19:58:08 INFO [environment.py:160] Connected to Unity environment with package version 0.15.0-preview and communication version 0.15.0\n",
      "2020-04-27 19:58:09 INFO [environment.py:305] Connected new brain:\n",
      "AnimalAI?team=0\n",
      "2020-04-27 19:58:09 INFO [__init__.py:357] 9 agents within environment.\n",
      "2020-04-27 19:58:18 INFO [environment.py:455] Environment shut down with return code 0.\n"
     ]
    },
    {
     "name": "stdout",
     "output_type": "stream",
     "text": [
      "==== Batch 15/35 done ==== \n"
     ]
    },
    {
     "name": "stderr",
     "output_type": "stream",
     "text": [
      "2020-04-27 19:58:21 INFO [environment.py:160] Connected to Unity environment with package version 0.15.0-preview and communication version 0.15.0\n",
      "2020-04-27 19:58:21 INFO [environment.py:305] Connected new brain:\n",
      "AnimalAI?team=0\n",
      "2020-04-27 19:58:21 INFO [__init__.py:357] 9 agents within environment.\n",
      "2020-04-27 19:58:31 INFO [environment.py:455] Environment shut down with return code 0.\n",
      "2020-04-27 19:58:34 INFO [environment.py:160] Connected to Unity environment with package version 0.15.0-preview and communication version 0.15.0\n",
      "2020-04-27 19:58:34 INFO [environment.py:305] Connected new brain:\n",
      "AnimalAI?team=0\n",
      "2020-04-27 19:58:34 INFO [__init__.py:357] 9 agents within environment.\n",
      "2020-04-27 19:58:45 INFO [environment.py:455] Environment shut down with return code 0.\n",
      "2020-04-27 19:58:48 INFO [environment.py:160] Connected to Unity environment with package version 0.15.0-preview and communication version 0.15.0\n",
      "2020-04-27 19:58:48 INFO [environment.py:305] Connected new brain:\n",
      "AnimalAI?team=0\n",
      "2020-04-27 19:58:48 INFO [__init__.py:357] 9 agents within environment.\n",
      "2020-04-27 19:58:59 INFO [environment.py:455] Environment shut down with return code 0.\n",
      "2020-04-27 19:59:01 INFO [environment.py:160] Connected to Unity environment with package version 0.15.0-preview and communication version 0.15.0\n",
      "2020-04-27 19:59:02 INFO [environment.py:305] Connected new brain:\n",
      "AnimalAI?team=0\n",
      "2020-04-27 19:59:02 INFO [__init__.py:357] 9 agents within environment.\n",
      "2020-04-27 19:59:13 INFO [environment.py:455] Environment shut down with return code 0.\n",
      "2020-04-27 19:59:16 INFO [environment.py:160] Connected to Unity environment with package version 0.15.0-preview and communication version 0.15.0\n",
      "2020-04-27 19:59:16 INFO [environment.py:305] Connected new brain:\n",
      "AnimalAI?team=0\n",
      "2020-04-27 19:59:16 INFO [__init__.py:357] 9 agents within environment.\n",
      "2020-04-27 19:59:28 INFO [environment.py:455] Environment shut down with return code 0.\n"
     ]
    },
    {
     "name": "stdout",
     "output_type": "stream",
     "text": [
      "==== Batch 20/35 done ==== \n"
     ]
    },
    {
     "name": "stderr",
     "output_type": "stream",
     "text": [
      "2020-04-27 19:59:31 INFO [environment.py:160] Connected to Unity environment with package version 0.15.0-preview and communication version 0.15.0\n",
      "2020-04-27 19:59:31 INFO [environment.py:305] Connected new brain:\n",
      "AnimalAI?team=0\n",
      "2020-04-27 19:59:31 INFO [__init__.py:357] 9 agents within environment.\n",
      "2020-04-27 19:59:44 INFO [environment.py:455] Environment shut down with return code 0.\n",
      "2020-04-27 19:59:47 INFO [environment.py:160] Connected to Unity environment with package version 0.15.0-preview and communication version 0.15.0\n",
      "2020-04-27 19:59:47 INFO [environment.py:305] Connected new brain:\n",
      "AnimalAI?team=0\n",
      "2020-04-27 19:59:47 INFO [__init__.py:357] 9 agents within environment.\n",
      "2020-04-27 20:00:00 INFO [environment.py:455] Environment shut down with return code 0.\n",
      "2020-04-27 20:00:03 INFO [environment.py:160] Connected to Unity environment with package version 0.15.0-preview and communication version 0.15.0\n",
      "2020-04-27 20:00:03 INFO [environment.py:305] Connected new brain:\n",
      "AnimalAI?team=0\n",
      "2020-04-27 20:00:03 INFO [__init__.py:357] 9 agents within environment.\n",
      "2020-04-27 20:00:17 INFO [environment.py:455] Environment shut down with return code 0.\n",
      "2020-04-27 20:00:20 INFO [environment.py:160] Connected to Unity environment with package version 0.15.0-preview and communication version 0.15.0\n",
      "2020-04-27 20:00:20 INFO [environment.py:305] Connected new brain:\n",
      "AnimalAI?team=0\n",
      "2020-04-27 20:00:20 INFO [__init__.py:357] 9 agents within environment.\n",
      "2020-04-27 20:00:35 INFO [environment.py:455] Environment shut down with return code 0.\n",
      "2020-04-27 20:00:37 INFO [environment.py:160] Connected to Unity environment with package version 0.15.0-preview and communication version 0.15.0\n",
      "2020-04-27 20:00:38 INFO [environment.py:305] Connected new brain:\n",
      "AnimalAI?team=0\n",
      "2020-04-27 20:00:38 INFO [__init__.py:357] 9 agents within environment.\n",
      "2020-04-27 20:00:53 INFO [environment.py:455] Environment shut down with return code 0.\n"
     ]
    },
    {
     "name": "stdout",
     "output_type": "stream",
     "text": [
      "==== Batch 25/35 done ==== \n"
     ]
    },
    {
     "name": "stderr",
     "output_type": "stream",
     "text": [
      "2020-04-27 20:00:55 INFO [environment.py:160] Connected to Unity environment with package version 0.15.0-preview and communication version 0.15.0\n",
      "2020-04-27 20:00:55 INFO [environment.py:305] Connected new brain:\n",
      "AnimalAI?team=0\n",
      "2020-04-27 20:00:56 INFO [__init__.py:357] 9 agents within environment.\n",
      "2020-04-27 20:01:11 INFO [environment.py:455] Environment shut down with return code 0.\n",
      "2020-04-27 20:01:14 INFO [environment.py:160] Connected to Unity environment with package version 0.15.0-preview and communication version 0.15.0\n",
      "2020-04-27 20:01:14 INFO [environment.py:305] Connected new brain:\n",
      "AnimalAI?team=0\n",
      "2020-04-27 20:01:14 INFO [__init__.py:357] 9 agents within environment.\n",
      "2020-04-27 20:01:30 INFO [environment.py:455] Environment shut down with return code 0.\n",
      "2020-04-27 20:01:32 INFO [environment.py:160] Connected to Unity environment with package version 0.15.0-preview and communication version 0.15.0\n",
      "2020-04-27 20:01:33 INFO [environment.py:305] Connected new brain:\n",
      "AnimalAI?team=0\n",
      "2020-04-27 20:01:33 INFO [__init__.py:357] 9 agents within environment.\n",
      "2020-04-27 20:01:49 INFO [environment.py:455] Environment shut down with return code 0.\n",
      "2020-04-27 20:01:52 INFO [environment.py:160] Connected to Unity environment with package version 0.15.0-preview and communication version 0.15.0\n",
      "2020-04-27 20:01:52 INFO [environment.py:305] Connected new brain:\n",
      "AnimalAI?team=0\n",
      "2020-04-27 20:01:52 INFO [__init__.py:357] 9 agents within environment.\n",
      "2020-04-27 20:02:09 INFO [environment.py:455] Environment shut down with return code 0.\n",
      "2020-04-27 20:02:12 INFO [environment.py:160] Connected to Unity environment with package version 0.15.0-preview and communication version 0.15.0\n",
      "2020-04-27 20:02:12 INFO [environment.py:305] Connected new brain:\n",
      "AnimalAI?team=0\n",
      "2020-04-27 20:02:12 INFO [__init__.py:357] 9 agents within environment.\n",
      "2020-04-27 20:02:30 INFO [environment.py:455] Environment shut down with return code 0.\n"
     ]
    },
    {
     "name": "stdout",
     "output_type": "stream",
     "text": [
      "==== Batch 30/35 done ==== \n"
     ]
    },
    {
     "name": "stderr",
     "output_type": "stream",
     "text": [
      "2020-04-27 20:02:32 INFO [environment.py:160] Connected to Unity environment with package version 0.15.0-preview and communication version 0.15.0\n",
      "2020-04-27 20:02:33 INFO [environment.py:305] Connected new brain:\n",
      "AnimalAI?team=0\n",
      "2020-04-27 20:02:33 INFO [__init__.py:357] 9 agents within environment.\n",
      "2020-04-27 20:02:51 INFO [environment.py:455] Environment shut down with return code 0.\n",
      "2020-04-27 20:02:53 INFO [environment.py:160] Connected to Unity environment with package version 0.15.0-preview and communication version 0.15.0\n",
      "2020-04-27 20:02:54 INFO [environment.py:305] Connected new brain:\n",
      "AnimalAI?team=0\n",
      "2020-04-27 20:02:54 INFO [__init__.py:357] 9 agents within environment.\n",
      "2020-04-27 20:03:12 INFO [environment.py:455] Environment shut down with return code 0.\n",
      "2020-04-27 20:03:15 INFO [environment.py:160] Connected to Unity environment with package version 0.15.0-preview and communication version 0.15.0\n",
      "2020-04-27 20:03:15 INFO [environment.py:305] Connected new brain:\n",
      "AnimalAI?team=0\n",
      "2020-04-27 20:03:15 INFO [__init__.py:357] 9 agents within environment.\n",
      "2020-04-27 20:03:34 INFO [environment.py:455] Environment shut down with return code 0.\n",
      "2020-04-27 20:03:37 INFO [environment.py:160] Connected to Unity environment with package version 0.15.0-preview and communication version 0.15.0\n",
      "2020-04-27 20:03:37 INFO [environment.py:305] Connected new brain:\n",
      "AnimalAI?team=0\n",
      "2020-04-27 20:03:37 INFO [__init__.py:357] 9 agents within environment.\n",
      "2020-04-27 20:03:57 INFO [environment.py:455] Environment shut down with return code 0.\n"
     ]
    },
    {
     "data": {
      "image/png": "[encoded data removed]",
      "text/plain": [
       "<Figure size 432x288 with 1 Axes>"
      ]
     },
     "metadata": {
      "needs_background": "light"
     },
     "output_type": "display_data"
    }
   ],
   "source": [
    "from matplotlib import pyplot as plt\n",
    "import time\n",
    "batch = all_ids[145:]\n",
    "for c, i in enumerate(batch):\n",
    "    arena_path = f\"../competition_configurations/{i}\" #'configurations/curriculum/0.yaml'\n",
    "    arena_config = ArenaConfig(arena_path)\n",
    "    ac = rotate_agent(arena_config)\n",
    "    if ac is None:\n",
    "        print(f'arena {arena_path} has no agent, skipping')\n",
    "        continue\n",
    "    env = AnimalAIGym(environment_filename=env_path,\n",
    "                  worker_id=worker_id,\n",
    "                  n_arenas=9,\n",
    "                  arenas_configurations=ac,\n",
    "\n",
    "                    seed=seed,\n",
    "                     grayscale=False)\n",
    "    x = env.step([[0,0],[0,0],[0,0],[0,0],[0,0],[0,0],[0,0],[0,0], [0,0]])\n",
    "\n",
    "    for arena_idx in range(0,9):\n",
    "        plt.axis('off')\n",
    "        plt.imshow(env.visual_obs[0][arena_idx])\n",
    "        plt.savefig(f'aai_frames/{i}_agent{arena_idx}.png',bbox_inches='tight',transparent=True, pad_inches=0)\n",
    "    env.close()\n",
    "    if c % 5 ==0:\n",
    "        print(f'==== Batch {c}/{len(batch)} done ==== ')\n",
    "    if c%35 ==0:\n",
    "        time.sleep(10)"
   ]
  },
  {
   "cell_type": "code",
   "execution_count": 3,
   "metadata": {},
   "outputs": [
    {
     "data": {
      "text/plain": [
       "1540"
      ]
     },
     "execution_count": 3,
     "metadata": {},
     "output_type": "execute_result"
    }
   ],
   "source": [
    "len(os.listdir('aai_frames'))\n"
   ]
  },
  {
   "cell_type": "code",
   "execution_count": null,
   "metadata": {
    "collapsed": true
   },
   "outputs": [],
   "source": [
    "# import cv2\n",
    "plt.imread('bam.jpg')/255"
   ]
  },
  {
   "cell_type": "code",
   "execution_count": 5,
   "metadata": {},
   "outputs": [
    {
     "data": {
      "text/plain": [
       "array(['GoodGoal', 'DeathZone', 'Cardbox2', 'Agent', 'Wall', 'Ramp',\n",
       "       'Cardbox1', 'UObject', 'LObject2', 'LObject', 'WallTransparent',\n",
       "       'GoodGoalMulti', 'CylinderTunnel', 'CylinderTunnelTransparent'],\n",
       "      dtype=object)"
      ]
     },
     "execution_count": 5,
     "metadata": {},
     "output_type": "execute_result"
    }
   ],
   "source": [
    "df['item_type'].unique()"
   ]
  },
  {
   "cell_type": "code",
   "execution_count": null,
   "metadata": {
    "collapsed": true
   },
   "outputs": [],
   "source": [
    "import cv2\n",
    "import numpy as np\n",
    "\n",
    "# Config\n",
    "class BGR:\n",
    "    black = (0,0,0)\n",
    "    grey =  \\\n",
    "    (128, 128, 128)\n",
    "\n",
    "\n",
    "class HSV:\n",
    "    \"\"\"Color lower and upper bounds in HSV format\"\"\"\n",
    "\n",
    "    @classmethod\n",
    "    def __getattribute__(cls,attr):\n",
    "        return [np.array(i) for i in getattr(cls, attr)]\n",
    "\n",
    "    green = [[33,80,40], [102,255,255]]\n",
    "    # red = [[0,181,0], [6,255,255]]\n",
    "    # red = [[0,184,0], [179,208,217]]\n",
    "    red = [[125,16,88], [179,255,255]]\n",
    "\n",
    "    brown = [[7,53,40], [18,87,121]]\n",
    "\n",
    "hsv_cls = HSV()\n",
    "objects = {\n",
    "    'goal': hsv_cls.green,\n",
    "    # 'danger_zone': hsv_cls.red,\n",
    "    # 'tool': hsv_cls.brown\n",
    "}\n",
    "\n",
    "class FeatureExtractor:\n",
    "    \n",
    "    def __init__(self):\n",
    "        self.img = None\n",
    "        self.hsv_img = None\n",
    "\n",
    "    def get_contour(self, hsv):\n",
    "        # Config\n",
    "        kernel_open=np.ones((5,5))\n",
    "        kernel_close=np.ones((20,20))\n",
    "\n",
    "        # Apply mask to get contour\n",
    "        mask = cv2.inRange(self.hsv_img, hsv[0], hsv[1])\n",
    "        mask_open = cv2.morphologyEx(mask,cv2.MORPH_OPEN,kernel_open)\n",
    "        mask_close = cv2.morphologyEx(mask_open,cv2.MORPH_CLOSE,kernel_close)\n",
    "        ctr,hier = cv2.findContours(mask_close.copy(),cv2.RETR_TREE,cv2.CHAIN_APPROX_NONE)\n",
    "        print(len(hier))\n",
    "        if not ctr:\n",
    "            return None, hier\n",
    "        return ctr, hier\n",
    "\n",
    "    def draw_contour(self, ctr, obj):\n",
    "        if obj in ['goal']: # TODO get rid of this hackiness\n",
    "            # cv2.drawContours(self.img,ctr,0,BGR.black,2)\n",
    "            return ctr\n",
    "        else:\n",
    "            hull = np.zeros((0, 1, 2), np.int32)\n",
    "            for i in range(len(ctr)):\n",
    "                hull = np.concatenate((hull, ctr[i]), axis=0)\n",
    "            hull = cv2.convexHull(hull, False)\n",
    "            # cv2.drawContours(self.img,[hull],-1,BGR.black,2)\n",
    "            return [hull]\n",
    "\n",
    "    def process_contour(self, ctr):\n",
    "        # Fixed horizontal rectangle\n",
    "        x,y,w,h = cv2.boundingRect(ctr[0])\n",
    "        cv2.rectangle(self.img,(x,y),(x+w,y+h),(0,255,0),2)\n",
    "        # Rotated rectangle\n",
    "        # rect = cv2.minAreaRect(ctr[0])\n",
    "        # box = cv2.boxPoints(rect)\n",
    "        # box = np.int0(box)\n",
    "        # cv2.drawContours(self.img,[box],0,(0,0,255),2)\n",
    "        # res = {'x':x, 'y':y, 'w':w, 'h':h}\n",
    "        # return nt('coords', list(res.keys()))(**res)\n",
    "        res = [x,y,w,h]\n",
    "        return res\n",
    "\n",
    "    def run(self, img):\n",
    "        # Preprocessing numpy array to be in cv BGR and scaled format\n",
    "        img = cv2.cvtColor((img*255).astype('uint8'), cv2.COLOR_RGB2BGR)\n",
    "        setattr(self, 'img', img)\n",
    "        setattr(self, 'hsv_img', cv2.cvtColor(self.img, cv2.COLOR_BGR2HSV))\n",
    "\n",
    "\n",
    "        features = {}\n",
    "        for obj, hsv_clr in objects.items():\n",
    "            ctr, hier = self.get_contour(hsv_clr)\n",
    "            if ctr is None:\n",
    "                features[obj] = [0,0,0,0]\n",
    "                continue\n",
    "            ctr = self.draw_contour(ctr, obj)\n",
    "            coords = self.process_contour(ctr)\n",
    "            features[obj] = coords\n",
    "\n",
    "\n",
    "        return features\n"
   ]
  },
  {
   "cell_type": "code",
   "execution_count": null,
   "metadata": {
    "collapsed": true
   },
   "outputs": [],
   "source": [
    "from matplotlib import pyplot as plt\n",
    "# a1 = np.random.choice([0,1,2])\n",
    "# a2 = np.random.choice([0,1,2])\n",
    "x = env.step({'Learner':(0,0\n",
    "                        )})\n",
    "# img1 = x[0][0].astype('float32')\n",
    "\n",
    "# img2 = cv2.imread('test5.jpg')\n",
    "fe = FeatureExtractor()\n",
    "res = fe.run(x[0][0])\n",
    "fig = plt.imshow(fe.img)\n",
    "# fig = plt.imshow((x[0][0]*255).astype('uint8'))\n",
    "plt.show()\n",
    "res"
   ]
  },
  {
   "cell_type": "code",
   "execution_count": null,
   "metadata": {
    "collapsed": true
   },
   "outputs": [],
   "source": [
    "# img2 = cv2.imread('test3.jpg')\n",
    "# img1 = cv2.resize(img1, (84,84))\n",
    "# img2 = cv2.imread('ba.jpg')\n",
    "ef = ExtractFeatures()\n",
    "res = ef.run((x*255).astype('uint8'))\n",
    "res"
   ]
  },
  {
   "cell_type": "code",
   "execution_count": null,
   "metadata": {
    "collapsed": true
   },
   "outputs": [],
   "source": [
    "import sys\n",
    "import random\n",
    "import os\n",
    "from animalai.envs.arena_config import ArenaConfig\n",
    "from animalai.envs.environment import AnimalAIEnvironment\n",
    "\n",
    "\n",
    "# if __name__ == \"__main__\":\n",
    "#     if len(sys.argv) > 1:\n",
    "#         configuration_file = sys.argv[1]\n",
    "#     else:\n",
    "competition_folder = \"../competition_configurations/\"\n",
    "configuration_files = os.listdir(competition_folder)\n",
    "configuration_random = random.randint(0, len(configuration_files))\n",
    "configuration_file = (\n",
    "    competition_folder + configuration_files[configuration_random]\n",
    ")\n",
    "env_path = \"../env/AnimalAI\"\n",
    "port = 5005 + random.randint(\n",
    "    0, 100\n",
    ")  # use a random port to allow relaunching the script rapidly\n",
    "configuration = ArenaConfig(configuration_file)\n",
    "# load_config_and_play(configuration_file=configuration_file)\n",
    "environment = AnimalAIEnvironment(\n",
    "    file_name=env_path,\n",
    "    base_port=port,\n",
    "    arenas_configurations=configuration,\n",
    "    play=True,\n",
    ")"
   ]
  },
  {
   "cell_type": "code",
   "execution_count": null,
   "metadata": {
    "collapsed": true
   },
   "outputs": [],
   "source": [
    "import os\n",
    "import yaml\n",
    "competition_envs = os.listdir('../competition_configurations/')\n",
    "tool_use = [i for i in competition_envs if i[:2]=='10']\n",
    "spatial_elim = [i for i in competition_envs if i[0]=='5']\n",
    "len(spatial_elim)"
   ]
  },
  {
   "cell_type": "code",
   "execution_count": null,
   "metadata": {
    "collapsed": true
   },
   "outputs": [],
   "source": [
    "import numpy as np\n",
    "def compile_arena_configs(arena_paths, task_type='tool_use'):\n",
    "    res = []\n",
    "    for arena_path in arena_paths:\n",
    "        yaml_path = f'../competition_configurations/{arena_path}'\n",
    "        ac = ArenaConfig(yaml_path)\n",
    "        arena = ac.to_proto().arenas[0]\n",
    "        for c1, item in enumerate(arena.items):\n",
    "            name = item.name\n",
    "            for c2, sub_item in enumerate(item.positions):\n",
    "                sub_res = [task_type, arena_path,\n",
    "                          f'{c1}.{c2}',\n",
    "                           name,\n",
    "                            sub_item.x, sub_item.y, sub_item.z]\n",
    "                if item.colors:\n",
    "                    sub_res += [\n",
    "                        item.colors[c2].x,\n",
    "                        item.colors[c2].y,\n",
    "                        item.colors[c2].z]\n",
    "                else:\n",
    "                    sub_res += [np.nan, np.nan, np.nan]\n",
    "                if item.rotations:\n",
    "                    sub_res += [item.rotations[c2]]\n",
    "                else:\n",
    "                    sub_res += [np.nan]\n",
    "                if item.sizes:\n",
    "                    sub_res += [item.sizes[c2].x, item.sizes[c2].y, item.sizes[c2].z]\n",
    "                else:\n",
    "                    sub_res += [np.nan]\n",
    "\n",
    "                res.append(sub_res)\n",
    "    cols = [\n",
    "        'task', 'arena_id', 'item_id', 'item_type',\n",
    "        'pos_x', 'pos_y', 'pos_z',\n",
    "        'r', 'g', 'b',\n",
    "        'rotation',\n",
    "        'size_x', 'size_y', 'size_z']\n",
    "    df = pd.DataFrame(res, columns=cols)\n",
    "    return df\n"
   ]
  },
  {
   "cell_type": "code",
   "execution_count": null,
   "metadata": {
    "collapsed": true,
    "scrolled": true
   },
   "outputs": [],
   "source": [
    "import pandas as pd\n",
    "\n",
    "df = compile_arena_configs(tool_use, 'tool_use')\n",
    "# df = df.append(compile_arena_configs(spatial_elim, 'spatial_elim'))\n",
    "# arena ../competition_configurations/5-13-1.yml has no agent, skipping\n",
    "# arena ../competition_configurations/5-13-2.yml has no agent, skipping\n",
    "# arena ../competition_configurations/5-13-3.yml has no agent, skipping\n",
    "# arena ../competition_configurations/5-14-1.yml has no agent, skipping\n",
    "# arena ../competition_configurations/5-14-2.yml has no agent, skipping\n",
    "# arena ../competition_configurations/5-14-3.yml has no agent, skipping\n",
    "# arena ../competition_configurations/5-15-1.yml has no agent, skipping\n",
    "# arena ../competition_configurations/5-15-2.yml has no agent, skipping\n",
    "# arena ../competition_configurations/5-15-3.yml has no agent, skipping"
   ]
  },
  {
   "cell_type": "code",
   "execution_count": null,
   "metadata": {
    "collapsed": true
   },
   "outputs": [],
   "source": [
    "df[df['item_type']=='Agent'][['pos_x', 'pos_y', 'pos_z']]"
   ]
  },
  {
   "cell_type": "code",
   "execution_count": null,
   "metadata": {
    "collapsed": true
   },
   "outputs": [],
   "source": [
    "from animalai.envs.gym.environment import AnimalAIGym\n",
    "import random\n",
    "from animalai.envs.arena_config import ArenaConfig\n",
    "\n",
    "\n",
    "env_path = '../env/AnimalAI'\n",
    "worker_id = random.randint(1, 100)\n",
    "arena_path = \"../competition_configurations/10-1-1.yml\" #'configurations/curriculum/0.yaml'\n",
    "arena_config = ArenaConfig(arena_path)\n",
    "run_id = f'neuro_{worker_id}'\n",
    "model_path = f'./models/{run_id}'\n",
    "save_freq = 5000\n",
    "seed = 1\n",
    "trainer_config = {\n",
    "            'episode_length': 1000,\n",
    "            'batch_size': 128,\n",
    "            't_network_update_rate': 50,\n",
    "            'dqn': {\n",
    "                'gamma':0.9,\n",
    "                'learning_rate': 0.001\n",
    "            },\n",
    "            'delta': 3e-5,\n",
    "            'slow_delta': 2e-5, # For when epsilon is under 0.1\n",
    "            'buffer': {\n",
    "                'alpha': 0.7,\n",
    "                'eps': 10e-4\n",
    "            }\n",
    "        }"
   ]
  },
  {
   "cell_type": "code",
   "execution_count": 12,
   "metadata": {},
   "outputs": [
    {
     "name": "stdout",
     "output_type": "stream",
     "text": [
      "{\"Agent\",\n",
      " \"Cardbox1\",\n",
      " \"Cardbox2\",\n",
      " \"CylinderTunnel\",\n",
      " \"CylinderTunnelTransparent\",\n",
      " \"DeathZone\",\n",
      " \"GoodGoal\",\n",
      " \"GoodGoalMulti\",\n",
      " \"LObject\",\n",
      " \"LObject2\",\n",
      " \"Ramp\",\n",
      " \"UObject\",\n",
      " \"Wall\",\n",
      " \"WallTransparent\"}\n"
     ]
    }
   ],
   "source": [
    "import random\n",
    "x = [\"GoodGoal\", 'DeathZone', 'Cardbox2', 'Agent', 'Wall', 'Ramp',\n",
    "       'Cardbox1', 'UObject', 'LObject2', 'LObject', 'WallTransparent',\n",
    "       'GoodGoalMulti', 'CylinderTunnel', 'CylinderTunnelTransparent']\n",
    "# {k:0 for k in x}\n",
    "set(f\"{i}\" for i in x)\n",
    "print(\"\"\"{'Agent',\n",
    " 'Cardbox1',\n",
    " 'Cardbox2',\n",
    " 'CylinderTunnel',\n",
    " 'CylinderTunnelTransparent',\n",
    " 'DeathZone',\n",
    " 'GoodGoal',\n",
    " 'GoodGoalMulti',\n",
    " 'LObject',\n",
    " 'LObject2',\n",
    " 'Ramp',\n",
    " 'UObject',\n",
    " 'Wall',\n",
    " 'WallTransparent'}\"\"\".replace(\"'\", '\"'))"
   ]
  },
  {
   "cell_type": "code",
   "execution_count": 36,
   "metadata": {
    "scrolled": true
   },
   "outputs": [
    {
     "name": "stdout",
     "output_type": "stream",
     "text": [
      "GoodGoal\n"
     ]
    },
    {
     "data": {
      "text/html": [
       "<div>\n",
       "<style scoped>\n",
       "    .dataframe tbody tr th:only-of-type {\n",
       "        vertical-align: middle;\n",
       "    }\n",
       "\n",
       "    .dataframe tbody tr th {\n",
       "        vertical-align: top;\n",
       "    }\n",
       "\n",
       "    .dataframe thead th {\n",
       "        text-align: right;\n",
       "    }\n",
       "</style>\n",
       "<table border=\"1\" class=\"dataframe\">\n",
       "  <thead>\n",
       "    <tr style=\"text-align: right;\">\n",
       "      <th></th>\n",
       "      <th>size_x</th>\n",
       "      <th>size_y</th>\n",
       "      <th>size_z</th>\n",
       "    </tr>\n",
       "  </thead>\n",
       "  <tbody>\n",
       "    <tr>\n",
       "      <th>min</th>\n",
       "      <td>0.5</td>\n",
       "      <td>0.5</td>\n",
       "      <td>0.5</td>\n",
       "    </tr>\n",
       "    <tr>\n",
       "      <th>max</th>\n",
       "      <td>1.0</td>\n",
       "      <td>2.0</td>\n",
       "      <td>1.0</td>\n",
       "    </tr>\n",
       "  </tbody>\n",
       "</table>\n",
       "</div>"
      ],
      "text/plain": [
       "     size_x  size_y  size_z\n",
       "min     0.5     0.5     0.5\n",
       "max     1.0     2.0     1.0"
      ]
     },
     "metadata": {},
     "output_type": "display_data"
    },
    {
     "name": "stdout",
     "output_type": "stream",
     "text": [
      "DeathZone\n"
     ]
    },
    {
     "data": {
      "text/html": [
       "<div>\n",
       "<style scoped>\n",
       "    .dataframe tbody tr th:only-of-type {\n",
       "        vertical-align: middle;\n",
       "    }\n",
       "\n",
       "    .dataframe tbody tr th {\n",
       "        vertical-align: top;\n",
       "    }\n",
       "\n",
       "    .dataframe thead th {\n",
       "        text-align: right;\n",
       "    }\n",
       "</style>\n",
       "<table border=\"1\" class=\"dataframe\">\n",
       "  <thead>\n",
       "    <tr style=\"text-align: right;\">\n",
       "      <th></th>\n",
       "      <th>size_x</th>\n",
       "      <th>size_y</th>\n",
       "      <th>size_z</th>\n",
       "    </tr>\n",
       "  </thead>\n",
       "  <tbody>\n",
       "    <tr>\n",
       "      <th>min</th>\n",
       "      <td>2.000000</td>\n",
       "      <td>0.0</td>\n",
       "      <td>0.990000</td>\n",
       "    </tr>\n",
       "    <tr>\n",
       "      <th>max</th>\n",
       "      <td>39.900002</td>\n",
       "      <td>0.0</td>\n",
       "      <td>39.990002</td>\n",
       "    </tr>\n",
       "  </tbody>\n",
       "</table>\n",
       "</div>"
      ],
      "text/plain": [
       "        size_x  size_y     size_z\n",
       "min   2.000000     0.0   0.990000\n",
       "max  39.900002     0.0  39.990002"
      ]
     },
     "metadata": {},
     "output_type": "display_data"
    },
    {
     "name": "stdout",
     "output_type": "stream",
     "text": [
      "Cardbox2\n"
     ]
    },
    {
     "data": {
      "text/html": [
       "<div>\n",
       "<style scoped>\n",
       "    .dataframe tbody tr th:only-of-type {\n",
       "        vertical-align: middle;\n",
       "    }\n",
       "\n",
       "    .dataframe tbody tr th {\n",
       "        vertical-align: top;\n",
       "    }\n",
       "\n",
       "    .dataframe thead th {\n",
       "        text-align: right;\n",
       "    }\n",
       "</style>\n",
       "<table border=\"1\" class=\"dataframe\">\n",
       "  <thead>\n",
       "    <tr style=\"text-align: right;\">\n",
       "      <th></th>\n",
       "      <th>size_x</th>\n",
       "      <th>size_y</th>\n",
       "      <th>size_z</th>\n",
       "    </tr>\n",
       "  </thead>\n",
       "  <tbody>\n",
       "    <tr>\n",
       "      <th>min</th>\n",
       "      <td>1.5</td>\n",
       "      <td>0.5</td>\n",
       "      <td>0.8</td>\n",
       "    </tr>\n",
       "    <tr>\n",
       "      <th>max</th>\n",
       "      <td>10.0</td>\n",
       "      <td>3.0</td>\n",
       "      <td>5.0</td>\n",
       "    </tr>\n",
       "  </tbody>\n",
       "</table>\n",
       "</div>"
      ],
      "text/plain": [
       "     size_x  size_y  size_z\n",
       "min     1.5     0.5     0.8\n",
       "max    10.0     3.0     5.0"
      ]
     },
     "metadata": {},
     "output_type": "display_data"
    },
    {
     "name": "stdout",
     "output_type": "stream",
     "text": [
      "Agent\n"
     ]
    },
    {
     "data": {
      "text/html": [
       "<div>\n",
       "<style scoped>\n",
       "    .dataframe tbody tr th:only-of-type {\n",
       "        vertical-align: middle;\n",
       "    }\n",
       "\n",
       "    .dataframe tbody tr th {\n",
       "        vertical-align: top;\n",
       "    }\n",
       "\n",
       "    .dataframe thead th {\n",
       "        text-align: right;\n",
       "    }\n",
       "</style>\n",
       "<table border=\"1\" class=\"dataframe\">\n",
       "  <thead>\n",
       "    <tr style=\"text-align: right;\">\n",
       "      <th></th>\n",
       "      <th>size_x</th>\n",
       "      <th>size_y</th>\n",
       "      <th>size_z</th>\n",
       "    </tr>\n",
       "  </thead>\n",
       "  <tbody>\n",
       "    <tr>\n",
       "      <th>min</th>\n",
       "      <td>NaN</td>\n",
       "      <td>NaN</td>\n",
       "      <td>NaN</td>\n",
       "    </tr>\n",
       "    <tr>\n",
       "      <th>max</th>\n",
       "      <td>NaN</td>\n",
       "      <td>NaN</td>\n",
       "      <td>NaN</td>\n",
       "    </tr>\n",
       "  </tbody>\n",
       "</table>\n",
       "</div>"
      ],
      "text/plain": [
       "     size_x  size_y  size_z\n",
       "min     NaN     NaN     NaN\n",
       "max     NaN     NaN     NaN"
      ]
     },
     "metadata": {},
     "output_type": "display_data"
    },
    {
     "name": "stdout",
     "output_type": "stream",
     "text": [
      "Wall\n"
     ]
    },
    {
     "data": {
      "text/html": [
       "<div>\n",
       "<style scoped>\n",
       "    .dataframe tbody tr th:only-of-type {\n",
       "        vertical-align: middle;\n",
       "    }\n",
       "\n",
       "    .dataframe tbody tr th {\n",
       "        vertical-align: top;\n",
       "    }\n",
       "\n",
       "    .dataframe thead th {\n",
       "        text-align: right;\n",
       "    }\n",
       "</style>\n",
       "<table border=\"1\" class=\"dataframe\">\n",
       "  <thead>\n",
       "    <tr style=\"text-align: right;\">\n",
       "      <th></th>\n",
       "      <th>size_x</th>\n",
       "      <th>size_y</th>\n",
       "      <th>size_z</th>\n",
       "    </tr>\n",
       "  </thead>\n",
       "  <tbody>\n",
       "    <tr>\n",
       "      <th>min</th>\n",
       "      <td>0.1</td>\n",
       "      <td>0.1</td>\n",
       "      <td>0.1</td>\n",
       "    </tr>\n",
       "    <tr>\n",
       "      <th>max</th>\n",
       "      <td>40.0</td>\n",
       "      <td>5.0</td>\n",
       "      <td>40.0</td>\n",
       "    </tr>\n",
       "  </tbody>\n",
       "</table>\n",
       "</div>"
      ],
      "text/plain": [
       "     size_x  size_y  size_z\n",
       "min     0.1     0.1     0.1\n",
       "max    40.0     5.0    40.0"
      ]
     },
     "metadata": {},
     "output_type": "display_data"
    },
    {
     "name": "stdout",
     "output_type": "stream",
     "text": [
      "Ramp\n"
     ]
    },
    {
     "data": {
      "text/html": [
       "<div>\n",
       "<style scoped>\n",
       "    .dataframe tbody tr th:only-of-type {\n",
       "        vertical-align: middle;\n",
       "    }\n",
       "\n",
       "    .dataframe tbody tr th {\n",
       "        vertical-align: top;\n",
       "    }\n",
       "\n",
       "    .dataframe thead th {\n",
       "        text-align: right;\n",
       "    }\n",
       "</style>\n",
       "<table border=\"1\" class=\"dataframe\">\n",
       "  <thead>\n",
       "    <tr style=\"text-align: right;\">\n",
       "      <th></th>\n",
       "      <th>size_x</th>\n",
       "      <th>size_y</th>\n",
       "      <th>size_z</th>\n",
       "    </tr>\n",
       "  </thead>\n",
       "  <tbody>\n",
       "    <tr>\n",
       "      <th>min</th>\n",
       "      <td>3.9</td>\n",
       "      <td>0.5</td>\n",
       "      <td>1.0</td>\n",
       "    </tr>\n",
       "    <tr>\n",
       "      <th>max</th>\n",
       "      <td>5.0</td>\n",
       "      <td>1.5</td>\n",
       "      <td>10.0</td>\n",
       "    </tr>\n",
       "  </tbody>\n",
       "</table>\n",
       "</div>"
      ],
      "text/plain": [
       "     size_x  size_y  size_z\n",
       "min     3.9     0.5     1.0\n",
       "max     5.0     1.5    10.0"
      ]
     },
     "metadata": {},
     "output_type": "display_data"
    },
    {
     "name": "stdout",
     "output_type": "stream",
     "text": [
      "Cardbox1\n"
     ]
    },
    {
     "data": {
      "text/html": [
       "<div>\n",
       "<style scoped>\n",
       "    .dataframe tbody tr th:only-of-type {\n",
       "        vertical-align: middle;\n",
       "    }\n",
       "\n",
       "    .dataframe tbody tr th {\n",
       "        vertical-align: top;\n",
       "    }\n",
       "\n",
       "    .dataframe thead th {\n",
       "        text-align: right;\n",
       "    }\n",
       "</style>\n",
       "<table border=\"1\" class=\"dataframe\">\n",
       "  <thead>\n",
       "    <tr style=\"text-align: right;\">\n",
       "      <th></th>\n",
       "      <th>size_x</th>\n",
       "      <th>size_y</th>\n",
       "      <th>size_z</th>\n",
       "    </tr>\n",
       "  </thead>\n",
       "  <tbody>\n",
       "    <tr>\n",
       "      <th>min</th>\n",
       "      <td>0.2</td>\n",
       "      <td>0.5</td>\n",
       "      <td>0.2</td>\n",
       "    </tr>\n",
       "    <tr>\n",
       "      <th>max</th>\n",
       "      <td>3.0</td>\n",
       "      <td>5.0</td>\n",
       "      <td>4.5</td>\n",
       "    </tr>\n",
       "  </tbody>\n",
       "</table>\n",
       "</div>"
      ],
      "text/plain": [
       "     size_x  size_y  size_z\n",
       "min     0.2     0.5     0.2\n",
       "max     3.0     5.0     4.5"
      ]
     },
     "metadata": {},
     "output_type": "display_data"
    },
    {
     "name": "stdout",
     "output_type": "stream",
     "text": [
      "UObject\n"
     ]
    },
    {
     "data": {
      "text/html": [
       "<div>\n",
       "<style scoped>\n",
       "    .dataframe tbody tr th:only-of-type {\n",
       "        vertical-align: middle;\n",
       "    }\n",
       "\n",
       "    .dataframe tbody tr th {\n",
       "        vertical-align: top;\n",
       "    }\n",
       "\n",
       "    .dataframe thead th {\n",
       "        text-align: right;\n",
       "    }\n",
       "</style>\n",
       "<table border=\"1\" class=\"dataframe\">\n",
       "  <thead>\n",
       "    <tr style=\"text-align: right;\">\n",
       "      <th></th>\n",
       "      <th>size_x</th>\n",
       "      <th>size_y</th>\n",
       "      <th>size_z</th>\n",
       "    </tr>\n",
       "  </thead>\n",
       "  <tbody>\n",
       "    <tr>\n",
       "      <th>min</th>\n",
       "      <td>1.0</td>\n",
       "      <td>0.5</td>\n",
       "      <td>10.0</td>\n",
       "    </tr>\n",
       "    <tr>\n",
       "      <th>max</th>\n",
       "      <td>10.0</td>\n",
       "      <td>2.0</td>\n",
       "      <td>10.0</td>\n",
       "    </tr>\n",
       "  </tbody>\n",
       "</table>\n",
       "</div>"
      ],
      "text/plain": [
       "     size_x  size_y  size_z\n",
       "min     1.0     0.5    10.0\n",
       "max    10.0     2.0    10.0"
      ]
     },
     "metadata": {},
     "output_type": "display_data"
    },
    {
     "name": "stdout",
     "output_type": "stream",
     "text": [
      "LObject2\n"
     ]
    },
    {
     "data": {
      "text/html": [
       "<div>\n",
       "<style scoped>\n",
       "    .dataframe tbody tr th:only-of-type {\n",
       "        vertical-align: middle;\n",
       "    }\n",
       "\n",
       "    .dataframe tbody tr th {\n",
       "        vertical-align: top;\n",
       "    }\n",
       "\n",
       "    .dataframe thead th {\n",
       "        text-align: right;\n",
       "    }\n",
       "</style>\n",
       "<table border=\"1\" class=\"dataframe\">\n",
       "  <thead>\n",
       "    <tr style=\"text-align: right;\">\n",
       "      <th></th>\n",
       "      <th>size_x</th>\n",
       "      <th>size_y</th>\n",
       "      <th>size_z</th>\n",
       "    </tr>\n",
       "  </thead>\n",
       "  <tbody>\n",
       "    <tr>\n",
       "      <th>min</th>\n",
       "      <td>5.0</td>\n",
       "      <td>1.0</td>\n",
       "      <td>4.0</td>\n",
       "    </tr>\n",
       "    <tr>\n",
       "      <th>max</th>\n",
       "      <td>10.0</td>\n",
       "      <td>1.0</td>\n",
       "      <td>10.0</td>\n",
       "    </tr>\n",
       "  </tbody>\n",
       "</table>\n",
       "</div>"
      ],
      "text/plain": [
       "     size_x  size_y  size_z\n",
       "min     5.0     1.0     4.0\n",
       "max    10.0     1.0    10.0"
      ]
     },
     "metadata": {},
     "output_type": "display_data"
    },
    {
     "name": "stdout",
     "output_type": "stream",
     "text": [
      "LObject\n"
     ]
    },
    {
     "data": {
      "text/html": [
       "<div>\n",
       "<style scoped>\n",
       "    .dataframe tbody tr th:only-of-type {\n",
       "        vertical-align: middle;\n",
       "    }\n",
       "\n",
       "    .dataframe tbody tr th {\n",
       "        vertical-align: top;\n",
       "    }\n",
       "\n",
       "    .dataframe thead th {\n",
       "        text-align: right;\n",
       "    }\n",
       "</style>\n",
       "<table border=\"1\" class=\"dataframe\">\n",
       "  <thead>\n",
       "    <tr style=\"text-align: right;\">\n",
       "      <th></th>\n",
       "      <th>size_x</th>\n",
       "      <th>size_y</th>\n",
       "      <th>size_z</th>\n",
       "    </tr>\n",
       "  </thead>\n",
       "  <tbody>\n",
       "    <tr>\n",
       "      <th>min</th>\n",
       "      <td>5.0</td>\n",
       "      <td>1.0</td>\n",
       "      <td>4.0</td>\n",
       "    </tr>\n",
       "    <tr>\n",
       "      <th>max</th>\n",
       "      <td>10.0</td>\n",
       "      <td>1.0</td>\n",
       "      <td>10.0</td>\n",
       "    </tr>\n",
       "  </tbody>\n",
       "</table>\n",
       "</div>"
      ],
      "text/plain": [
       "     size_x  size_y  size_z\n",
       "min     5.0     1.0     4.0\n",
       "max    10.0     1.0    10.0"
      ]
     },
     "metadata": {},
     "output_type": "display_data"
    },
    {
     "name": "stdout",
     "output_type": "stream",
     "text": [
      "WallTransparent\n"
     ]
    },
    {
     "data": {
      "text/html": [
       "<div>\n",
       "<style scoped>\n",
       "    .dataframe tbody tr th:only-of-type {\n",
       "        vertical-align: middle;\n",
       "    }\n",
       "\n",
       "    .dataframe tbody tr th {\n",
       "        vertical-align: top;\n",
       "    }\n",
       "\n",
       "    .dataframe thead th {\n",
       "        text-align: right;\n",
       "    }\n",
       "</style>\n",
       "<table border=\"1\" class=\"dataframe\">\n",
       "  <thead>\n",
       "    <tr style=\"text-align: right;\">\n",
       "      <th></th>\n",
       "      <th>size_x</th>\n",
       "      <th>size_y</th>\n",
       "      <th>size_z</th>\n",
       "    </tr>\n",
       "  </thead>\n",
       "  <tbody>\n",
       "    <tr>\n",
       "      <th>min</th>\n",
       "      <td>1.0</td>\n",
       "      <td>0.1</td>\n",
       "      <td>1.0</td>\n",
       "    </tr>\n",
       "    <tr>\n",
       "      <th>max</th>\n",
       "      <td>35.0</td>\n",
       "      <td>5.0</td>\n",
       "      <td>10.0</td>\n",
       "    </tr>\n",
       "  </tbody>\n",
       "</table>\n",
       "</div>"
      ],
      "text/plain": [
       "     size_x  size_y  size_z\n",
       "min     1.0     0.1     1.0\n",
       "max    35.0     5.0    10.0"
      ]
     },
     "metadata": {},
     "output_type": "display_data"
    },
    {
     "name": "stdout",
     "output_type": "stream",
     "text": [
      "GoodGoalMulti\n"
     ]
    },
    {
     "data": {
      "text/html": [
       "<div>\n",
       "<style scoped>\n",
       "    .dataframe tbody tr th:only-of-type {\n",
       "        vertical-align: middle;\n",
       "    }\n",
       "\n",
       "    .dataframe tbody tr th {\n",
       "        vertical-align: top;\n",
       "    }\n",
       "\n",
       "    .dataframe thead th {\n",
       "        text-align: right;\n",
       "    }\n",
       "</style>\n",
       "<table border=\"1\" class=\"dataframe\">\n",
       "  <thead>\n",
       "    <tr style=\"text-align: right;\">\n",
       "      <th></th>\n",
       "      <th>size_x</th>\n",
       "      <th>size_y</th>\n",
       "      <th>size_z</th>\n",
       "    </tr>\n",
       "  </thead>\n",
       "  <tbody>\n",
       "    <tr>\n",
       "      <th>min</th>\n",
       "      <td>1.0</td>\n",
       "      <td>1.0</td>\n",
       "      <td>1.0</td>\n",
       "    </tr>\n",
       "    <tr>\n",
       "      <th>max</th>\n",
       "      <td>1.0</td>\n",
       "      <td>1.0</td>\n",
       "      <td>1.0</td>\n",
       "    </tr>\n",
       "  </tbody>\n",
       "</table>\n",
       "</div>"
      ],
      "text/plain": [
       "     size_x  size_y  size_z\n",
       "min     1.0     1.0     1.0\n",
       "max     1.0     1.0     1.0"
      ]
     },
     "metadata": {},
     "output_type": "display_data"
    },
    {
     "name": "stdout",
     "output_type": "stream",
     "text": [
      "CylinderTunnel\n"
     ]
    },
    {
     "data": {
      "text/html": [
       "<div>\n",
       "<style scoped>\n",
       "    .dataframe tbody tr th:only-of-type {\n",
       "        vertical-align: middle;\n",
       "    }\n",
       "\n",
       "    .dataframe tbody tr th {\n",
       "        vertical-align: top;\n",
       "    }\n",
       "\n",
       "    .dataframe thead th {\n",
       "        text-align: right;\n",
       "    }\n",
       "</style>\n",
       "<table border=\"1\" class=\"dataframe\">\n",
       "  <thead>\n",
       "    <tr style=\"text-align: right;\">\n",
       "      <th></th>\n",
       "      <th>size_x</th>\n",
       "      <th>size_y</th>\n",
       "      <th>size_z</th>\n",
       "    </tr>\n",
       "  </thead>\n",
       "  <tbody>\n",
       "    <tr>\n",
       "      <th>min</th>\n",
       "      <td>4.0</td>\n",
       "      <td>4.0</td>\n",
       "      <td>5.0</td>\n",
       "    </tr>\n",
       "    <tr>\n",
       "      <th>max</th>\n",
       "      <td>10.0</td>\n",
       "      <td>10.0</td>\n",
       "      <td>10.0</td>\n",
       "    </tr>\n",
       "  </tbody>\n",
       "</table>\n",
       "</div>"
      ],
      "text/plain": [
       "     size_x  size_y  size_z\n",
       "min     4.0     4.0     5.0\n",
       "max    10.0    10.0    10.0"
      ]
     },
     "metadata": {},
     "output_type": "display_data"
    },
    {
     "name": "stdout",
     "output_type": "stream",
     "text": [
      "CylinderTunnelTransparent\n"
     ]
    },
    {
     "data": {
      "text/html": [
       "<div>\n",
       "<style scoped>\n",
       "    .dataframe tbody tr th:only-of-type {\n",
       "        vertical-align: middle;\n",
       "    }\n",
       "\n",
       "    .dataframe tbody tr th {\n",
       "        vertical-align: top;\n",
       "    }\n",
       "\n",
       "    .dataframe thead th {\n",
       "        text-align: right;\n",
       "    }\n",
       "</style>\n",
       "<table border=\"1\" class=\"dataframe\">\n",
       "  <thead>\n",
       "    <tr style=\"text-align: right;\">\n",
       "      <th></th>\n",
       "      <th>size_x</th>\n",
       "      <th>size_y</th>\n",
       "      <th>size_z</th>\n",
       "    </tr>\n",
       "  </thead>\n",
       "  <tbody>\n",
       "    <tr>\n",
       "      <th>min</th>\n",
       "      <td>4.0</td>\n",
       "      <td>4.0</td>\n",
       "      <td>5.0</td>\n",
       "    </tr>\n",
       "    <tr>\n",
       "      <th>max</th>\n",
       "      <td>10.0</td>\n",
       "      <td>10.0</td>\n",
       "      <td>10.0</td>\n",
       "    </tr>\n",
       "  </tbody>\n",
       "</table>\n",
       "</div>"
      ],
      "text/plain": [
       "     size_x  size_y  size_z\n",
       "min     4.0     4.0     5.0\n",
       "max    10.0    10.0    10.0"
      ]
     },
     "metadata": {},
     "output_type": "display_data"
    }
   ],
   "source": [
    "for i in x:\n",
    "    print(i)\n",
    "    display(df[df['item_type']==i][['size_x', 'size_y', 'size_z']].describe().loc[['min', 'max']])"
   ]
  },
  {
   "cell_type": "code",
   "execution_count": null,
   "metadata": {
    "collapsed": true
   },
   "outputs": [],
   "source": []
  },
  {
   "cell_type": "code",
   "execution_count": null,
   "metadata": {
    "collapsed": true
   },
   "outputs": [],
   "source": [
    "import random\n",
    "sample_objects = lambda: random.sample(obj_types, random.randint(2,7))\n",
    "vector = lambda x,y,z: f'      - !Vector3 {x: {x}, y: {y}, z: {z}}'\n",
    "def yaml_writer():\n",
    "    pass\n",
    "size_mapping = {\n",
    "    'GoodGoal': [0.5, 4],\n",
    "     'DeathZone': [1, 39],\n",
    "     'Cardbox2': [1, 10],\n",
    "     'Agent': [1, 1],\n",
    "     'Wall': [0.1, 40],\n",
    "     'Ramp': [1, 10],\n",
    "     'Cardbox1': [1, 10],\n",
    "     'UObject': [1, 10],\n",
    "     'LObject2': [4, 10],\n",
    "     'LObject': [4, 10],\n",
    "     'WallTransparent': [1, 35],\n",
    "     'GoodGoalMulti': [1, 1],\n",
    "     'CylinderTunnel': [4, 15],\n",
    "     'CylinderTunnelTransparent': [4, 15]}\n",
    "y_size = {'GoodGoal': lambda: random.randint(0.5, 2),\n",
    " 'DeathZone': 0,\n",
    " 'Cardbox2': lambda: random.randint(0.5, 3),\n",
    " 'Agent': 1,\n",
    " 'Wall': lambda: random.randint(0.1, 5),\n",
    " 'Ramp': lambda: random.randint(0.5, 3),\n",
    " 'Cardbox1': lambda: random.randint(0.5, 5),\n",
    " 'UObject': lambda: random.randint(0.5, 3),\n",
    " 'LObject2': 1,\n",
    " 'LObject': 1,\n",
    " 'WallTransparent': lambda: random.randint(0.1, 5),\n",
    " 'GoodGoalMulti': 1,\n",
    " 'CylinderTunnel': lambda: random.randint(4, 10),\n",
    " 'CylinderTunnelTransparent': lambda: random.randint(4, 10)}\n",
    "def attribute_generator(obj_type):\n",
    "    s_min, s_max = size_mapping[obj_type]\n",
    "#     position = [random.randint(1,35), random.randint(1,35) ,random.randint(1,35)]\n",
    "    size = [random.randint(s_min,s_max), y_size[obj_type], random.randint(s_min,s_max)]\n",
    "    rotation = [random.randint(0,360)]\n",
    "    return position, size, rotation\n",
    "\n",
    "def config_creator():\n",
    "    obj_dict = {}\n",
    "    for obj in sample_objects:\n",
    "        position, size, rotation = attribute_generator(obj)\n",
    "        \n",
    "        obj_dict[obj]['position'] = \n",
    "def overlapping(position, size, rotation):\n",
    "    \n",
    "def create_item():\n",
    "    return position, rotation, size\n",
    "def create_items(objects):\n",
    "    for name, count in objects.items():\n",
    "        items['name'] = [create_item(name) for _ in range(0, count)]\n",
    "items = {\n",
    "    ''\n",
    "}\n",
    "\"\"\"\n",
    "!ArenaConfig\n",
    "arenas:\n",
    "  0: !Arena\n",
    "    pass_mark: -0.1\n",
    "    t: 500\n",
    "    items:\n",
    "    - !Item\n",
    "      name: WallTransparent\n",
    "      positions:\n",
    "      - !Vector3 {x: 13, y: 0, z: 18.5}\n",
    "      - !Vector3 {x: 13, y: 0, z: 21.5}\n",
    "      - !Vector3 {x: 27, y: 0, z: 18.5}\n",
    "      - !Vector3 {x: 27, y: 0, z: 21.5}\n",
    "      - !Vector3 {x: 20, y: 0, z: 18.5}\n",
    "      - !Vector3 {x: 20, y: 0, z: 21.5}\n",
    "      rotations: [0,0,0,0,0,0]\n",
    "      sizes:\n",
    "      - !Vector3 {x: 5, y: 2, z: 2}\n",
    "      - !Vector3 {x: 5, y: 2, z: 2}\n",
    "      - !Vector3 {x: 5, y: 2, z: 2}\n",
    "      - !Vector3 {x: 5, y: 2, z: 2}\n",
    "      - !Vector3 {x: 5, y: 2, z: 2}\n",
    "      - !Vector3 {x: 5, y: 2, z: 2}\n",
    "    - !Item\n",
    "      name: Cardbox2\n",
    "      positions:\n",
    "      - !Vector3 {x: 10.5, y: 0, z: 20}\n",
    "      - !Vector3 {x: 29.5, y: 0, z: 20}\n",
    "      rotations: [0,0]\n",
    "      sizes:\n",
    "      - !Vector3 {x: 10, y: .5, z: 0.8}\n",
    "      - !Vector3 {x: 10, y: .5, z: 0.8}\n",
    "    - !Item\n",
    "      name: DeathZone\n",
    "      positions:\n",
    "      - !Vector3 {x: 20, y: 0, z: 20}\n",
    "      - !Vector3 {x: 16.5, y: 0, z: 20}\n",
    "      rotations: [0,0]\n",
    "      sizes:\n",
    "      - !Vector3 {x: 5, y: 0, z: 1}\n",
    "      - !Vector3 {x: 2, y: 0, z: 5}\n",
    "    - !Item\n",
    "      name: GoodGoal\n",
    "      positions:\n",
    "      - !Vector3 {x: 20, y: 0, z: 20}\n",
    "      sizes:\n",
    "      - !Vector3 {x: 0.9, y: 0.9, z: 0.9}\n",
    "    - !Item\n",
    "      name: Agent\n",
    "      positions:\n",
    "      - !Vector3 {x: 5, y: 0, z: 5}\"\"\""
   ]
  }
 ],
 "metadata": {
  "kernelspec": {
   "display_name": "animalaienv",
   "language": "python",
   "name": "animalaienv"
  },
  "language_info": {
   "codemirror_mode": {
    "name": "ipython",
    "version": 3
   },
   "file_extension": ".py",
   "mimetype": "text/x-python",
   "name": "python",
   "nbconvert_exporter": "python",
   "pygments_lexer": "ipython3",
   "version": "3.6.2"
  }
 },
 "nbformat": 4,
 "nbformat_minor": 2
}
